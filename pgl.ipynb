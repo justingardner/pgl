{
 "cells": [
  {
   "cell_type": "code",
   "execution_count": 1,
   "id": "8df71dd8",
   "metadata": {},
   "outputs": [],
   "source": [
    "#!pip install numpy\n",
    "%load_ext autoreload\n",
    "%autoreload 2\n",
    "#import pgl\n",
    "from pgl import pgl as pglLibrary\n",
    "from pgl import screen as pglScreen\n",
    "from pgl import task as pglTask\n",
    "import numpy as np"
   ]
  },
  {
   "cell_type": "code",
   "execution_count": null,
   "id": "a081bbff",
   "metadata": {},
   "outputs": [
    {
     "name": "stdout",
     "output_type": "stream",
     "text": [
      "(pgl:checkOS) Running on MacBook Pro (MacBookPro18,3) with macOS version: 15.5\n",
      "(pgl:checkOS) Apple M1 Pro Cores: 8 (6 performance and 2 efficiency) Memory: 32 GB\n",
      "(pgl:checkOS) GPU: Apple M1 Pro (Built-In) 14 cores, Metal 3 support\n",
      "(pgl:checkOS)   Color LCD [Main Display]: 3024 x 1964 Retina (Built-in Liquid Retina XDR Display)\n",
      "(pgl:checkOS)   BenQ EX2780Q: 2560 x 1440 (QHD/WQHD - Wide Quad High Definition) (Unknown type)\n",
      "(pglBase) Verbosity level set to 1\n",
      "(pglBase) Main library instance created\n",
      "(pglBase:close) Closing connection to mglMetal application\n",
      "(pgl:_socket) ❌ Error finding PID: Command '['lsof', '-U', '/Users/justin/Library/Containers/gru.mglMetal/Data/pglMetal.socket.OWnGKBkCPp']' returned non-zero exit status 1.\n",
      "(pglBase:close) ❌ Could not find PID of mglMetal application\n",
      "(pglBase) Main library closed\n",
      "(pglBase:open) Starting mglMetal application: /Users/justin/proj/mgl/metal/binary/stable/mglMetal.app\n",
      "(pglBase:open) Using socket with address: /Users/justin/Library/Containers/gru.mglMetal/Data/pglMetal.socket.N6dxVv4mWn\n",
      "(pgl:_socket) ."
     ]
    },
    {
     "name": "stderr",
     "output_type": "stream",
     "text": [
      "lsof: status error on /Users/justin/Library/Containers/gru.mglMetal/Data/pglMetal.socket.OWnGKBkCPp: No such file or directory\n",
      "lsof 4.91\n",
      " latest revision: ftp://lsof.itap.purdue.edu/pub/tools/unix/lsof/\n",
      " latest FAQ: ftp://lsof.itap.purdue.edu/pub/tools/unix/lsof/FAQ\n",
      " latest man page: ftp://lsof.itap.purdue.edu/pub/tools/unix/lsof/lsof_man\n",
      " usage: [-?abhlnNoOPRtUvVX] [+|-c c] [+|-d s] [+D D] [+|-f[cgG]]\n",
      " [-F [f]] [-g [s]] [-i [i]] [+|-L [l]] [+|-M] [-o [o]] [-p s]\n",
      " [+|-r [t]] [-s [p:s]] [-S [t]] [-T [t]] [-u s] [+|-w] [-x [fl]] [--] [names]\n",
      "Use the ``-h'' option to get more help information.\n"
     ]
    },
    {
     "name": "stdout",
     "output_type": "stream",
     "text": [
      "Connected to: /Users/justin/Library/Containers/gru.mglMetal/Data/pglMetal.socket.N6dxVv4mWn\n",
      "(pglBase:printCommandResults) Command results:\n",
      "(pglBase:printCommandResults) Ack: 2009176.223 (absolute time in seconds)\n",
      "(pglBase:printCommandResults) Command Code: 1012\n",
      "(pglBase:printCommandResults) Success: 1\n",
      "(pglBase:printCommandResults) Drawable Acquired: 1.097 ms\n",
      "(pglBase:printCommandResults) Processed Time: 1.655 ms\n",
      "(pglBase:printCommandResults) Command results:\n",
      "(pglBase:printCommandResults) Ack: 2009176.225 (absolute time in seconds)\n",
      "(pglBase:printCommandResults) Command Code: 1001\n",
      "(pglBase:printCommandResults) Success: 1\n",
      "(pglBase:printCommandResults) Vertex Start: 2009176225601823744.000 ms\n",
      "(pglBase:printCommandResults) Vertex End: 2009176225637656832.000 ms\n",
      "(pglBase:printCommandResults) Drawable Acquired: -0.736 ms\n",
      "(pglBase:printCommandResults) Processed Time: 13.534 ms\n",
      "0\n",
      "0\n",
      "namespace(pix=array(2560, dtype=uint32), cm=0.0, deg=0.0)\n",
      "namespace(pix=array(1440, dtype=uint32), cm=0.0, deg=0.0)\n"
     ]
    }
   ],
   "source": [
    "pgl = pglLibrary()\n",
    "pgl.open(1,880, 600)\n",
    "pgl.getWindowFrameInDisplay()\n",
    "print(pgl.screenX.pix)\n",
    "print(pgl.screenY.pix)\n",
    "print(pgl.screenWidth)\n",
    "print(pgl.screenHeight)\n",
    "#pgl.setWindowFrameInDisplay(1, 100, 100, 800, 600)\n",
    "#pgl.verbose = 1\n",
    "#pgl.getResolution(0)\n",
    "#pgl.getWindowFrameInDisplay()\n",
    "#pgl.setResolution(0, 1920, 1200, 120, 32)\n",
    "#pgl.setResolution(0, 3840, 1080, 60, 32)\n",
    "#pgl.setResolution(0, 1512, 982, 60, 32)\n",
    "#pgl.checkOS()\n",
    "#help(pgl.checkOS)\n",
    "#pgl.getNumDisplaysAndDefault()"
   ]
  },
  {
   "cell_type": "code",
   "execution_count": 19,
   "id": "7f27c160",
   "metadata": {},
   "outputs": [
    {
     "name": "stdout",
     "output_type": "stream",
     "text": [
      "(pglBase:close) Closing connection to mglMetal application\n",
      "(pglBase:close) Closing mglMetal application with PID 12863\n",
      "(pglBase:close) mglMetal application with PID: 12863 was killed successfully.\n",
      "(pgl:_socket) Closed socket: /Users/justin/Library/Containers/gru.mglMetal/Data/pglMetal.socket.OWnGKBkCPp\n"
     ]
    },
    {
     "data": {
      "text/plain": [
       "True"
      ]
     },
     "execution_count": 19,
     "metadata": {},
     "output_type": "execute_result"
    }
   ],
   "source": [
    "#pgl.verbose = 2\n",
    "#pgl.open(1, 1920, 1080, 60, 32)\n",
    "#pgl.clearScreen([0.7, 0.5, 0.1])\n",
    "#for i in range(120):\n",
    "#    pgl.clearScreen(np.random.rand(3))\n",
    "#    pgl.flush()\n",
    "\n",
    "#pgl.clearScreen(np.random.rand(3))\n",
    "#pgl.flush()\n",
    "pgl.close()\n",
    "#pgl.fullscreen(False)\n"
   ]
  },
  {
   "cell_type": "code",
   "execution_count": null,
   "id": "f86af558",
   "metadata": {},
   "outputs": [],
   "source": [
    "from pprint import pprint\n",
    "\n",
    "\n",
    "pprint(pgl.gpuInfo)\n"
   ]
  },
  {
   "cell_type": "code",
   "execution_count": null,
   "id": "e226ae90",
   "metadata": {},
   "outputs": [],
   "source": [
    "(screenWidth, screenHeight, refreshRate, bitDepth) = pglDisplayInfo.getResolution(1)\n",
    "print(f\"screenResolution: {screenWidth}x{screenHeight} refreshRate: {refreshRate} bitDepth: {bitDepth}\")\n",
    "\n",
    "pglDisplayInfo.setResolution(1, screenWidth, screenHeight, refreshRate, bitDepth)"
   ]
  },
  {
   "cell_type": "markdown",
   "id": "a33aae0c",
   "metadata": {},
   "source": [
    "Install pgl library"
   ]
  },
  {
   "cell_type": "code",
   "execution_count": null,
   "id": "1f9d6cab",
   "metadata": {},
   "outputs": [],
   "source": [
    "pgl = pglLibrary()\n",
    "pgl.helloworld()\n",
    "pgl.open(1, 1920, 1080, 60, 24)"
   ]
  },
  {
   "cell_type": "markdown",
   "id": "358276c8",
   "metadata": {},
   "source": [
    "Instal screen and task"
   ]
  },
  {
   "cell_type": "code",
   "execution_count": null,
   "id": "c061716d",
   "metadata": {},
   "outputs": [],
   "source": [
    "#init screen\n",
    "s = pglScreen();\n",
    "s.helloworld();\n",
    "\n",
    "# init task\n",
    "t = pglTask();\n",
    "t.helloworld();\n"
   ]
  },
  {
   "cell_type": "code",
   "execution_count": null,
   "id": "b58c1d68",
   "metadata": {},
   "outputs": [],
   "source": [
    "# start MATLAB\n",
    "import matlab.engine\n",
    "eng = matlab.engine.start_matlab()\n",
    "\n",
    "# add mgl to path\n",
    "eng.addpath(eng.genpath(\"/Users/justin/proj/mgl\"),nargout=0)\n"
   ]
  },
  {
   "cell_type": "code",
   "execution_count": null,
   "id": "c0a268b3",
   "metadata": {},
   "outputs": [],
   "source": [
    "# mgl from python using mgl engine test\n",
    "eng.eval(\"mglOpen;\",nargout=0)\n",
    "eng.eval(\"mglVisualAngleCoordinates(57,[16,24]);\",nargout=0)\n",
    "eng.eval(\"mglClearScreen([0.3 0.7 0.2]);\",nargout=0)\n",
    "eng.eval(\"mglTextDraw('Hello World!',[0 0]);\",nargout=0)\n",
    "eng.eval(\"mglFlush;\",nargout=0)\n",
    "eng.eval(\"mglWaitSecs(3);\",nargout=0)\n",
    "eng.eval(\"mglClose;\",nargout=0)\n",
    "\n"
   ]
  }
 ],
 "metadata": {
  "kernelspec": {
   "display_name": "base",
   "language": "python",
   "name": "python3"
  },
  "language_info": {
   "codemirror_mode": {
    "name": "ipython",
    "version": 3
   },
   "file_extension": ".py",
   "mimetype": "text/x-python",
   "name": "python",
   "nbconvert_exporter": "python",
   "pygments_lexer": "ipython3",
   "version": "3.11.5"
  }
 },
 "nbformat": 4,
 "nbformat_minor": 5
}
