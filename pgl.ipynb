{
 "cells": [
  {
   "cell_type": "code",
   "execution_count": null,
   "id": "8df71dd8",
   "metadata": {},
   "outputs": [],
   "source": [
    "#import pgl\n",
    "from pgl import pgl as pglLibrary\n",
    "from pgl import screen as pglScreen\n",
    "from pgl import task as pglTask"
   ]
  },
  {
   "cell_type": "code",
   "execution_count": 2,
   "id": "a081bbff",
   "metadata": {},
   "outputs": [
    {
     "name": "stdout",
     "output_type": "stream",
     "text": [
      "(pgl:checkOS) TODO: Check OS compatibility\n",
      "(pgl:_socket) initializing socket\n"
     ]
    },
    {
     "ename": "TypeError",
     "evalue": "'module' object is not callable",
     "output_type": "error",
     "traceback": [
      "\u001b[0;31m---------------------------------------------------------------------------\u001b[0m",
      "\u001b[0;31mTypeError\u001b[0m                                 Traceback (most recent call last)",
      "Cell \u001b[0;32mIn[2], line 1\u001b[0m\n\u001b[0;32m----> 1\u001b[0m pgl \u001b[38;5;241m=\u001b[39m \u001b[43mpglLibrary\u001b[49m\u001b[43m(\u001b[49m\u001b[43m)\u001b[49m\n\u001b[1;32m      2\u001b[0m pgl\u001b[38;5;241m.\u001b[39mverbose\u001b[38;5;241m=\u001b[39m\u001b[38;5;241m3\u001b[39m\n",
      "File \u001b[0;32m~/Dropbox/Documents/docs/2025/pgl/pgl/pgl.py:33\u001b[0m, in \u001b[0;36mpgl.__init__\u001b[0;34m(self)\u001b[0m\n\u001b[1;32m     31\u001b[0m \u001b[38;5;28mself\u001b[39m\u001b[38;5;241m.\u001b[39ms \u001b[38;5;241m=\u001b[39m _socket()\n\u001b[1;32m     32\u001b[0m \u001b[38;5;66;03m# start displayInfo library\u001b[39;00m\n\u001b[0;32m---> 33\u001b[0m \u001b[38;5;28mself\u001b[39m\u001b[38;5;241m.\u001b[39mdisplayInfo \u001b[38;5;241m=\u001b[39m \u001b[43m_displayInfo\u001b[49m\u001b[43m(\u001b[49m\u001b[43m)\u001b[49m\n\u001b[1;32m     34\u001b[0m \u001b[38;5;28mself\u001b[39m\u001b[38;5;241m.\u001b[39mdisplayInfo\u001b[38;5;241m.\u001b[39msetVerbose(\u001b[38;5;28mself\u001b[39m\u001b[38;5;241m.\u001b[39mverbose)\n\u001b[1;32m     36\u001b[0m \u001b[38;5;66;03m# print what we are doing\u001b[39;00m\n",
      "\u001b[0;31mTypeError\u001b[0m: 'module' object is not callable"
     ]
    }
   ],
   "source": [
    "pgl = pglLibrary()\n",
    "pgl.verbose=3"
   ]
  },
  {
   "cell_type": "code",
   "execution_count": null,
   "id": "e226ae90",
   "metadata": {},
   "outputs": [],
   "source": [
    "(screenWidth, screenHeight, refreshRate, bitDepth) = pglDisplayInfo.getResolution(1)\n",
    "print(f\"screenResolution: {screenWidth}x{screenHeight} refreshRate: {refreshRate} bitDepth: {bitDepth}\")\n",
    "\n",
    "pglDisplayInfo.setResolution(1, screenWidth, screenHeight, refreshRate, bitDepth)"
   ]
  },
  {
   "cell_type": "markdown",
   "id": "a33aae0c",
   "metadata": {},
   "source": [
    "Install pgl library"
   ]
  },
  {
   "cell_type": "code",
   "execution_count": 4,
   "id": "1f9d6cab",
   "metadata": {},
   "outputs": [
    {
     "name": "stdout",
     "output_type": "stream",
     "text": [
      "(pgl:_socket) initializing socket\n",
      "(pgl:checkOS) TODO: Check OS compatibility\n",
      "(pgl) Initializing pgl library\n",
      "(pgl) Main library instance created\n",
      "(pgl) Hello World!\n",
      "(pgl:open) Opening screen 1 with dimensions 1920x1080, refresh rate 60Hz, color depth 24-bit\n"
     ]
    },
    {
     "data": {
      "text/plain": [
       "True"
      ]
     },
     "execution_count": 4,
     "metadata": {},
     "output_type": "execute_result"
    }
   ],
   "source": [
    "pgl = pglLibrary()\n",
    "pgl.helloworld()\n",
    "pgl.open(1, 1920, 1080, 60, 24)"
   ]
  },
  {
   "cell_type": "markdown",
   "id": "358276c8",
   "metadata": {},
   "source": [
    "Instal screen and task"
   ]
  },
  {
   "cell_type": "code",
   "execution_count": null,
   "id": "c061716d",
   "metadata": {},
   "outputs": [],
   "source": [
    "#init screen\n",
    "s = pglScreen();\n",
    "s.helloworld();\n",
    "\n",
    "# init task\n",
    "t = pglTask();\n",
    "t.helloworld();\n"
   ]
  },
  {
   "cell_type": "code",
   "execution_count": null,
   "id": "b58c1d68",
   "metadata": {},
   "outputs": [],
   "source": [
    "# start MATLAB\n",
    "import matlab.engine\n",
    "eng = matlab.engine.start_matlab()\n",
    "\n",
    "# add mgl to path\n",
    "eng.addpath(eng.genpath(\"/Users/justin/proj/mgl\"),nargout=0)\n"
   ]
  },
  {
   "cell_type": "code",
   "execution_count": null,
   "id": "c0a268b3",
   "metadata": {},
   "outputs": [],
   "source": [
    "# mgl from python using mgl engine test\n",
    "eng.eval(\"mglOpen;\",nargout=0)\n",
    "eng.eval(\"mglVisualAngleCoordinates(57,[16,24]);\",nargout=0)\n",
    "eng.eval(\"mglClearScreen([0.3 0.7 0.2]);\",nargout=0)\n",
    "eng.eval(\"mglTextDraw('Hello World!',[0 0]);\",nargout=0)\n",
    "eng.eval(\"mglFlush;\",nargout=0)\n",
    "eng.eval(\"mglWaitSecs(3);\",nargout=0)\n",
    "eng.eval(\"mglClose;\",nargout=0)\n",
    "\n"
   ]
  }
 ],
 "metadata": {
  "kernelspec": {
   "display_name": "base",
   "language": "python",
   "name": "python3"
  },
  "language_info": {
   "codemirror_mode": {
    "name": "ipython",
    "version": 3
   },
   "file_extension": ".py",
   "mimetype": "text/x-python",
   "name": "python",
   "nbconvert_exporter": "python",
   "pygments_lexer": "ipython3",
   "version": "3.11.5"
  }
 },
 "nbformat": 4,
 "nbformat_minor": 5
}
