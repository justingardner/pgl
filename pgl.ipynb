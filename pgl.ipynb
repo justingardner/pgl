{
 "cells": [
  {
   "cell_type": "code",
   "execution_count": 1,
   "id": "8df71dd8",
   "metadata": {},
   "outputs": [
    {
     "name": "stderr",
     "output_type": "stream",
     "text": [
      "Matplotlib is building the font cache; this may take a moment.\n"
     ]
    }
   ],
   "source": [
    "#!pip install numpy\n",
    "%load_ext autoreload\n",
    "%autoreload 2\n",
    "#import pgl\n",
    "from pgl import pgl as pglLibrary\n",
    "from pgl import screen as pglScreen\n",
    "from pgl import task as pglTask\n",
    "import numpy as np"
   ]
  },
  {
   "cell_type": "code",
   "execution_count": 12,
   "id": "a081bbff",
   "metadata": {},
   "outputs": [
    {
     "name": "stdout",
     "output_type": "stream",
     "text": [
      "(pgl:checkOS) Running on MacBook Pro (MacBookPro18,3) with macOS version: 15.5\n",
      "(pgl:checkOS) Apple M1 Pro Cores: 8 (6 performance and 2 efficiency) Memory: 32 GB\n",
      "(pgl:checkOS) GPU: Apple M1 Pro (Built-In) 14 cores, Metal 3 support\n",
      "(pgl:checkOS)   Color LCD [Main Display]: 3024 x 1964 Retina (Built-in Liquid Retina XDR Display)\n",
      "(pgl:checkOS)   LED Cinema Display: 1920 x 1200 (WUXGA - Widescreen Ultra eXtended Graphics Array) (Unknown type)\n",
      "(pglBase) Verbosity level set to 1\n",
      "(pglBase) Main library instance created\n",
      "(pglBase) Main library closed\n",
      "(pglBase:open) Starting mglMetal application: /Users/justin/proj/mgl/metal/binary/stable/mglMetal.app\n",
      "(pglBase:open) Using socket with address: /Users/justin/Library/Containers/gru.mglMetal/Data/pglMetal.socket.doaBMNWBm9\n",
      "(pgl:_socket) .Connected to: /Users/justin/Library/Containers/gru.mglMetal/Data/pglMetal.socket.doaBMNWBm9\n",
      "(pgl:_resolution:getResolution) Display 1/2: 1920x1200 60Hz 32bits\n"
     ]
    },
    {
     "data": {
      "text/plain": [
       "(1920, 1200, 60, 32)"
      ]
     },
     "execution_count": 12,
     "metadata": {},
     "output_type": "execute_result"
    }
   ],
   "source": [
    "pgl = pglLibrary()\n",
    "#pgl.verbose=2\n",
    "#pgl.open(1,880, 600)\n",
    "pgl.open()\n",
    "pgl.visualAngle(57,40,30)\n",
    "#pgl.getWindowFrameInDisplay()\n",
    "#print(pgl.screenX.pix)\n",
    "#print(pgl.screenY.pix)\n",
    "#print(pgl.screenWidth)\n",
    "#print(pgl.screenHeight)\n",
    "#pgl.setWindowFrameInDisplay(1, 100, 100, 800, 600)\n",
    "#pgl.verbose = 1\n",
    "pgl.getResolution()\n",
    "#pgl.getWindowFrameInDisplay()\n",
    "#pgl.setResolution(0, 1920, 1200, 120, 32)\n",
    "#pgl.setResolution(0, 3840, 1080, 60, 32)\n",
    "#pgl.setResolution(0, 1512, 982, 60, 32)\n",
    "#pgl.checkOS()\n",
    "#help(pgl.checkOS)\n",
    "#pgl.getNumDisplaysAndDefault()"
   ]
  },
  {
   "cell_type": "code",
   "execution_count": 13,
   "id": "fdfc1aa6",
   "metadata": {},
   "outputs": [
    {
     "name": "stdout",
     "output_type": "stream",
     "text": [
      "60\n",
      "(pglProfile) profileModeBufferSize set to 3600 frames (60.00 seconds)\n",
      "(pglProfile) Will reallocate if this is exceeded, but you can change this with pgl.profileModeBufferSize = <new size>\n",
      "(pglProfile) profileMode set to 1\n",
      "(pgl:_resolution:getResolution) Display 1/2: 1920x1200 60Hz 32bits\n",
      "(pgl:_resolution:getResolution) Display 1/2: 1920x1200 60Hz 32bits\n",
      "(pglProfile) profileMode is off, saving profile data.\n",
      "(pglProfile) profileMode set to 0\n",
      "(pglProfile) Profile 1: 600 frames\n",
      "(pglProfile) Mean frame time: 16.89 ms, std: 3.78 ms\n",
      "(pglProfile) Dropped frames: 5\n",
      "(pglProfile) Profile 2: 600 frames\n",
      "(pglProfile) Mean frame time: 16.80 ms, std: 2.04 ms\n",
      "(pglProfile) Dropped frames: 6\n",
      "(pglProfile) Profile 3: 600 frames\n",
      "(pglProfile) Mean frame time: 16.80 ms, std: 2.04 ms\n",
      "(pglProfile) Dropped frames: 6\n",
      "(pglProfile) Profile 4: 600 frames\n",
      "(pglProfile) Mean frame time: 16.67 ms, std: 0.86 ms\n",
      "(pglProfile) Dropped frames: 2\n",
      "(pglProfile) Profile 5: 18000 frames\n",
      "(pglProfile) Mean frame time: 16.79 ms, std: 2.36 ms\n",
      "(pglProfile) Dropped frames: 179\n"
     ]
    },
    {
     "data": {
      "image/png": "[encoded data removed]",
      "text/plain": [
       "<Figure size 640x480 with 1 Axes>"
      ]
     },
     "metadata": {},
     "output_type": "display_data"
    }
   ],
   "source": [
    "_,_,frameRate,_ =pgl.getResolution()\n",
    "print(frameRate)\n",
    "pgl.profileMode = 1\n",
    "#print(pgl.profileMode)\n",
    "#print(pgl.profileModeBufferSize )\n",
    "pgl.clearScreen([0,0,0])\n",
    "pgl.flush()\n",
    "for i in range(frameRate*60*5):\n",
    "    pgl.dots(np.random.uniform(-20,20),np.random.uniform(-15,15))\n",
    "    #pgl.printCommandResults()\n",
    "    pgl.flush()\n",
    "pgl.profileMode = 0\n",
    "pgl.profileModeDisplay()\n"
   ]
  },
  {
   "cell_type": "code",
   "execution_count": 14,
   "id": "7f27c160",
   "metadata": {},
   "outputs": [
    {
     "name": "stdout",
     "output_type": "stream",
     "text": [
      "(pglBase:close) Closing connection to mglMetal application\n",
      "(pglBase:close) Closing mglMetal application with PID 17889\n",
      "(pglBase:close) mglMetal application with PID: 17889 was killed successfully.\n",
      "(pgl:_socket) Closed socket: /Users/justin/Library/Containers/gru.mglMetal/Data/pglMetal.socket.doaBMNWBm9\n"
     ]
    },
    {
     "data": {
      "text/plain": [
       "True"
      ]
     },
     "execution_count": 14,
     "metadata": {},
     "output_type": "execute_result"
    }
   ],
   "source": [
    "#pgl.verbose = 2\n",
    "#pgl.open(1, 1920, 1080, 60, 32)\n",
    "#pgl.clearScreen([0.7, 0.5, 0.1])\n",
    "#for i in range(120):\n",
    "#    pgl.clearScreen(np.random.rand(3))\n",
    "#    pgl.flush()\n",
    "\n",
    "pgl.clearScreen(np.random.rand(3))\n",
    "pgl.flush()\n",
    "pgl.close()\n",
    "#pgl.fullscreen(False)\n"
   ]
  },
  {
   "cell_type": "code",
   "execution_count": 42,
   "id": "6d6f74d1",
   "metadata": {},
   "outputs": [
    {
     "name": "stdout",
     "output_type": "stream",
     "text": [
      "namespace(pix=880, cm=40, deg=39.38351226307472)\n",
      "namespace(pix=600, cm=30, deg=29.802386938916804)\n",
      "(pglBase:printCommandResults) Command results:\n",
      "(pglBase:printCommandResults) Ack: 5771208.653 (absolute time in seconds)\n",
      "(pglBase:printCommandResults) Command Code: 1012\n",
      "(pglBase:printCommandResults) Success: 1\n",
      "(pglBase:printCommandResults) Drawable Acquired: -0.564 ms\n",
      "(pglBase:printCommandResults) Processed Time: 0.238 ms\n"
     ]
    },
    {
     "data": {
      "text/plain": [
       "True"
      ]
     },
     "execution_count": 42,
     "metadata": {},
     "output_type": "execute_result"
    }
   ],
   "source": [
    "pgl.visualAngle(57,40,30)\n",
    "print(pgl.screenWidth)\n",
    "print(pgl.screenHeight)\n",
    "#pgl.printCommandResults()\n",
    "#print(pgl.xform)\n",
    "pgl.clearScreen([0,0,0])\n",
    "pgl.dots(np.random.uniform(-20,20),np.random.uniform(-15,15))\n",
    "pgl.printCommandResults()\n",
    "pgl.flush()"
   ]
  },
  {
   "cell_type": "code",
   "execution_count": null,
   "id": "f86af558",
   "metadata": {},
   "outputs": [],
   "source": [
    "from pprint import pprint\n",
    "\n",
    "\n",
    "pprint(pgl.gpuInfo)\n"
   ]
  },
  {
   "cell_type": "code",
   "execution_count": null,
   "id": "e226ae90",
   "metadata": {},
   "outputs": [],
   "source": [
    "(screenWidth, screenHeight, refreshRate, bitDepth) = pglDisplayInfo.getResolution(1)\n",
    "print(f\"screenResolution: {screenWidth}x{screenHeight} refreshRate: {refreshRate} bitDepth: {bitDepth}\")\n",
    "\n",
    "pglDisplayInfo.setResolution(1, screenWidth, screenHeight, refreshRate, bitDepth)"
   ]
  },
  {
   "cell_type": "markdown",
   "id": "a33aae0c",
   "metadata": {},
   "source": [
    "Install pgl library"
   ]
  },
  {
   "cell_type": "code",
   "execution_count": null,
   "id": "1f9d6cab",
   "metadata": {},
   "outputs": [],
   "source": [
    "pgl = pglLibrary()\n",
    "pgl.helloworld()\n",
    "pgl.open(1, 1920, 1080, 60, 24)"
   ]
  },
  {
   "cell_type": "markdown",
   "id": "358276c8",
   "metadata": {},
   "source": [
    "Instal screen and task"
   ]
  },
  {
   "cell_type": "code",
   "execution_count": 15,
   "id": "c061716d",
   "metadata": {},
   "outputs": [
    {
     "name": "stdout",
     "output_type": "stream",
     "text": [
      "(pgl:screen) initializing screen\n",
      "(pgl:screen) Hello World! I am screen\n",
      "(pgl:task) initializing task\n",
      "(pgl:task) Hello World! I am task\n"
     ]
    }
   ],
   "source": [
    "#init screen\n",
    "s = pglScreen();\n",
    "s.helloworld();\n",
    "\n",
    "# init task\n",
    "t = pglTask();\n",
    "t.helloworld();\n"
   ]
  },
  {
   "cell_type": "code",
   "execution_count": null,
   "id": "b58c1d68",
   "metadata": {},
   "outputs": [],
   "source": [
    "# start MATLAB\n",
    "import matlab.engine\n",
    "eng = matlab.engine.start_matlab()\n",
    "\n",
    "# add mgl to path\n",
    "eng.addpath(eng.genpath(\"/Users/justin/proj/mgl\"),nargout=0)\n"
   ]
  },
  {
   "cell_type": "code",
   "execution_count": null,
   "id": "c0a268b3",
   "metadata": {},
   "outputs": [],
   "source": [
    "# mgl from python using mgl engine test\n",
    "eng.eval(\"mglOpen;\",nargout=0)\n",
    "eng.eval(\"mglVisualAngleCoordinates(57,[16,24]);\",nargout=0)\n",
    "eng.eval(\"mglClearScreen([0.3 0.7 0.2]);\",nargout=0)\n",
    "eng.eval(\"mglTextDraw('Hello World!',[0 0]);\",nargout=0)\n",
    "eng.eval(\"mglFlush;\",nargout=0)\n",
    "eng.eval(\"mglWaitSecs(3);\",nargout=0)\n",
    "eng.eval(\"mglClose;\",nargout=0)\n",
    "\n"
   ]
  }
 ],
 "metadata": {
  "kernelspec": {
   "display_name": "Python 3",
   "language": "python",
   "name": "python3"
  },
  "language_info": {
   "codemirror_mode": {
    "name": "ipython",
    "version": 3
   },
   "file_extension": ".py",
   "mimetype": "text/x-python",
   "name": "python",
   "nbconvert_exporter": "python",
   "pygments_lexer": "ipython3",
   "version": "3.13.5"
  }
 },
 "nbformat": 4,
 "nbformat_minor": 5
}
