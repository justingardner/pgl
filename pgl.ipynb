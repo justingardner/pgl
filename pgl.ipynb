{
 "cells": [
  {
   "cell_type": "code",
   "execution_count": 2,
   "id": "8df71dd8",
   "metadata": {},
   "outputs": [],
   "source": [
    "#import pgl\n",
    "from pgl import pgl as pglLibrary\n",
    "from pgl import screen as pglScreen\n",
    "from pgl import task as pglTask\n",
    "from pgl import displayInfo as pglDisplayInfo"
   ]
  },
  {
   "cell_type": "code",
   "execution_count": null,
   "id": "e226ae90",
   "metadata": {},
   "outputs": [
    {
     "ename": "",
     "evalue": "",
     "output_type": "error",
     "traceback": [
      "\u001b[1;31mThe Kernel crashed while executing code in the current cell or a previous cell. \n",
      "\u001b[1;31mPlease review the code in the cell(s) to identify a possible cause of the failure. \n",
      "\u001b[1;31mClick <a href='https://aka.ms/vscodeJupyterKernelCrash'>here</a> for more info. \n",
      "\u001b[1;31mView Jupyter <a href='command:jupyter.viewOutput'>log</a> for further details."
     ]
    }
   ],
   "source": [
    "pglDisplayInfo.getResolution(1)\n",
    "pglDisplayInfo.getNumDisplaysAndDefault()"
   ]
  },
  {
   "cell_type": "markdown",
   "id": "a33aae0c",
   "metadata": {},
   "source": [
    "Install pgl library"
   ]
  },
  {
   "cell_type": "code",
   "execution_count": 2,
   "id": "1f9d6cab",
   "metadata": {},
   "outputs": [
    {
     "name": "stdout",
     "output_type": "stream",
     "text": [
      "(pgl:_socket) initializing socket\n",
      "(pgl:checkOS) TODO: Check OS compatibility\n",
      "(pgl) Main library instance created\n",
      "(pgl) Hello World!\n",
      "(pgl:open) Opening screen 1 with dimensions 1920x1080, refresh rate 60Hz, color depth 24-bit\n"
     ]
    },
    {
     "data": {
      "text/plain": [
       "True"
      ]
     },
     "execution_count": 2,
     "metadata": {},
     "output_type": "execute_result"
    }
   ],
   "source": [
    "pgl = pglLibrary()\n",
    "pgl.helloworld()\n",
    "pgl.open(1, 1920, 1080, 60, 24)"
   ]
  },
  {
   "cell_type": "markdown",
   "id": "358276c8",
   "metadata": {},
   "source": [
    "Instal screen and task"
   ]
  },
  {
   "cell_type": "code",
   "execution_count": 3,
   "id": "c061716d",
   "metadata": {},
   "outputs": [
    {
     "name": "stdout",
     "output_type": "stream",
     "text": [
      "(pgl:screen) initializing screen\n",
      "(pgl:screen) Hello World! I am screen\n",
      "(pgl:task) initializing task\n",
      "(pgl:task) Hello World! I am task\n"
     ]
    }
   ],
   "source": [
    "#init screen\n",
    "s = pglScreen();\n",
    "s.helloworld();\n",
    "\n",
    "# init task\n",
    "t = pglTask();\n",
    "t.helloworld();\n"
   ]
  },
  {
   "cell_type": "code",
   "execution_count": 12,
   "id": "b58c1d68",
   "metadata": {},
   "outputs": [],
   "source": [
    "# start MATLAB\n",
    "import matlab.engine\n",
    "eng = matlab.engine.start_matlab()\n",
    "\n",
    "# add mgl to path\n",
    "eng.addpath(eng.genpath(\"/Users/justin/proj/mgl\"),nargout=0)\n"
   ]
  },
  {
   "cell_type": "code",
   "execution_count": 13,
   "id": "c0a268b3",
   "metadata": {},
   "outputs": [
    {
     "name": "stdout",
     "output_type": "stream",
     "text": [
      "(mglMetalExecutableName) Default app (mglMetalExecutableName) Using mglMetal app at /Users/justin/proj/mgl/metal/binary/stable/mglMetal.app\n",
      "(mglMetalExecutableName) Default app (mglMetalExecutableName) Using mglMetal app at /Users/justin/proj/mgl/metal/binary/stable/mglMetal.app\n",
      "(mglMetalStartup) Using new socket address: /Users/justin/Library/Containers/gru.mglMetal/Data/mglMetal.socket.ou7ud6HXxx\n",
      "(mglMetalStartup) Starting up mglMetal executable: /Users/justin/proj/mgl/metal/binary/stable/mglMetal.app\n",
      "(mglMetalStartup) You can tail the app log with \"log stream --level info --process mglMetal\"\n",
      "(mglMetalStartup) You can also try the macOS Console app and search for PROCESS \"mglMetal\"\n",
      "(mglMetalStartup) Trying to connect to mglMetal with timeout 10 seconds.\n",
      "(mglMetalStartup) Socket connection to mglMetal established in 0.115000 seconds\n",
      "(mglTransform) Notice: mglTransform no longer supports OpenGL transforms and constants.\n",
      "(mglVisualAngleCoordinates) !!!!! Assuming square pixels causes an error in the \n",
      "vertical pix2deg of 69.045405 percent. To fix, you can either set your monitor to a mode with\n",
      "square pixel dimensions or turn off squrePixels in mglEditScreenParams if you are\n",
      "using mglEditScreenParams or set mglSetParam('visualAngleSquarePixels',0,1) if not!!!!!!\n",
      "(mglVisualAngleCoordinates) !!!!! Assuming square pixels causes an error in the \n",
      "vertical pix2deg of 28.999609 percent. To fix, you can either set your monitor to a mode with\n",
      "square pixel dimensions or turn off squrePixels in mglEditScreenParams if you are\n",
      "using mglEditScreenParams or set mglSetParam('visualAngleSquarePixels',0,1) if not!!!!!!\n",
      "(mglMetalShutdown) mglMetal process: 35913 shutting down\n",
      "(mglMetalShutdown) No mglMetal process is running\n"
     ]
    }
   ],
   "source": [
    "# mgl from python using mgl engine test\n",
    "eng.eval(\"mglOpen;\",nargout=0)\n",
    "eng.eval(\"mglVisualAngleCoordinates(57,[16,24]);\",nargout=0)\n",
    "eng.eval(\"mglClearScreen([0.3 0.7 0.2]);\",nargout=0)\n",
    "eng.eval(\"mglTextDraw('Hello World!',[0 0]);\",nargout=0)\n",
    "eng.eval(\"mglFlush;\",nargout=0)\n",
    "eng.eval(\"mglWaitSecs(3);\",nargout=0)\n",
    "eng.eval(\"mglClose;\",nargout=0)\n",
    "\n"
   ]
  }
 ],
 "metadata": {
  "kernelspec": {
   "display_name": "base",
   "language": "python",
   "name": "python3"
  },
  "language_info": {
   "codemirror_mode": {
    "name": "ipython",
    "version": 3
   },
   "file_extension": ".py",
   "mimetype": "text/x-python",
   "name": "python",
   "nbconvert_exporter": "python",
   "pygments_lexer": "ipython3",
   "version": "3.11.5"
  }
 },
 "nbformat": 4,
 "nbformat_minor": 5
}
