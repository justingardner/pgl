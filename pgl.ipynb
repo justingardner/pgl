{
 "cells": [
  {
   "cell_type": "code",
   "execution_count": null,
   "id": "8df71dd8",
   "metadata": {},
   "outputs": [
    {
     "name": "stdout",
     "output_type": "stream",
     "text": [
      "The autoreload extension is already loaded. To reload it, use:\n",
      "  %reload_ext autoreload\n"
     ]
    },
    {
     "ename": "ImportError",
     "evalue": "cannot import name 'pglRandomDotStimulus' from 'pgl' (/Users/justin/proj/pgl/pgl/__init__.py)",
     "output_type": "error",
     "traceback": [
      "\u001b[31m---------------------------------------------------------------------------\u001b[39m",
      "\u001b[31mImportError\u001b[39m                               Traceback (most recent call last)",
      "\u001b[36mCell\u001b[39m\u001b[36m \u001b[39m\u001b[32mIn[4]\u001b[39m\u001b[32m, line 12\u001b[39m\n\u001b[32m     10\u001b[39m \u001b[38;5;28;01mfrom\u001b[39;00m\u001b[38;5;250m \u001b[39m\u001b[34;01mpgl\u001b[39;00m\u001b[38;5;250m \u001b[39m\u001b[38;5;28;01mimport\u001b[39;00m pglDataPixx\n\u001b[32m     11\u001b[39m \u001b[38;5;28;01mfrom\u001b[39;00m\u001b[38;5;250m \u001b[39m\u001b[34;01mpgl\u001b[39;00m\u001b[38;5;250m \u001b[39m\u001b[38;5;28;01mimport\u001b[39;00m pglTrackPixx3\n\u001b[32m---> \u001b[39m\u001b[32m12\u001b[39m \u001b[38;5;28;01mfrom\u001b[39;00m\u001b[38;5;250m \u001b[39m\u001b[34;01mpgl\u001b[39;00m\u001b[38;5;250m \u001b[39m\u001b[38;5;28;01mimport\u001b[39;00m pglRandomDotStimulus\n\u001b[32m     13\u001b[39m \u001b[38;5;28;01mimport\u001b[39;00m\u001b[38;5;250m \u001b[39m\u001b[34;01mnumpy\u001b[39;00m\u001b[38;5;250m \u001b[39m\u001b[38;5;28;01mas\u001b[39;00m\u001b[38;5;250m \u001b[39m\u001b[34;01mnp\u001b[39;00m\n\u001b[32m     14\u001b[39m \u001b[38;5;28;01mimport\u001b[39;00m\u001b[38;5;250m \u001b[39m\u001b[34;01msys\u001b[39;00m\n",
      "\u001b[31mImportError\u001b[39m: cannot import name 'pglRandomDotStimulus' from 'pgl' (/Users/justin/proj/pgl/pgl/__init__.py)"
     ]
    }
   ],
   "source": [
    "#!pip install numpy\n",
    "%load_ext autoreload\n",
    "%autoreload 2\n",
    "#!pip install /Users/Shared/koret_software/VPixx/VPixx\\ Technologies/Software\\ Tools/pypixxlib/pypixxlib-1.10.3.tar.gz\n",
    "#import pgl\n",
    "from pgl import pgl as pglLibrary\n",
    "from pgl import screen as pglScreen\n",
    "from pgl import task as pglTask\n",
    "from pgl import pglProPixx\n",
    "from pgl import pglDataPixx\n",
    "from pgl import pglTrackPixx3\n",
    "import numpy as np\n",
    "import sys\n",
    "from PIL import Image\n",
    "import matplotlib.pyplot as plt\n",
    "pgl = pglLibrary()\n",
    "print(sys.version)"
   ]
  },
  {
   "cell_type": "code",
   "execution_count": 3,
   "id": "60d8e307",
   "metadata": {},
   "outputs": [
    {
     "ename": "NameError",
     "evalue": "name 'pglRandomDotStimulus' is not defined",
     "output_type": "error",
     "traceback": [
      "\u001b[31m---------------------------------------------------------------------------\u001b[39m",
      "\u001b[31mNameError\u001b[39m                                 Traceback (most recent call last)",
      "\u001b[36mCell\u001b[39m\u001b[36m \u001b[39m\u001b[32mIn[3]\u001b[39m\u001b[32m, line 4\u001b[39m\n\u001b[32m      1\u001b[39m \u001b[38;5;66;03m#pgl.dots([1,3,4],[2,5,8],color=[[1,0,0],[0,1,0],[0,0,1]])\u001b[39;00m\n\u001b[32m      2\u001b[39m \u001b[38;5;66;03m#color=[[1,0,0],[0,1,0],[0,0,1],[1,0,0]]\u001b[39;00m\n\u001b[32m      3\u001b[39m \u001b[38;5;66;03m#rdk = pglRandomDotStimulus(pgl,width=10, height=10)\u001b[39;00m\n\u001b[32m----> \u001b[39m\u001b[32m4\u001b[39m rdk = \u001b[43mpglRandomDotStimulus\u001b[49m(pgl,width=\u001b[32m10\u001b[39m, height=\u001b[32m10\u001b[39m)\n\u001b[32m      5\u001b[39m \u001b[38;5;28mprint\u001b[39m(rdk)\n\u001b[32m      6\u001b[39m \u001b[38;5;66;03m#pgl.flush()\u001b[39;00m\n",
      "\u001b[31mNameError\u001b[39m: name 'pglRandomDotStimulus' is not defined"
     ]
    }
   ],
   "source": [
    "#pgl.dots([1,3,4],[2,5,8],color=[[1,0,0],[0,1,0],[0,0,1]])\n",
    "#color=[[1,0,0],[0,1,0],[0,0,1],[1,0,0]]\n",
    "#rdk = pglRandomDotStimulus(pgl,width=10, height=10)\n",
    "rdk = pglRandomDotStimulus(pgl,width=10, height=10)\n",
    "print(rdk)\n",
    "#pgl.flush()\n",
    "\n"
   ]
  },
  {
   "cell_type": "code",
   "execution_count": null,
   "id": "33248576",
   "metadata": {},
   "outputs": [],
   "source": [
    "device = pglTrackPixx3(pgl)\n",
    "#datapixx.getError()\n",
    "device.dp.TPxSetLEDIntensity(8)\n",
    "#print(device.dp.TPxGetLEDIntensity())\n",
    "device.calibrateEyeImage()\n",
    "#device.getCameraImage()\n",
    "#Image.fromarray(device.getCameraImage()).show()"
   ]
  },
  {
   "cell_type": "code",
   "execution_count": null,
   "id": "b0e541e0",
   "metadata": {},
   "outputs": [],
   "source": [
    "\n",
    "#from pypixxlib.propixx import PROPixx\n",
    "#pgl.verbose=1\n",
    "#projector = pglProPixx()\n",
    "#datapixx = pglDataPixx()\n",
    "\n",
    "for i in range(1000):\n",
    "    events = pgl.devicesPoll()\n",
    "    #events = datapixx.poll()\n",
    "    if events is not None:\n",
    "        for event in events:\n",
    "            print(event)\n",
    "    pgl.waitSecs(0.1)\n",
    "#datapixx.setupDigitalOutput()\n",
    "#datapixx.test()\n",
    "#for i in range(5):\n",
    "#    print(f\"Polling DataPixx: {i}\")\n",
    "    #datapixx.poll()\n",
    "    #pgl.waitSecs(1)\n",
    "\n",
    "\n",
    "#device.setRearProjection(True)\n",
    "#from pypixxlib.propixx import PROPixx\n",
    "#propixx = PROPixx()\n",
    "#propixx.getDlpSequencerProgram()\n",
    "#projector.status()\n",
    "#print(device)\n",
    "#from pgl.pglDevice import pglDevice, pglProPixx\n",
    "#huh = pglDevice(pgl,'huh')\n",
    "#duh = pglProPixx(pgl)"
   ]
  },
  {
   "cell_type": "code",
   "execution_count": null,
   "id": "cefe8cca",
   "metadata": {},
   "outputs": [],
   "source": [
    "from PIL import Image, ImageDraw, ImageFont\n",
    "import numpy as np\n",
    "\n",
    "# Load Helvetica (on macOS)\n",
    "font_path = \"/System/Library/Fonts/Helvetica.ttc\"\n",
    "font_size = 40\n",
    "font = ImageFont.truetype(font_path, font_size)\n",
    "\n",
    "# The text to render\n",
    "text = \"Hello World\"\n",
    "padding = 10  # Add some padding around text\n",
    "\n",
    "# Create a dummy image to measure text size\n",
    "dummy_img = Image.new(\"RGBA\", (1, 1))\n",
    "draw = ImageDraw.Draw(dummy_img)\n",
    "\n",
    "# Get bounding box of the text\n",
    "bbox = draw.textbbox((0, 0), text, font=font)\n",
    "text_width = bbox[2] - bbox[0]\n",
    "text_height = bbox[3] - bbox[1]\n",
    "\n",
    "# Create an image with transparent background\n",
    "img = Image.new(\"RGBA\", (text_width + 2 * padding, text_height + 2 * padding), (0, 0, 0, 0))\n",
    "draw = ImageDraw.Draw(img)\n",
    "\n",
    "# Draw anti-aliased white text\n",
    "draw.text((padding, padding), text, font=font, fill=(255, 255, 255, 255))\n",
    "\n",
    "# Convert to NumPy array\n",
    "bitmap = np.array(img)\n",
    "\n",
    "# Debug: print shape and preview alpha channel\n",
    "print(\"Bitmap shape:\", bitmap.shape)\n",
    "print(\"Alpha channel:\")\n",
    "print(bitmap[:, :, 3])\n",
    "\n"
   ]
  },
  {
   "cell_type": "code",
   "execution_count": null,
   "id": "f7f567ce",
   "metadata": {},
   "outputs": [],
   "source": [
    "\n",
    "#pgl.text(\"hello world\",line=1,fontName = \"Futura\",fontSize=30,color=(0,0,0,1))\n",
    "#pgl.text(\"This is the next line\",x=0,line=-2)\n",
    "pgl.text(\"And the next line of text, that I want to draw\",x=0,line=-2)\n",
    "pgl.text(\"next line\")\n",
    "pgl.text(\"wow\")\n",
    "\n",
    "pgl.flush()"
   ]
  },
  {
   "cell_type": "code",
   "execution_count": null,
   "id": "91d4e804",
   "metadata": {},
   "outputs": [],
   "source": [
    "#pgl.line(0,0,1920,1080,(1,0,0),units=\"pix\")\n",
    "pgl.arc(0,0,innerRadius=0,outerRadius=10,color=(0,1,0,1))\n",
    "\n",
    "#pgl.line(1920,0,0,1080,(0,0,1),units=\"pix\")\n",
    "pgl.flush()\n",
    "#pgl.printCommandResults()"
   ]
  },
  {
   "cell_type": "code",
   "execution_count": null,
   "id": "a081bbff",
   "metadata": {},
   "outputs": [],
   "source": [
    "pgl = pglLibrary()\n",
    "pgl.open(0,880, 600)\n",
    "#pgl.open()\n",
    "pgl.visualAngle(57,40,30)\n"
   ]
  },
  {
   "cell_type": "code",
   "execution_count": null,
   "id": "eed225df",
   "metadata": {},
   "outputs": [],
   "source": [
    "#pgl.clearScreen((0.5, 0.5, 0.5))  # Clear the screen with a gray color\n",
    "#pgl.verbose=1\n",
    "pgl.clearScreen((0.5, 0.5, 0.5))  # Clear the screen with a gray color\n",
    "grating = pgl.grating(spatialFrequency=0.1,phase=0, contrast=1,temporalFrequency=4.0,direction=-1)\n",
    "#gabor = pgl.gabor(spatialFrequency=1,orientation=45,width=40,height=30,phase=0,contrast=0.8)\n",
    "#gabor.print()\n"
   ]
  },
  {
   "cell_type": "code",
   "execution_count": null,
   "id": "8cabc2f0",
   "metadata": {},
   "outputs": [],
   "source": [
    "\n",
    "pgl.profileModeClearAll()\n",
    "pgl.profileMode = 2\n",
    "#pgl.batchStart()\n",
    "for i in range(360):\n",
    "    grating.display()\n",
    "    pgl.flush()\n",
    "pgl.profileMode = 0\n",
    "#pgl.flush()\n",
    "#pgl.waitSecs(1)\n",
    "#pgl.batchRun()\n",
    "#pgl.waitSecs(2)\n",
    "#pgl.batchEnd()\n",
    "#pgl.waitSecs(2)\n",
    "\n",
    "pgl.profileModeDisplay()"
   ]
  },
  {
   "cell_type": "code",
   "execution_count": null,
   "id": "d91e45ce",
   "metadata": {},
   "outputs": [],
   "source": [
    "#gabor.print()\n",
    "gabor.display()\n",
    "pgl.flush()\n",
    "\n"
   ]
  },
  {
   "cell_type": "code",
   "execution_count": null,
   "id": "fdfc1aa6",
   "metadata": {},
   "outputs": [],
   "source": [
    "pgl.profileModeClearAll()\n",
    "#pgl.fullScreen(True)\n",
    "_,_,frameRate,_ =pgl.getResolution()\n",
    "print(frameRate)\n",
    "pgl.profileMode = 2\n",
    "#print(pgl.profileMode)\n",
    "#print(pgl.profileModeBufferSize )\n",
    "pgl.clearScreen([0,0,0])\n",
    "pgl.flush()\n",
    "for i in range(frameRate*1):\n",
    "    pgl.dots(np.random.uniform(-20,20),np.random.uniform(-15,15))\n",
    "    #pgl.printCommandResults()\n",
    "    pgl.flush()\n",
    "pgl.profileMode = 0\n",
    "#pgl.fullScreen(False)\n",
    "pgl.profileModeDisplay()\n"
   ]
  },
  {
   "cell_type": "code",
   "execution_count": null,
   "id": "46afedf7",
   "metadata": {},
   "outputs": [],
   "source": [
    "_,_,frameRate,_ =pgl.getResolution()\n",
    "pgl.profileModeClearAll()\n",
    "pgl.batchStart()\n",
    "for i in range(frameRate*5):\n",
    "    #im.display()\n",
    "    pgl.dots(np.random.uniform(-20,20),np.random.uniform(-15,15))\n",
    "    #pgl.printCommandResults()\n",
    "    #pgl.printCommandResults()\n",
    "\n",
    "\n",
    "    pgl.flush()\n",
    "    #pgl.printCommandResults()\n",
    "#pgl.batchRun()\n",
    "#pgl.batchEnd()"
   ]
  },
  {
   "cell_type": "code",
   "execution_count": null,
   "id": "a3a4ed41",
   "metadata": {},
   "outputs": [],
   "source": [
    "pgl.batchRun()\n",
    "pgl.batchEnd()\n",
    "pgl.profileModeDisplay()"
   ]
  },
  {
   "cell_type": "code",
   "execution_count": null,
   "id": "09bc7c23",
   "metadata": {},
   "outputs": [],
   "source": [
    "imData = Image.open('/Users/justin/proj/pgl/testimage.jpg')\n",
    "pgl.visualAngle(57,40,30)"
   ]
  },
  {
   "cell_type": "code",
   "execution_count": null,
   "id": "1e514375",
   "metadata": {},
   "outputs": [],
   "source": [
    "im = pgl.imageCreate(np.array(imData))\n",
    "print(im).print()\n",
    "#print(pgl.xPix2Deg)\n",
    "#print(pgl.xDeg2Pix)\n",
    "#print(np.array(imData))"
   ]
  },
  {
   "cell_type": "code",
   "execution_count": null,
   "id": "ef0f61a8",
   "metadata": {},
   "outputs": [],
   "source": [
    "im = 0"
   ]
  },
  {
   "cell_type": "code",
   "execution_count": null,
   "id": "d37fe867",
   "metadata": {},
   "outputs": [],
   "source": [
    "pgl.clearScreen(np.random.rand(3))\n",
    "im.print()\n",
    "im.display()\n",
    "pgl.flush()"
   ]
  },
  {
   "cell_type": "code",
   "execution_count": null,
   "id": "7f27c160",
   "metadata": {},
   "outputs": [],
   "source": [
    "pgl.clearScreen(np.random.rand(3))\n",
    "pgl.flush()\n",
    "pgl.close()"
   ]
  },
  {
   "cell_type": "code",
   "execution_count": null,
   "id": "0d606f7a",
   "metadata": {},
   "outputs": [],
   "source": [
    "#commandResults = pgl.profileModeCommandResults\n",
    "#print(commandResults[0])\n",
    "#commandResults = pgl.profileList[0].get('commandResults', 'None')\n",
    "#print(commandResults['processedTime'])\n",
    "#print(list(pgl.profileList[0].keys()))\n",
    "pgl.flush()\n",
    "pgl.printCommandResults()"
   ]
  },
  {
   "cell_type": "code",
   "execution_count": null,
   "id": "6d6f74d1",
   "metadata": {},
   "outputs": [],
   "source": [
    "pgl.visualAngle(57,40,30)\n",
    "print(pgl.screenWidth)\n",
    "print(pgl.screenHeight)\n",
    "#pgl.printCommandResults()\n",
    "#print(pgl.xform)\n",
    "pgl.clearScreen([0,0,0])\n",
    "pgl.dots(np.random.uniform(-20,20),np.random.uniform(-15,15))\n",
    "pgl.printCommandResults()\n",
    "pgl.flush()"
   ]
  },
  {
   "cell_type": "code",
   "execution_count": null,
   "id": "f86af558",
   "metadata": {},
   "outputs": [],
   "source": [
    "from pprint import pprint\n",
    "\n",
    "\n",
    "pprint(pgl.gpuInfo)\n"
   ]
  },
  {
   "cell_type": "code",
   "execution_count": null,
   "id": "e226ae90",
   "metadata": {},
   "outputs": [],
   "source": [
    "(screenWidth, screenHeight, refreshRate, bitDepth) = pglDisplayInfo.getResolution(1)\n",
    "print(f\"screenResolution: {screenWidth}x{screenHeight} refreshRate: {refreshRate} bitDepth: {bitDepth}\")\n",
    "\n",
    "pglDisplayInfo.setResolution(1, screenWidth, screenHeight, refreshRate, bitDepth)"
   ]
  },
  {
   "cell_type": "markdown",
   "id": "a33aae0c",
   "metadata": {},
   "source": [
    "Install pgl library"
   ]
  },
  {
   "cell_type": "code",
   "execution_count": null,
   "id": "1f9d6cab",
   "metadata": {},
   "outputs": [],
   "source": [
    "pgl = pglLibrary()\n",
    "pgl.getResolution(0)\n"
   ]
  },
  {
   "cell_type": "markdown",
   "id": "358276c8",
   "metadata": {},
   "source": [
    "Instal screen and task"
   ]
  },
  {
   "cell_type": "code",
   "execution_count": null,
   "id": "c061716d",
   "metadata": {},
   "outputs": [],
   "source": [
    "#init screen\n",
    "s = pglScreen();\n",
    "s.helloworld();\n",
    "\n",
    "# init task\n",
    "t = pglTask();\n",
    "t.helloworld();\n"
   ]
  },
  {
   "cell_type": "code",
   "execution_count": null,
   "id": "b58c1d68",
   "metadata": {},
   "outputs": [],
   "source": [
    "# start MATLAB\n",
    "import matlab.engine\n",
    "eng = matlab.engine.start_matlab()\n",
    "\n",
    "# add mgl to path\n",
    "eng.addpath(eng.genpath(\"/Users/justin/proj/mgl\"),nargout=0)\n"
   ]
  },
  {
   "cell_type": "code",
   "execution_count": null,
   "id": "c0a268b3",
   "metadata": {},
   "outputs": [],
   "source": [
    "# mgl from python using mgl engine test\n",
    "eng.eval(\"mglOpen;\",nargout=0)\n",
    "eng.eval(\"mglVisualAngleCoordinates(57,[16,24]);\",nargout=0)\n",
    "eng.eval(\"mglClearScreen([0.3 0.7 0.2]);\",nargout=0)\n",
    "eng.eval(\"mglTextDraw('Hello World!',[0 0]);\",nargout=0)\n",
    "eng.eval(\"mglFlush;\",nargout=0)\n",
    "eng.eval(\"mglWaitSecs(3);\",nargout=0)\n",
    "eng.eval(\"mglClose;\",nargout=0)\n",
    "\n"
   ]
  },
  {
   "cell_type": "code",
   "execution_count": null,
   "id": "bb7a8881",
   "metadata": {},
   "outputs": [],
   "source": [
    "pgl.clearScreen(np.random.rand(3))\n",
    "pgl.flush()\n",
    "pgl.clearScreen(np.random.rand(3))\n",
    "pgl.flush()"
   ]
  },
  {
   "cell_type": "code",
   "execution_count": null,
   "id": "4ab183bf",
   "metadata": {},
   "outputs": [],
   "source": [
    "pgl.close()"
   ]
  },
  {
   "cell_type": "code",
   "execution_count": null,
   "id": "dbaf72ae",
   "metadata": {},
   "outputs": [],
   "source": [
    "pgl.test()"
   ]
  },
  {
   "cell_type": "code",
   "execution_count": 2,
   "id": "fbb40da6",
   "metadata": {},
   "outputs": [
    {
     "name": "stdout",
     "output_type": "stream",
     "text": [
      "(pgl:checkOS) Running on MacBook Pro (MacBookPro18,3) with macOS version: 15.6\n",
      "(pgl:checkOS) Apple M1 Pro Cores: 8 (6 performance and 2 efficiency) Memory: 32 GB\n",
      "(pgl:checkOS) GPU: Apple M1 Pro (Built-In) 14 cores, Metal 3 support\n",
      "(pgl:checkOS)   Color LCD [Main Display]: 3024 x 1964 Retina (Built-in Liquid Retina XDR Display)\n",
      "(pgl:checkOS)   BenQ EX2780Q: 2560 x 1440 (QHD/WQHD - Wide Quad High Definition) (Unknown type)\n",
      "(pglBase) Verbosity level set to 1\n",
      "(pglBase) Main library instance created\n",
      "(pglBase) Main library closed\n",
      "(pglBase:open) Starting mglMetal application: /Users/justin/Library/Developer/Xcode/DerivedData/Build/Products/Debug/mglMetal.app\n",
      "(pglBase:open) Using socket with address: /Users/justin/Library/Containers/gru.mglMetal/Data/pglMetal.socket.wAHCfNQqPg\n",
      "(pgl:_pglComm) .Connected to: /Users/justin/Library/Containers/gru.mglMetal/Data/pglMetal.socket.wAHCfNQqPg\n",
      "(pgldraw:validateColor) 1 colors provided, using only first color.\n",
      "(pglDataPixx) pypixxlib is not installed. Please install it to use DataPixx.\n",
      "(pglDevices) Added device: DataPixx\n"
     ]
    }
   ],
   "source": [
    "pgl = pglLibrary()\n",
    "pgl.open(0,880, 600)\n",
    "#pgl.open()\n",
    "pgl.visualAngle(57,40,30)\n",
    "datapixx = pglDataPixx()\n",
    "pgl.devicesAdd(datapixx)"
   ]
  }
 ],
 "metadata": {
  "kernelspec": {
   "display_name": "Python 3",
   "language": "python",
   "name": "python3"
  },
  "language_info": {
   "codemirror_mode": {
    "name": "ipython",
    "version": 3
   },
   "file_extension": ".py",
   "mimetype": "text/x-python",
   "name": "python",
   "nbconvert_exporter": "python",
   "pygments_lexer": "ipython3",
   "version": "3.13.5"
  }
 },
 "nbformat": 4,
 "nbformat_minor": 5
}
