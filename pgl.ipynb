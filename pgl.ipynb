{
 "cells": [
  {
   "cell_type": "code",
   "execution_count": 2,
   "id": "8df71dd8",
   "metadata": {},
   "outputs": [],
   "source": [
    "#import pgl\n",
    "from pgl import pgl as pglLibrary\n",
    "from pgl import screen as pglScreen\n",
    "from pgl import task as pglTask"
   ]
  },
  {
   "cell_type": "code",
   "execution_count": null,
   "id": "a081bbff",
   "metadata": {},
   "outputs": [
    {
     "name": "stdout",
     "output_type": "stream",
     "text": [
      "Graphics/Displays:\n",
      "\n",
      "    Apple M1 Pro:\n",
      "\n",
      "      Chipset Model: Apple M1 Pro\n",
      "      Type: GPU\n",
      "      Bus: Built-In\n",
      "      Total Number of Cores: 14\n",
      "      Vendor: Apple (0x106b)\n",
      "      Metal Support: Metal 3\n",
      "      Displays:\n",
      "        LG HDR DQHD:\n",
      "          Resolution: 3840 x 1080\n",
      "          UI Looks like: 3840 x 1080 @ 30.00Hz\n",
      "          Main Display: Yes\n",
      "          Mirror: Off\n",
      "          Online: Yes\n",
      "          Rotation: Supported\n",
      "          Television: Yes\n",
      "        Color LCD:\n",
      "          Display Type: Built-in Liquid Retina XDR Display\n",
      "          Resolution: 3024 x 1964 Retina\n",
      "          Mirror: Off\n",
      "          Online: Yes\n",
      "          Automatically Adjust Brightness: Yes\n",
      "          Connection Type: Internal\n",
      "\n",
      "\n",
      "(pgl:checkOS) Running on MacBook Pro (MacBookPro18,3) with macOS version: 15.5\n",
      "(pgl:checkOS) Apple M1 Pro Cores: 8 (6 performance and 2 efficiency) Memory: 32 GB\n",
      "(pgl:_socket) initializing socket\n",
      "(pgl) Verbosity level set to 1\n",
      "(pgl) Main library instance created\n",
      "(pgl) Verbosity level set to 2\n",
      "(pgl:displayInfo:setVerbose) Verbose level set to 2\n",
      "Graphics/Displays:\n",
      "\n",
      "    Apple M1 Pro:\n",
      "\n",
      "      Chipset Model: Apple M1 Pro\n",
      "      Type: GPU\n",
      "      Bus: Built-In\n",
      "      Total Number of Cores: 14\n",
      "      Vendor: Apple (0x106b)\n",
      "      Metal Support: Metal 3\n",
      "      Displays:\n",
      "        LG HDR DQHD:\n",
      "          Resolution: 3840 x 1080\n",
      "          UI Looks like: 3840 x 1080 @ 30.00Hz\n",
      "          Main Display: Yes\n",
      "          Mirror: Off\n",
      "          Online: Yes\n",
      "          Rotation: Supported\n",
      "          Television: Yes\n",
      "        Color LCD:\n",
      "          Display Type: Built-in Liquid Retina XDR Display\n",
      "          Resolution: 3024 x 1964 Retina\n",
      "          Mirror: Off\n",
      "          Online: Yes\n",
      "          Automatically Adjust Brightness: Yes\n",
      "          Connection Type: Internal\n",
      "\n",
      "\n",
      "(pgl:checkOS) Running on MacBook Pro (MacBookPro18,3) with macOS version: 15.5\n",
      "(pgl:checkOS) Apple M1 Pro Cores: 8 (6 performance and 2 efficiency) Memory: 32 GB\n",
      "(pgl:checkOS) Hardware info\n",
      "{'Activation Lock Status': 'Enabled',\n",
      " 'Chip': 'Apple M1 Pro',\n",
      " 'Hardware': '',\n",
      " 'Hardware Overview': '',\n",
      " 'Hardware UUID': '66E7F0B0-569C-5835-BC48-615ABA130913',\n",
      " 'Memory': '32 GB',\n",
      " 'Model Identifier': 'MacBookPro18,3',\n",
      " 'Model Name': 'MacBook Pro',\n",
      " 'Model Number': 'Z15J001WYLL/A',\n",
      " 'OS Loader Version': '11881.121.1',\n",
      " 'Provisioning UDID': '00006000-001A71960E62801E',\n",
      " 'Serial Number (system)': 'GW1HQY4FQX',\n",
      " 'System Firmware Version': '11881.121.1',\n",
      " 'Total Number of Cores': '8 (6 performance and 2 efficiency)'}\n",
      "(pgl:checkOS) GPU info\n",
      "{'Apple M1 Pro': {'Bus': 'Built-In',\n",
      "                  'Chipset Model': 'Apple M1 Pro',\n",
      "                  'Displays': '',\n",
      "                  'Metal Support': 'Metal 3',\n",
      "                  'Total Number of Cores': '14',\n",
      "                  'Type': 'GPU',\n",
      "                  'Vendor': 'Apple (0x106b)'}}\n",
      "(pgl:getNumDisplaysAndDefault) Getting number of displays and default display\n"
     ]
    },
    {
     "data": {
      "text/plain": [
       "(2, 2)"
      ]
     },
     "execution_count": 2,
     "metadata": {},
     "output_type": "execute_result"
    }
   ],
   "source": [
    "pgl = pglLibrary()\n",
    "pgl.verbose = 1\n",
    "#pgl.getResolution(1)\n",
    "pgl.checkOS()\n",
    "#help(pgl.checkOS)\n",
    "pgl.getNumDisplaysAndDefault()"
   ]
  },
  {
   "cell_type": "code",
   "execution_count": null,
   "id": "f86af558",
   "metadata": {},
   "outputs": [
    {
     "name": "stdout",
     "output_type": "stream",
     "text": [
      "{'Apple M1 Pro': {'Bus': 'Built-In',\n",
      "                  'Chipset Model': 'Apple M1 Pro',\n",
      "                  'Displays': '',\n",
      "                  'Metal Support': 'Metal 3',\n",
      "                  'Total Number of Cores': '14',\n",
      "                  'Type': 'GPU',\n",
      "                  'Vendor': 'Apple (0x106b)'}}\n"
     ]
    },
    {
     "ename": "NameError",
     "evalue": "name 'gpuInfo' is not defined",
     "output_type": "error",
     "traceback": [
      "\u001b[0;31m---------------------------------------------------------------------------\u001b[0m",
      "\u001b[0;31mNameError\u001b[0m                                 Traceback (most recent call last)",
      "Cell \u001b[0;32mIn[5], line 5\u001b[0m\n\u001b[1;32m      1\u001b[0m \u001b[38;5;28;01mfrom\u001b[39;00m \u001b[38;5;21;01mpprint\u001b[39;00m \u001b[38;5;28;01mimport\u001b[39;00m pprint\n\u001b[1;32m      4\u001b[0m pprint(pgl\u001b[38;5;241m.\u001b[39mgpuInfo)\n\u001b[0;32m----> 5\u001b[0m \u001b[43mgpuInfo\u001b[49m\n",
      "\u001b[0;31mNameError\u001b[0m: name 'gpuInfo' is not defined"
     ]
    }
   ],
   "source": [
    "from pprint import pprint\n",
    "\n",
    "\n",
    "pprint(pgl.gpuInfo)\n"
   ]
  },
  {
   "cell_type": "code",
   "execution_count": null,
   "id": "e226ae90",
   "metadata": {},
   "outputs": [],
   "source": [
    "(screenWidth, screenHeight, refreshRate, bitDepth) = pglDisplayInfo.getResolution(1)\n",
    "print(f\"screenResolution: {screenWidth}x{screenHeight} refreshRate: {refreshRate} bitDepth: {bitDepth}\")\n",
    "\n",
    "pglDisplayInfo.setResolution(1, screenWidth, screenHeight, refreshRate, bitDepth)"
   ]
  },
  {
   "cell_type": "markdown",
   "id": "a33aae0c",
   "metadata": {},
   "source": [
    "Install pgl library"
   ]
  },
  {
   "cell_type": "code",
   "execution_count": 4,
   "id": "1f9d6cab",
   "metadata": {},
   "outputs": [
    {
     "name": "stdout",
     "output_type": "stream",
     "text": [
      "(pgl:_socket) initializing socket\n",
      "(pgl:checkOS) TODO: Check OS compatibility\n",
      "(pgl) Initializing pgl library\n",
      "(pgl) Main library instance created\n",
      "(pgl) Hello World!\n",
      "(pgl:open) Opening screen 1 with dimensions 1920x1080, refresh rate 60Hz, color depth 24-bit\n"
     ]
    },
    {
     "data": {
      "text/plain": [
       "True"
      ]
     },
     "execution_count": 4,
     "metadata": {},
     "output_type": "execute_result"
    }
   ],
   "source": [
    "pgl = pglLibrary()\n",
    "pgl.helloworld()\n",
    "pgl.open(1, 1920, 1080, 60, 24)"
   ]
  },
  {
   "cell_type": "markdown",
   "id": "358276c8",
   "metadata": {},
   "source": [
    "Instal screen and task"
   ]
  },
  {
   "cell_type": "code",
   "execution_count": null,
   "id": "c061716d",
   "metadata": {},
   "outputs": [],
   "source": [
    "#init screen\n",
    "s = pglScreen();\n",
    "s.helloworld();\n",
    "\n",
    "# init task\n",
    "t = pglTask();\n",
    "t.helloworld();\n"
   ]
  },
  {
   "cell_type": "code",
   "execution_count": null,
   "id": "b58c1d68",
   "metadata": {},
   "outputs": [],
   "source": [
    "# start MATLAB\n",
    "import matlab.engine\n",
    "eng = matlab.engine.start_matlab()\n",
    "\n",
    "# add mgl to path\n",
    "eng.addpath(eng.genpath(\"/Users/justin/proj/mgl\"),nargout=0)\n"
   ]
  },
  {
   "cell_type": "code",
   "execution_count": null,
   "id": "c0a268b3",
   "metadata": {},
   "outputs": [],
   "source": [
    "# mgl from python using mgl engine test\n",
    "eng.eval(\"mglOpen;\",nargout=0)\n",
    "eng.eval(\"mglVisualAngleCoordinates(57,[16,24]);\",nargout=0)\n",
    "eng.eval(\"mglClearScreen([0.3 0.7 0.2]);\",nargout=0)\n",
    "eng.eval(\"mglTextDraw('Hello World!',[0 0]);\",nargout=0)\n",
    "eng.eval(\"mglFlush;\",nargout=0)\n",
    "eng.eval(\"mglWaitSecs(3);\",nargout=0)\n",
    "eng.eval(\"mglClose;\",nargout=0)\n",
    "\n"
   ]
  }
 ],
 "metadata": {
  "kernelspec": {
   "display_name": "base",
   "language": "python",
   "name": "python3"
  },
  "language_info": {
   "codemirror_mode": {
    "name": "ipython",
    "version": 3
   },
   "file_extension": ".py",
   "mimetype": "text/x-python",
   "name": "python",
   "nbconvert_exporter": "python",
   "pygments_lexer": "ipython3",
   "version": "3.11.5"
  }
 },
 "nbformat": 4,
 "nbformat_minor": 5
}
