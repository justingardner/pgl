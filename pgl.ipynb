{
 "cells": [
  {
   "cell_type": "code",
   "execution_count": 23,
   "id": "8df71dd8",
   "metadata": {},
   "outputs": [
    {
     "name": "stdout",
     "output_type": "stream",
     "text": [
      "The autoreload extension is already loaded. To reload it, use:\n",
      "  %reload_ext autoreload\n"
     ]
    }
   ],
   "source": [
    "#!pip install numpy\n",
    "%load_ext autoreload\n",
    "%autoreload 2\n",
    "#import pgl\n",
    "from pgl import pgl as pglLibrary\n",
    "from pgl import screen as pglScreen\n",
    "from pgl import task as pglTask\n",
    "import numpy as np"
   ]
  },
  {
   "cell_type": "code",
   "execution_count": null,
   "id": "a081bbff",
   "metadata": {},
   "outputs": [
    {
     "name": "stdout",
     "output_type": "stream",
     "text": [
      "(pgl:checkOS) Running on Mac Pro (MacPro7,1) with macOS version: 15.5\n",
      "(pgl:checkOS) 16-Core Intel Xeon W Cores: 16 Memory: 96 GB\n"
     ]
    },
    {
     "ename": "AttributeError",
     "evalue": "'str' object has no attribute 'get'",
     "output_type": "error",
     "traceback": [
      "\u001b[31m---------------------------------------------------------------------------\u001b[39m",
      "\u001b[31mAttributeError\u001b[39m                            Traceback (most recent call last)",
      "\u001b[36mCell\u001b[39m\u001b[36m \u001b[39m\u001b[32mIn[35]\u001b[39m\u001b[32m, line 1\u001b[39m\n\u001b[32m----> \u001b[39m\u001b[32m1\u001b[39m pgl = \u001b[43mpglLibrary\u001b[49m\u001b[43m(\u001b[49m\u001b[43m)\u001b[49m\n\u001b[32m      2\u001b[39m pgl.verbose=\u001b[32m2\u001b[39m\n\u001b[32m      3\u001b[39m pgl.open(\u001b[32m0\u001b[39m,\u001b[32m880\u001b[39m, \u001b[32m600\u001b[39m)\n",
      "\u001b[36mFile \u001b[39m\u001b[32m~/proj/pgl/pgl/pglBase.py:41\u001b[39m, in \u001b[36mpglBase.__init__\u001b[39m\u001b[34m(self)\u001b[39m\n\u001b[32m     39\u001b[39m \u001b[38;5;28;01mdef\u001b[39;00m\u001b[38;5;250m \u001b[39m\u001b[34m__init__\u001b[39m(\u001b[38;5;28mself\u001b[39m):\n\u001b[32m     40\u001b[39m     \u001b[38;5;66;03m# check os\u001b[39;00m\n\u001b[32m---> \u001b[39m\u001b[32m41\u001b[39m     \u001b[38;5;28;01mif\u001b[39;00m \u001b[38;5;129;01mnot\u001b[39;00m \u001b[38;5;28;43mself\u001b[39;49m\u001b[43m.\u001b[49m\u001b[43mcheckOS\u001b[49m\u001b[43m(\u001b[49m\u001b[43m)\u001b[49m:\n\u001b[32m     42\u001b[39m         \u001b[38;5;28;01mraise\u001b[39;00m \u001b[38;5;167;01mException\u001b[39;00m(\u001b[33m\"\u001b[39m\u001b[33m(pglBase) Unsupported OS\u001b[39m\u001b[33m\"\u001b[39m)\n\u001b[32m     44\u001b[39m     \u001b[38;5;66;03m# Init verbose level to normal\u001b[39;00m\n",
      "\u001b[36mFile \u001b[39m\u001b[32m<string>:42\u001b[39m, in \u001b[36mcheckOS\u001b[39m\u001b[34m(self)\u001b[39m\n",
      "\u001b[31mAttributeError\u001b[39m: 'str' object has no attribute 'get'"
     ]
    }
   ],
   "source": [
    "pgl = pglLibrary()\n",
    "#pgl.verbose=2\n",
    "pgl.open(0,880, 600)\n",
    "#pgl.getWindowFrameInDisplay()\n",
    "#print(pgl.screenX.pix)\n",
    "#print(pgl.screenY.pix)\n",
    "#print(pgl.screenWidth)\n",
    "#print(pgl.screenHeight)\n",
    "#pgl.setWindowFrameInDisplay(1, 100, 100, 800, 600)\n",
    "#pgl.verbose = 1\n",
    "#pgl.getResolution(0)\n",
    "#pgl.getWindowFrameInDisplay()\n",
    "#pgl.setResolution(0, 1920, 1200, 120, 32)\n",
    "#pgl.setResolution(0, 3840, 1080, 60, 32)\n",
    "#pgl.setResolution(0, 1512, 982, 60, 32)\n",
    "#pgl.checkOS()\n",
    "#help(pgl.checkOS)\n",
    "#pgl.getNumDisplaysAndDefault()"
   ]
  },
  {
   "cell_type": "code",
   "execution_count": 18,
   "id": "7f27c160",
   "metadata": {},
   "outputs": [
    {
     "name": "stdout",
     "output_type": "stream",
     "text": [
      "(pglBase:close) Closing connection to mglMetal application\n",
      "(pglBase:close) Closing mglMetal application with PID 12189\n",
      "(pglBase:close) mglMetal application with PID: 12189 was killed successfully.\n",
      "(pgl:_socket) Closed socket: /Users/justin/Library/Containers/gru.mglMetal/Data/pglMetal.socket.7MMxX5cX0L\n"
     ]
    },
    {
     "data": {
      "text/plain": [
       "True"
      ]
     },
     "execution_count": 18,
     "metadata": {},
     "output_type": "execute_result"
    }
   ],
   "source": [
    "#pgl.verbose = 2\n",
    "#pgl.open(1, 1920, 1080, 60, 32)\n",
    "#pgl.clearScreen([0.7, 0.5, 0.1])\n",
    "#for i in range(120):\n",
    "#    pgl.clearScreen(np.random.rand(3))\n",
    "#    pgl.flush()\n",
    "\n",
    "pgl.clearScreen(np.random.rand(3))\n",
    "pgl.flush()\n",
    "pgl.close()\n",
    "#pgl.fullscreen(False)\n"
   ]
  },
  {
   "cell_type": "code",
   "execution_count": null,
   "id": "f86af558",
   "metadata": {},
   "outputs": [],
   "source": [
    "from pprint import pprint\n",
    "\n",
    "\n",
    "pprint(pgl.gpuInfo)\n"
   ]
  },
  {
   "cell_type": "code",
   "execution_count": null,
   "id": "e226ae90",
   "metadata": {},
   "outputs": [],
   "source": [
    "(screenWidth, screenHeight, refreshRate, bitDepth) = pglDisplayInfo.getResolution(1)\n",
    "print(f\"screenResolution: {screenWidth}x{screenHeight} refreshRate: {refreshRate} bitDepth: {bitDepth}\")\n",
    "\n",
    "pglDisplayInfo.setResolution(1, screenWidth, screenHeight, refreshRate, bitDepth)"
   ]
  },
  {
   "cell_type": "markdown",
   "id": "a33aae0c",
   "metadata": {},
   "source": [
    "Install pgl library"
   ]
  },
  {
   "cell_type": "code",
   "execution_count": null,
   "id": "1f9d6cab",
   "metadata": {},
   "outputs": [],
   "source": [
    "pgl = pglLibrary()\n",
    "pgl.helloworld()\n",
    "pgl.open(1, 1920, 1080, 60, 24)"
   ]
  },
  {
   "cell_type": "markdown",
   "id": "358276c8",
   "metadata": {},
   "source": [
    "Instal screen and task"
   ]
  },
  {
   "cell_type": "code",
   "execution_count": 15,
   "id": "c061716d",
   "metadata": {},
   "outputs": [
    {
     "name": "stdout",
     "output_type": "stream",
     "text": [
      "(pgl:screen) initializing screen\n",
      "(pgl:screen) Hello World! I am screen\n",
      "(pgl:task) initializing task\n",
      "(pgl:task) Hello World! I am task\n"
     ]
    }
   ],
   "source": [
    "#init screen\n",
    "s = pglScreen();\n",
    "s.helloworld();\n",
    "\n",
    "# init task\n",
    "t = pglTask();\n",
    "t.helloworld();\n"
   ]
  },
  {
   "cell_type": "code",
   "execution_count": null,
   "id": "b58c1d68",
   "metadata": {},
   "outputs": [],
   "source": [
    "# start MATLAB\n",
    "import matlab.engine\n",
    "eng = matlab.engine.start_matlab()\n",
    "\n",
    "# add mgl to path\n",
    "eng.addpath(eng.genpath(\"/Users/justin/proj/mgl\"),nargout=0)\n"
   ]
  },
  {
   "cell_type": "code",
   "execution_count": null,
   "id": "c0a268b3",
   "metadata": {},
   "outputs": [],
   "source": [
    "# mgl from python using mgl engine test\n",
    "eng.eval(\"mglOpen;\",nargout=0)\n",
    "eng.eval(\"mglVisualAngleCoordinates(57,[16,24]);\",nargout=0)\n",
    "eng.eval(\"mglClearScreen([0.3 0.7 0.2]);\",nargout=0)\n",
    "eng.eval(\"mglTextDraw('Hello World!',[0 0]);\",nargout=0)\n",
    "eng.eval(\"mglFlush;\",nargout=0)\n",
    "eng.eval(\"mglWaitSecs(3);\",nargout=0)\n",
    "eng.eval(\"mglClose;\",nargout=0)\n",
    "\n"
   ]
  }
 ],
 "metadata": {
  "kernelspec": {
   "display_name": "Python 3",
   "language": "python",
   "name": "python3"
  },
  "language_info": {
   "codemirror_mode": {
    "name": "ipython",
    "version": 3
   },
   "file_extension": ".py",
   "mimetype": "text/x-python",
   "name": "python",
   "nbconvert_exporter": "python",
   "pygments_lexer": "ipython3",
   "version": "3.13.5"
  }
 },
 "nbformat": 4,
 "nbformat_minor": 5
}
