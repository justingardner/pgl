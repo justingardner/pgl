{
 "cells": [
  {
   "cell_type": "code",
   "execution_count": null,
   "id": "8df71dd8",
   "metadata": {},
   "outputs": [],
   "source": [
    "try:\n",
    "    if pgl is not None:\n",
    "        pgl.close()\n",
    "        pgl = None\n",
    "        print(\"PGL Close\")\n",
    "except NameError:\n",
    "    print(\"No PGL is open\")"
   ]
  },
  {
   "cell_type": "code",
   "execution_count": 5,
   "id": "e5d6086a",
   "metadata": {},
   "outputs": [
    {
     "name": "stdout",
     "output_type": "stream",
     "text": [
      "The autoreload extension is already loaded. To reload it, use:\n",
      "  %reload_ext autoreload\n",
      "(pgl:checkOS) Running on Mac mini (Mac14,3) with macOS version: 15.6.1\n",
      "(pgl:checkOS) Apple M2 Cores: 8 (4 performance and 4 efficiency) Memory: 16 GB\n",
      "(pgl:checkOS) GPU: Apple M2 (Built-In) 10 cores, Metal 3 support\n",
      "(pgl:checkOS)   HP ZR2440w [Main Display]: 1920 x 1200 (WUXGA - Widescreen Ultra eXtended Graphics Array) (Unknown type)\n",
      "(pgl:checkOS)   VIEWPixx3D: 1920 x 1080 (1080p FHD - Full High Definition) (Unknown type)\n",
      "(pglBase) Verbosity level set to 1\n",
      "(pglBase) Main library instance created\n",
      "(pglBase) Main library closed\n",
      "3.12.11 | packaged by conda-forge | (main, Jun  4 2025, 14:38:53) [Clang 18.1.8 ]\n"
     ]
    }
   ],
   "source": [
    "%load_ext autoreload\n",
    "%autoreload 2\n",
    "#import pgl\n",
    "from pgl import pgl as pglLibrary\n",
    "from pgl import screen as pglScreen\n",
    "from pgl import task as pglTask\n",
    "from pgl import pglProPixx\n",
    "from pgl import pglDataPixx\n",
    "from pgl import pglTrackPixx3\n",
    "from pgl import pglEyelink\n",
    "from pgl import pglKeyboard\n",
    "import numpy as np\n",
    "import sys\n",
    "from PIL import Image\n",
    "import matplotlib.pyplot as plt\n",
    "pgl = pglLibrary()\n",
    "print(sys.version)"
   ]
  },
  {
   "cell_type": "code",
   "execution_count": 6,
   "id": "d0241b16",
   "metadata": {},
   "outputs": [
    {
     "name": "stdout",
     "output_type": "stream",
     "text": [
      "(pgl:checkOS) Running on Mac mini (Mac14,3) with macOS version: 15.6.1\n",
      "(pgl:checkOS) Apple M2 Cores: 8 (4 performance and 4 efficiency) Memory: 16 GB\n",
      "(pgl:checkOS) GPU: Apple M2 (Built-In) 10 cores, Metal 3 support\n",
      "(pgl:checkOS)   HP ZR2440w [Main Display]: 1920 x 1200 (WUXGA - Widescreen Ultra eXtended Graphics Array) (Unknown type)\n",
      "(pgl:checkOS)   VIEWPixx3D: 1920 x 1080 (1080p FHD - Full High Definition) (Unknown type)\n",
      "(pglBase) Verbosity level set to 1\n",
      "(pglBase) Main library instance created\n",
      "(pglBase) Main library closed\n",
      "(pglBase:open) Starting mglMetal application: /Users/gru/proj/pgl/metal/mglMetal.app\n",
      "(pglBase:open) Using socket with address: /Users/gru/Library/Containers/gru.mglMetal/Data/pglMetal.socket.xOs2FhvxO9\n",
      "(pgl:_pglComm) .Connected to: /Users/gru/Library/Containers/gru.mglMetal/Data/pglMetal.socket.xOs2FhvxO9\n",
      "(pgl:_resolution:getResolution) Display 0/2: 1920x1200 60Hz 32bits\n",
      "(pglKeyboard) Keyboard listener initialized.\n",
      "(pglDevices) Added device: pglKeyboard\n"
     ]
    },
    {
     "name": "stderr",
     "output_type": "stream",
     "text": [
      "This process is not trusted! Input event monitoring will not be possible until it is added to accessibility clients.\n"
     ]
    }
   ],
   "source": [
    "pgl = pglLibrary()\n",
    "pgl.open(0,880,600,stable=True)\n",
    "#pgl.open()\n",
    "pgl.visualAngle(57,40,30)\n",
    "#datapixx = pglDataPixx()\n",
    "#pgl.devicesAdd(datapixx)\n",
    "keyboardDevice = pglKeyboard()\n",
    "pgl.devicesAdd(keyboardDevice)"
   ]
  },
  {
   "cell_type": "code",
   "execution_count": null,
   "id": "1282e956",
   "metadata": {},
   "outputs": [],
   "source": [
    "from PIL import Image\n",
    "im = Image.open(\"testimage.jpg\")\n",
    "#im = im.transpose(Image.ROTATE_90)\n",
    "#im = im.resize((400, 300), Image.LANCZOS)\n",
    "pgl.imageDisplay(im)\n",
    "pgl.flush()"
   ]
  },
  {
   "cell_type": "code",
   "execution_count": null,
   "id": "29495f77",
   "metadata": {},
   "outputs": [],
   "source": [
    "#from pgl import pglEyelink\n",
    "from pgl import pglEyelinkCustomDisplay\n",
    "#eyelink = pglEyelink(pgl)\n",
    "#customDisplay = pglEyelinkCustomDisplay(pgl,eyelink)\n",
    "\n",
    "customDisplay = pglEyelinkCustomDisplay(pgl)\n",
    "\n",
    "customDisplay.clear_cal_display()\n",
    "customDisplay.draw_line(00,0,500,500,0)\n",
    "customDisplay.draw_lozenge(100,200,100,300,0)\n",
    "customDisplay.draw_cal_target(300,300)\n",
    "#customDisplay.get_input_key()\n",
    "#pgl.flush()"
   ]
  },
  {
   "cell_type": "code",
   "execution_count": null,
   "id": "8b4d60bd",
   "metadata": {},
   "outputs": [],
   "source": [
    "eyelink = pglEyelink(pgl)"
   ]
  },
  {
   "cell_type": "code",
   "execution_count": null,
   "id": "5af1601f",
   "metadata": {},
   "outputs": [],
   "source": [
    "pgl.devicesPoll()\n",
    "eyelink.calibrate()\n",
    "#eyelink.close()"
   ]
  },
  {
   "cell_type": "code",
   "execution_count": null,
   "id": "5eca2e8a",
   "metadata": {},
   "outputs": [],
   "source": [
    "eyelink.close()"
   ]
  },
  {
   "cell_type": "code",
   "execution_count": null,
   "id": "435c4704",
   "metadata": {},
   "outputs": [],
   "source": [
    "from pgl import pglKeyboard\n",
    "keyboardDevice = pglKeyboard()\n",
    "#keyboardDevice.stopListener()"
   ]
  },
  {
   "cell_type": "code",
   "execution_count": null,
   "id": "60d8e307",
   "metadata": {},
   "outputs": [],
   "source": [
    "#pgl.dots([1,3,4],[2,5,8],color=[[1,0,0],[0,1,0],[0,0,1]])\n",
    "#color=[[1,0,0],[0,1,0],[0,0,1],[1,0,0]]\n",
    "#rdk = pglRandomDotStimulus(pgl,width=10, height=10)\n",
    "pgl.commandRecord()\n",
    "rdk = pgl.randomDots(width=10, height=10, noiseType='movshon')\n",
    "print(rdk)\n",
    "for i in range(60*10):\n",
    "    rdk.display(direction=181, coherence=0.4, speed=7.0)\n",
    "    pgl.flush()\n",
    "#pgl.flush()\n",
    "pgl.commandRecordStop()\n",
    "pgl.commandList()\n"
   ]
  },
  {
   "cell_type": "code",
   "execution_count": null,
   "id": "f13e414c",
   "metadata": {},
   "outputs": [],
   "source": [
    "pgl.commandReplay()"
   ]
  },
  {
   "cell_type": "code",
   "execution_count": null,
   "id": "928216b0",
   "metadata": {},
   "outputs": [],
   "source": [
    "#pgl.verbose=1\n",
    "pgl.frameGrabInit()\n",
    "checkerboard = pgl.checkerboard(width=1)\n",
    "checkerboard.display()\n",
    "pgl.flush()\n",
    "\n",
    "x = pgl.frameGrab()\n",
    "print(x.shape)\n",
    "plt.imshow(x[:,:,:])\n",
    "pgl.frameGrabEnd()\n",
    "#print(x[:,:,3])"
   ]
  },
  {
   "cell_type": "code",
   "execution_count": null,
   "id": "cae2f22e",
   "metadata": {},
   "outputs": [],
   "source": [
    "#checkerboard.display(stimulusPhase = 0)\n",
    "#pgl.flush()\n",
    "#checkerboard.temporalSquareWave = True\n",
    "pgl.commandRecord()\n",
    "checkerboard = pgl.checkerboard(x=-5,checkWidth=1, checkHeight=1,width=1,temporalFrequency=1)\n",
    "for i in range(10*60): \n",
    "    checkerboard.display(stimulusPhase=0.5)\n",
    "    pgl.flush()\n",
    "pgl.commandRecordStop()\n",
    "pgl.commandList()"
   ]
  },
  {
   "cell_type": "code",
   "execution_count": null,
   "id": "33248576",
   "metadata": {},
   "outputs": [],
   "source": [
    "device = pglTrackPixx3(pgl)\n",
    "#datapixx.getError()\n",
    "device.dp.TPxSetLEDIntensity(8)\n",
    "#print(device.dp.TPxGetLEDIntensity())\n",
    "device.calibrateEyeImage()\n",
    "#device.getCameraImage()\n",
    "#Image.fromarray(device.getCameraImage()).show()"
   ]
  },
  {
   "cell_type": "code",
   "execution_count": null,
   "id": "b0e541e0",
   "metadata": {},
   "outputs": [],
   "source": [
    "\n",
    "#from pypixxlib.propixx import PROPixx\n",
    "#pgl.verbose=1\n",
    "#projector = pglProPixx()\n",
    "#datapixx = pglDataPixx()\n",
    "\n",
    "for i in range(1000):\n",
    "    events = pgl.devicesPoll()\n",
    "    #events = datapixx.poll()\n",
    "    if events is not None:\n",
    "        for event in events:\n",
    "            print(event)\n",
    "    pgl.waitSecs(0.1)\n",
    "#datapixx.setupDigitalOutput()\n",
    "#datapixx.test()\n",
    "#for i in range(5):\n",
    "#    print(f\"Polling DataPixx: {i}\")\n",
    "    #datapixx.poll()\n",
    "    #pgl.waitSecs(1)\n",
    "\n",
    "\n",
    "#device.setRearProjection(True)\n",
    "#from pypixxlib.propixx import PROPixx\n",
    "#propixx = PROPixx()\n",
    "#propixx.getDlpSequencerProgram()\n",
    "#projector.status()\n",
    "#print(device)\n",
    "#from pgl.pglDevice import pglDevice, pglProPixx\n",
    "#huh = pglDevice(pgl,'huh')\n",
    "#duh = pglProPixx(pgl)"
   ]
  },
  {
   "cell_type": "code",
   "execution_count": null,
   "id": "cefe8cca",
   "metadata": {},
   "outputs": [],
   "source": [
    "from PIL import Image, ImageDraw, ImageFont\n",
    "import numpy as np\n",
    "\n",
    "# Load Helvetica (on macOS)\n",
    "font_path = \"/System/Library/Fonts/Helvetica.ttc\"\n",
    "font_size = 40\n",
    "font = ImageFont.truetype(font_path, font_size)\n",
    "\n",
    "# The text to render\n",
    "text = \"Hello World\"\n",
    "padding = 10  # Add some padding around text\n",
    "\n",
    "# Create a dummy image to measure text size\n",
    "dummy_img = Image.new(\"RGBA\", (1, 1))\n",
    "draw = ImageDraw.Draw(dummy_img)\n",
    "\n",
    "# Get bounding box of the text\n",
    "bbox = draw.textbbox((0, 0), text, font=font)\n",
    "text_width = bbox[2] - bbox[0]\n",
    "text_height = bbox[3] - bbox[1]\n",
    "\n",
    "# Create an image with transparent background\n",
    "img = Image.new(\"RGBA\", (text_width + 2 * padding, text_height + 2 * padding), (0, 0, 0, 0))\n",
    "draw = ImageDraw.Draw(img)\n",
    "\n",
    "# Draw anti-aliased white text\n",
    "draw.text((padding, padding), text, font=font, fill=(255, 255, 255, 255))\n",
    "\n",
    "# Convert to NumPy array\n",
    "bitmap = np.array(img)\n",
    "\n",
    "# Debug: print shape and preview alpha channel\n",
    "print(\"Bitmap shape:\", bitmap.shape)\n",
    "print(\"Alpha channel:\")\n",
    "print(bitmap[:, :, 3])\n",
    "\n"
   ]
  },
  {
   "cell_type": "code",
   "execution_count": null,
   "id": "f7f567ce",
   "metadata": {},
   "outputs": [],
   "source": [
    "\n",
    "#pgl.text(\"hello world\",line=1,fontName = \"Futura\",fontSize=30,color=(0,0,0,1))\n",
    "#pgl.text(\"This is the next line\",x=0,line=-2)\n",
    "pgl.verbose=1\n",
    "textImage = pgl.textCreate(\"And the next line of text, that I want to draw\")\n",
    "pgl.text(textImage,x=0,line=-2)\n",
    "pgl.text(\"next line\")\n",
    "pgl.text(\"wow\")\n",
    "\n",
    "pgl.flush()"
   ]
  },
  {
   "cell_type": "code",
   "execution_count": null,
   "id": "91d4e804",
   "metadata": {},
   "outputs": [],
   "source": [
    "#pgl.line(0,0,1920,1080,(1,0,0),units=\"pix\")\n",
    "pgl.arc(0,0,innerRadius=0,outerRadius=10,color=(0,1,0,1))\n",
    "\n",
    "#pgl.line(1920,0,0,1080,(0,0,1),units=\"pix\")\n",
    "pgl.flush()\n",
    "#pgl.printCommandResults()"
   ]
  },
  {
   "cell_type": "code",
   "execution_count": null,
   "id": "a081bbff",
   "metadata": {},
   "outputs": [],
   "source": [
    "pgl = pglLibrary()\n",
    "pgl.open(0,880, 600)\n",
    "#pgl.open()\n",
    "pgl.visualAngle(57,40,30)\n"
   ]
  },
  {
   "cell_type": "code",
   "execution_count": null,
   "id": "eed225df",
   "metadata": {},
   "outputs": [],
   "source": [
    "#pgl.clearScreen((0.5, 0.5, 0.5))  # Clear the screen with a gray color\n",
    "#pgl.verbose=1\n",
    "pgl.clearScreen((0.5, 0.5, 0.5))  # Clear the screen with a gray color\n",
    "grating = pgl.grating(spatialFrequency=0.1,phase=0, contrast=1,temporalFrequency=4.0,direction=-1)\n",
    "#gabor = pgl.gabor(spatialFrequency=1,orientation=45,width=40,height=30,phase=0,contrast=0.8)\n",
    "#gabor.print()\n"
   ]
  },
  {
   "cell_type": "code",
   "execution_count": null,
   "id": "8cabc2f0",
   "metadata": {},
   "outputs": [],
   "source": [
    "\n",
    "pgl.profileModeClearAll()\n",
    "pgl.profileMode = 2\n",
    "#pgl.batchStart()\n",
    "for i in range(360):\n",
    "    grating.display()\n",
    "    pgl.flush()\n",
    "pgl.profileMode = 0\n",
    "#pgl.flush()\n",
    "#pgl.waitSecs(1)\n",
    "#pgl.batchRun()\n",
    "#pgl.waitSecs(2)\n",
    "#pgl.batchEnd()\n",
    "#pgl.waitSecs(2)\n",
    "\n",
    "pgl.profileModeDisplay()"
   ]
  },
  {
   "cell_type": "code",
   "execution_count": null,
   "id": "d91e45ce",
   "metadata": {},
   "outputs": [],
   "source": [
    "#gabor.print()\n",
    "gabor.display()\n",
    "pgl.flush()\n",
    "\n"
   ]
  },
  {
   "cell_type": "code",
   "execution_count": null,
   "id": "fdfc1aa6",
   "metadata": {},
   "outputs": [],
   "source": [
    "pgl.profileModeClearAll()\n",
    "#pgl.fullScreen(True)\n",
    "_,_,frameRate,_ =pgl.getResolution()\n",
    "print(frameRate)\n",
    "pgl.profileMode = 2\n",
    "#print(pgl.profileMode)\n",
    "#print(pgl.profileModeBufferSize )\n",
    "pgl.clearScreen([0,0,0])\n",
    "pgl.flush()\n",
    "for i in range(frameRate*1):\n",
    "    pgl.dots(np.random.uniform(-20,20),np.random.uniform(-15,15))\n",
    "    #pgl.printCommandResults()\n",
    "    pgl.flush()\n",
    "pgl.profileMode = 0\n",
    "#pgl.fullScreen(False)\n",
    "pgl.profileModeDisplay()\n"
   ]
  },
  {
   "cell_type": "code",
   "execution_count": null,
   "id": "46afedf7",
   "metadata": {},
   "outputs": [],
   "source": [
    "_,_,frameRate,_ =pgl.getResolution()\n",
    "pgl.profileModeClearAll()\n",
    "pgl.batchStart()\n",
    "for i in range(frameRate*5):\n",
    "    #im.display()\n",
    "    pgl.dots(np.random.uniform(-20,20),np.random.uniform(-15,15))\n",
    "    #pgl.printCommandResults()\n",
    "    #pgl.printCommandResults()\n",
    "\n",
    "\n",
    "    pgl.flush()\n",
    "    #pgl.printCommandResults()\n",
    "#pgl.batchRun()\n",
    "#pgl.batchEnd()"
   ]
  },
  {
   "cell_type": "code",
   "execution_count": null,
   "id": "a3a4ed41",
   "metadata": {},
   "outputs": [],
   "source": [
    "pgl.batchRun()\n",
    "pgl.batchEnd()\n",
    "pgl.profileModeDisplay()"
   ]
  },
  {
   "cell_type": "code",
   "execution_count": null,
   "id": "09bc7c23",
   "metadata": {},
   "outputs": [],
   "source": [
    "imData = Image.open('/Users/justin/proj/pgl/testimage.jpg')\n",
    "#pgl.visualAngle(57,40,30)\n",
    "pgl.imageDisplay(imData)\n",
    "pgl.flush()"
   ]
  },
  {
   "cell_type": "markdown",
   "id": "a33aae0c",
   "metadata": {},
   "source": [
    "Install pgl library"
   ]
  },
  {
   "cell_type": "markdown",
   "id": "358276c8",
   "metadata": {},
   "source": [
    "Instal screen and task"
   ]
  },
  {
   "cell_type": "code",
   "execution_count": null,
   "id": "c061716d",
   "metadata": {},
   "outputs": [],
   "source": [
    "#init screen\n",
    "s = pglScreen();\n",
    "s.helloworld();\n",
    "\n",
    "# init task\n",
    "t = pglTask();\n",
    "t.helloworld();\n"
   ]
  },
  {
   "cell_type": "code",
   "execution_count": null,
   "id": "b58c1d68",
   "metadata": {},
   "outputs": [],
   "source": [
    "# start MATLAB\n",
    "import matlab.engine\n",
    "eng = matlab.engine.start_matlab()\n",
    "\n",
    "# add mgl to path\n",
    "eng.addpath(eng.genpath(\"/Users/justin/proj/mgl\"),nargout=0)\n"
   ]
  },
  {
   "cell_type": "code",
   "execution_count": null,
   "id": "c0a268b3",
   "metadata": {},
   "outputs": [],
   "source": [
    "# mgl from python using mgl engine test\n",
    "eng.eval(\"mglOpen;\",nargout=0)\n",
    "eng.eval(\"mglVisualAngleCoordinates(57,[16,24]);\",nargout=0)\n",
    "eng.eval(\"mglClearScreen([0.3 0.7 0.2]);\",nargout=0)\n",
    "eng.eval(\"mglTextDraw('Hello World!',[0 0]);\",nargout=0)\n",
    "eng.eval(\"mglFlush;\",nargout=0)\n",
    "eng.eval(\"mglWaitSecs(3);\",nargout=0)\n",
    "eng.eval(\"mglClose;\",nargout=0)\n",
    "\n"
   ]
  }
 ],
 "metadata": {
  "kernelspec": {
   "display_name": "gru",
   "language": "python",
   "name": "python3"
  },
  "language_info": {
   "codemirror_mode": {
    "name": "ipython",
    "version": 3
   },
   "file_extension": ".py",
   "mimetype": "text/x-python",
   "name": "python",
   "nbconvert_exporter": "python",
   "pygments_lexer": "ipython3",
   "version": "3.12.11"
  }
 },
 "nbformat": 4,
 "nbformat_minor": 5
}
