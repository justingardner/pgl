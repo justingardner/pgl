{
 "cells": [
  {
   "cell_type": "code",
   "execution_count": 1,
   "id": "8df71dd8",
   "metadata": {},
   "outputs": [],
   "source": [
    "#!pip install numpy\n",
    "#import pgl\n",
    "from pgl import pgl as pglLibrary\n",
    "from pgl import screen as pglScreen\n",
    "from pgl import task as pglTask\n",
    "import numpy as np"
   ]
  },
  {
   "cell_type": "code",
   "execution_count": null,
   "id": "a081bbff",
   "metadata": {},
   "outputs": [
    {
     "name": "stdout",
     "output_type": "stream",
     "text": [
      "(pgl:checkOS) Running on MacBook Pro (MacBookPro18,3) with macOS version: 15.5\n",
      "(pgl:checkOS) Apple M1 Pro Cores: 8 (6 performance and 2 efficiency) Memory: 32 GB\n",
      "(pgl:checkOS) GPU: Apple M1 Pro (Built-In) 14 cores, Metal 3 support\n",
      "(pgl:checkOS)   Color LCD [Main Display]: 3024 x 1964 Retina (Built-in Liquid Retina XDR Display)\n",
      "(pglBase) Verbosity level set to 1\n",
      "(pglBase) Main library instance created\n",
      "(pglBase:open) Opening screen 1 with dimensions 1920x1080, refresh rate 60Hz, color depth 32-bit\n",
      "(pglBase:open) Starting mglMetal application: /Users/justin/proj/mgl/metal/binary/stable/mglMetal.app\n",
      "(pglBase:open) Using socket with address: /Users/justin/Library/Containers/gru.mglMetal/Data/pglMetal.socket.QbpygT5pxE\n",
      "(pgl:_socket) .Connected to: /Users/justin/Library/Containers/gru.mglMetal/Data/pglMetal.socket.QbpygT5pxE\n",
      "(pglBase:printCommandResults) Command results:\n",
      "(pglBase:printCommandResults) Ack: 1902437.829 (absolute time in seconds)\n",
      "(pglBase:printCommandResults) Command Code: 1012\n",
      "(pglBase:printCommandResults) Success: 1\n",
      "(pglBase:printCommandResults) Drawable Acquired: 3.535 ms\n",
      "(pglBase:printCommandResults) Processed Time: 5.003 ms\n",
      "(pglBase:printCommandResults) Command results:\n",
      "(pglBase:printCommandResults) Ack: 1902437.835 (absolute time in seconds)\n",
      "(pglBase:printCommandResults) Command Code: 1001\n",
      "(pglBase:printCommandResults) Success: 1\n",
      "(pglBase:printCommandResults) Vertex Start: 1902437834887062272.000 ms\n",
      "(pglBase:printCommandResults) Vertex End: 1902437834899103232.000 ms\n",
      "(pglBase:printCommandResults) Drawable Acquired: -1.746 ms\n",
      "(pglBase:printCommandResults) Processed Time: 10.853 ms\n",
      "(pgl:displayInfo:getResolution) Invalid display number 1\n"
     ]
    },
    {
     "data": {
      "text/plain": [
       "(-1, -1, -1, -1)"
      ]
     },
     "execution_count": 3,
     "metadata": {},
     "output_type": "execute_result"
    }
   ],
   "source": [
    "pgl = pglLibrary()\n",
    "pgl.open(1, 1920, 1080, 60, 32)\n",
    "#pgl.verbose = 1\n",
    "pgl.getResolution(0)\n",
    "#pgl.setResolution(0, 1920, 1200, 120, 32)\n",
    "#pgl.setResolution(0, 3840, 1080, 60, 32)\n",
    "#pgl.setResolution(0, 1512, 982, 60, 32)\n",
    "#pgl.checkOS()\n",
    "#help(pgl.checkOS)\n",
    "#pgl.getNumDisplaysAndDefault()"
   ]
  },
  {
   "cell_type": "code",
   "execution_count": 3,
   "id": "7f27c160",
   "metadata": {},
   "outputs": [
    {
     "name": "stdout",
     "output_type": "stream",
     "text": [
      "(pglBase:printCommandResults) Command results:\n",
      "(pglBase:printCommandResults) Ack: 1901862.567 (absolute time in seconds)\n",
      "(pglBase:printCommandResults) Command Code: 1012\n",
      "(pglBase:printCommandResults) Success: 1\n",
      "(pglBase:printCommandResults) Drawable Acquired: 1.159 ms\n",
      "(pglBase:printCommandResults) Processed Time: 1.349 ms\n",
      "(pglBase:printCommandResults) Command results:\n",
      "(pglBase:printCommandResults) Ack: 1901862.568 (absolute time in seconds)\n",
      "(pglBase:printCommandResults) Command Code: 1001\n",
      "(pglBase:printCommandResults) Success: 1\n",
      "(pglBase:printCommandResults) Vertex Start: 1901862567295928576.000 ms\n",
      "(pglBase:printCommandResults) Vertex End: 1901862567317178624.000 ms\n",
      "(pglBase:printCommandResults) Drawable Acquired: -0.465 ms\n",
      "(pglBase:printCommandResults) Processed Time: 5.207 ms\n",
      "(pglBase:close) Closing connection to mglMetal application\n",
      "(pglBase:close) Closing mglMetal application with PID 27557\n",
      "(pglBase:close) mglMetal application with PID: 27557 was killed successfully.\n",
      "(pgl:_socket) Closed socket: /Users/justin/Library/Containers/gru.mglMetal/Data/pglMetal.socket.xKwoBDQ6hZ\n"
     ]
    },
    {
     "data": {
      "text/plain": [
       "True"
      ]
     },
     "execution_count": 3,
     "metadata": {},
     "output_type": "execute_result"
    }
   ],
   "source": [
    "#pgl.verbose = 2\n",
    "#pgl.open(1, 1920, 1080, 60, 32)\n",
    "#pgl.clearScreen([0.7, 0.5, 0.1])\n",
    "pgl.clearScreen(np.random.rand(3))\n",
    "pgl.flush()\n",
    "pgl.close()"
   ]
  },
  {
   "cell_type": "code",
   "execution_count": null,
   "id": "f86af558",
   "metadata": {},
   "outputs": [],
   "source": [
    "from pprint import pprint\n",
    "\n",
    "\n",
    "pprint(pgl.gpuInfo)\n"
   ]
  },
  {
   "cell_type": "code",
   "execution_count": null,
   "id": "e226ae90",
   "metadata": {},
   "outputs": [],
   "source": [
    "(screenWidth, screenHeight, refreshRate, bitDepth) = pglDisplayInfo.getResolution(1)\n",
    "print(f\"screenResolution: {screenWidth}x{screenHeight} refreshRate: {refreshRate} bitDepth: {bitDepth}\")\n",
    "\n",
    "pglDisplayInfo.setResolution(1, screenWidth, screenHeight, refreshRate, bitDepth)"
   ]
  },
  {
   "cell_type": "markdown",
   "id": "a33aae0c",
   "metadata": {},
   "source": [
    "Install pgl library"
   ]
  },
  {
   "cell_type": "code",
   "execution_count": null,
   "id": "1f9d6cab",
   "metadata": {},
   "outputs": [],
   "source": [
    "pgl = pglLibrary()\n",
    "pgl.helloworld()\n",
    "pgl.open(1, 1920, 1080, 60, 24)"
   ]
  },
  {
   "cell_type": "markdown",
   "id": "358276c8",
   "metadata": {},
   "source": [
    "Instal screen and task"
   ]
  },
  {
   "cell_type": "code",
   "execution_count": null,
   "id": "c061716d",
   "metadata": {},
   "outputs": [],
   "source": [
    "#init screen\n",
    "s = pglScreen();\n",
    "s.helloworld();\n",
    "\n",
    "# init task\n",
    "t = pglTask();\n",
    "t.helloworld();\n"
   ]
  },
  {
   "cell_type": "code",
   "execution_count": null,
   "id": "b58c1d68",
   "metadata": {},
   "outputs": [],
   "source": [
    "# start MATLAB\n",
    "import matlab.engine\n",
    "eng = matlab.engine.start_matlab()\n",
    "\n",
    "# add mgl to path\n",
    "eng.addpath(eng.genpath(\"/Users/justin/proj/mgl\"),nargout=0)\n"
   ]
  },
  {
   "cell_type": "code",
   "execution_count": null,
   "id": "c0a268b3",
   "metadata": {},
   "outputs": [],
   "source": [
    "# mgl from python using mgl engine test\n",
    "eng.eval(\"mglOpen;\",nargout=0)\n",
    "eng.eval(\"mglVisualAngleCoordinates(57,[16,24]);\",nargout=0)\n",
    "eng.eval(\"mglClearScreen([0.3 0.7 0.2]);\",nargout=0)\n",
    "eng.eval(\"mglTextDraw('Hello World!',[0 0]);\",nargout=0)\n",
    "eng.eval(\"mglFlush;\",nargout=0)\n",
    "eng.eval(\"mglWaitSecs(3);\",nargout=0)\n",
    "eng.eval(\"mglClose;\",nargout=0)\n",
    "\n"
   ]
  }
 ],
 "metadata": {
  "kernelspec": {
   "display_name": "base",
   "language": "python",
   "name": "python3"
  },
  "language_info": {
   "codemirror_mode": {
    "name": "ipython",
    "version": 3
   },
   "file_extension": ".py",
   "mimetype": "text/x-python",
   "name": "python",
   "nbconvert_exporter": "python",
   "pygments_lexer": "ipython3",
   "version": "3.11.5"
  }
 },
 "nbformat": 4,
 "nbformat_minor": 5
}
