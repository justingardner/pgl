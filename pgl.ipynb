{
 "cells": [
  {
   "cell_type": "code",
<<<<<<< HEAD
   "execution_count": 2,
   "id": "8df71dd8",
   "metadata": {},
   "outputs": [
    {
     "name": "stdout",
     "output_type": "stream",
     "text": [
      "The autoreload extension is already loaded. To reload it, use:\n",
      "  %reload_ext autoreload\n",
      "(pgl:checkOS) Running on MacBook Pro (MacBookPro18,3) with macOS version: 15.6\n",
      "(pgl:checkOS) Apple M1 Pro Cores: 8 (6 performance and 2 efficiency) Memory: 32 GB\n",
      "(pgl:checkOS) GPU: Apple M1 Pro (Built-In) 14 cores, Metal 3 support\n",
      "(pgl:checkOS)   Color LCD [Main Display]: 3024 x 1964 Retina (Built-in Liquid Retina XDR Display)\n",
      "(pgl:checkOS)   LED Cinema Display: 1920 x 1200 (WUXGA - Widescreen Ultra eXtended Graphics Array) (Unknown type)\n",
      "(pglBase) Verbosity level set to 1\n",
      "(pglBase) Main library instance created\n",
      "3.12.11 | packaged by Anaconda, Inc. | (main, Jun  5 2025, 08:03:38) [Clang 14.0.6 ]\n"
     ]
    }
   ],
=======
   "execution_count": null,
   "id": "8df71dd8",
   "metadata": {},
   "outputs": [],
>>>>>>> 83f61d8 (Yet another version of binaries. Also some code that now connects properly to eye tracker)
   "source": [
    "#!pip install numpy\n",
    "%load_ext autoreload\n",
    "%autoreload 2\n",
    "#!pip install /Users/Shared/koret_software/VPixx/VPixx\\ Technologies/Software\\ Tools/pypixxlib/pypixxlib-1.10.3.tar.gz\n",
    "#import pgl\n",
    "from pgl import pgl as pglLibrary\n",
    "from pgl import screen as pglScreen\n",
    "from pgl import task as pglTask\n",
    "from pgl import pglProPixx\n",
    "from pgl import pglDataPixx\n",
    "from pgl import pglTrackPixx3\n",
    "import numpy as np\n",
    "import sys\n",
    "from PIL import Image\n",
    "import matplotlib.pyplot as plt\n",
    "pgl = pglLibrary()\n",
    "print(sys.version)"
   ]
  },
  {
   "cell_type": "code",
<<<<<<< HEAD
   "execution_count": 13,
   "id": "03364259",
   "metadata": {},
   "outputs": [
    {
     "name": "stderr",
     "output_type": "stream",
     "text": [
      "1495 thread_policy_set failed: 4.\n",
      "1466 thread_policy_set failed: 4.\n",
      "1495 thread_policy_set failed: 4.\n",
      "Connection timed out"
     ]
    },
    {
     "name": "stdout",
     "output_type": "stream",
     "text": [
      "displayAPI: Connecting\n",
      "\u0007eyelink_core:Connection timed out\n"
     ]
    },
    {
     "name": "stderr",
     "output_type": "stream",
     "text": [
      "/Users/justin/miniforge3/envs/gru/lib/python3.12/site-packages/pylink/eyelink.py:280: SyntaxWarning: invalid escape sequence '\\s'\n",
      "  print(\"\\s\",sent,\"/\",size,)\n"
     ]
    },
    {
     "ename": "RuntimeError",
     "evalue": "Could not connect to tracker at 100.1.1.2",
     "output_type": "error",
     "traceback": [
      "\u001b[31m---------------------------------------------------------------------------\u001b[39m",
      "\u001b[31mRuntimeError\u001b[39m                              Traceback (most recent call last)",
      "\u001b[36mCell\u001b[39m\u001b[36m \u001b[39m\u001b[32mIn[13]\u001b[39m\u001b[32m, line 2\u001b[39m\n\u001b[32m      1\u001b[39m \u001b[38;5;28;01mimport\u001b[39;00m\u001b[38;5;250m \u001b[39m\u001b[34;01mpylink\u001b[39;00m\n\u001b[32m----> \u001b[39m\u001b[32m2\u001b[39m eyelink = pylink.EyeLink(\u001b[33m\"\u001b[39m\u001b[33m100.1.1.2\u001b[39m\u001b[33m\"\u001b[39m)\n",
      "\u001b[36mFile \u001b[39m\u001b[32m~/miniforge3/envs/gru/lib/python3.12/site-packages/pylink/eyelink.py:232\u001b[39m, in \u001b[36mEyeLink.__init__\u001b[39m\u001b[34m(self, trackeraddress)\u001b[39m\n\u001b[32m    230\u001b[39m \t\u001b[38;5;28mself\u001b[39m.trackeraddress = \u001b[33m\"\u001b[39m\u001b[33mMISSING_DATA\u001b[39m\u001b[33m\"\u001b[39m\n\u001b[32m    231\u001b[39m \u001b[38;5;28;01melse\u001b[39;00m:\n\u001b[32m--> \u001b[39m\u001b[32m232\u001b[39m \t\u001b[38;5;28mself\u001b[39m.open(trackeraddress,\u001b[32m0\u001b[39m)\n\u001b[32m    233\u001b[39m \t\u001b[38;5;28mself\u001b[39m.__dummyMode__ = \u001b[38;5;28;01mFalse\u001b[39;00m\n\u001b[32m    234\u001b[39m \t\u001b[38;5;28mself\u001b[39m.trackeraddress = trackeraddress\n",
      "\u001b[31mRuntimeError\u001b[39m: Could not connect to tracker at 100.1.1.2"
     ]
    }
   ],
   "source": [
    "import pylink\n",
    "eyelink = pylink.EyeLink(\"100.1.1.2\")\n"
   ]
  },
  {
   "cell_type": "code",
   "execution_count": 4,
   "id": "60d8e307",
=======
   "execution_count": 1,
   "id": "62cbd6e2",
>>>>>>> 83f61d8 (Yet another version of binaries. Also some code that now connects properly to eye tracker)
   "metadata": {},
   "outputs": [
    {
     "name": "stdout",
     "output_type": "stream",
     "text": [
      "Help on package pylink:\n",
      "\n",
      "NAME\n",
      "    pylink\n",
      "\n",
      "DESCRIPTION\n",
      "    Performing research with eye-tracking equipment typically requires a long-term investment in software\n",
      "    tools to collect, process, and analyze data. Much of this involves real-time data collection, saccadic\n",
      "    analysis, calibration routines, and so on.\n",
      "    The EyeLink® eye-tracking system is designed to implement most of the required software base for data\n",
      "    collection and conversion. It is most powerful when used with the Ethernet link interface, which allows\n",
      "    remote control of data collection and real-time data transfer. The PyLink toolkit includes Pylink module,\n",
      "    which implements all core EyeLink functions and classes for EyeLink connection and the eyelink graphics,\n",
      "    such as the display of camera image, calibration, validation, and drift correct. The EyeLink graphics is\n",
      "    currently implemented using Simple Direct Media Layer (SDL: www.libsdl.org).\n",
      "\n",
      "\n",
      "    The Pylink library contains a set of classes and functions, which are used to program experiments on many\n",
      "    different platforms, such as MS-DOS, Windows, Linux, and the Macintosh. Some programming standards,\n",
      "    such as placement of messages in the EDF file by your experiment, and the use of special data types, have\n",
      "    been implemented to allow portability of the development kit across platforms. The standard messages\n",
      "    allow general analysis tools such as EDF2ASC converter or EyeLink Data Viewer to process your EDF files.\n",
      "\n",
      "PACKAGE CONTENTS\n",
      "    __version__\n",
      "    constants\n",
      "    eyelink\n",
      "    pylink_c\n",
      "    pylink_cg\n",
      "    tracker\n",
      "\n",
      "FUNCTIONS\n",
      "    alert(...)\n",
      "        alert(message)\n",
      "        This method is used to give a notification to the user when an error occurs.\n",
      "        Parameters\n",
      "        <message>: Text message to be displayed.\n",
      "        Return Value:\n",
      "        None\n",
      "        Remarks:\n",
      "        This function does not allow printf formatting as in c. However you can do a formatted string argument in Python (e.g., an f-String).\n",
      "        This is equivalent to the C API void alert_printf(char *fmt, ...);\n",
      "\n",
      "    beginRealTimeMode(...)\n",
      "        beginRealTimeMode(delay)\n",
      "        Sets the application priority and cleans up pending Windows activity to place the application in realtime\n",
      "        mode. This could take up to 100 milliseconds, depending on the operation system, to set the application\n",
      "        priority.\n",
      "        Parameters\n",
      "        <delay> an integer, used to set the minimum time this function takes, so that this function can act as\n",
      "        a useful delay.\n",
      "        Return Value\n",
      "        None\n",
      "        This function is equivalent to the C API void begin_realtime_mode(UINT32 delay);\n",
      "\n",
      "    bitmapSave(...)\n",
      "        bitmapSave(iwidth,iheight,pixels,xs, ys, width,  height,fname,path, sv_options)iwidth  - original image widthiheight - original image heightpixels  - Pixels of the image in one of two possible formats:               pixel=[line1, line2, ... linen] line=[pix1,pix2,...,pixn],pix=(r,g,b).          pixel=[line1, line2, ... linen] line=[pix1,pix2,...,pixn],pix=0xAARRGGBB.xs - crop x positionys - crop y positionwidth - crop widthheight - crop heightfname - file name to savepath -  path to savesvoptions - save options(SV_NOREPLACE,SV_MAKEPATH)\n",
      "\n",
      "    closeMessageFile(...)\n",
      "        DOC UNDONE\n",
      "\n",
      "    currentTime(...)\n",
      "        currentTime()\n",
      "        Returns the current millisecond time since the initialization of the EyeLink library.\n",
      "        Parameters\n",
      "        None.\n",
      "        Return Value\n",
      "        Long integer for the current millisecond time since the initialization of the EyeLink library\n",
      "        This function is equivalent to the C API UINT32 current_time(void);\n",
      "\n",
      "    currentUsec(...)\n",
      "        currentUsec()\n",
      "        Returns the current microsecond time since the initialization of the EyeLink library.\n",
      "        Parameters\n",
      "        None.\n",
      "        Return Value\n",
      "        Long integer for the current microsecond time since the initialization of the EyeLink library\n",
      "        This is equivalent to the C API UINT32 current_usec(void);\n",
      "\n",
      "    enableExtendedRealtime(...)\n",
      "        DOC UNDONE\n",
      "\n",
      "    enablePCRSample(...)\n",
      "        If enabled, the raw data can be obtained\n",
      "\n",
      "    endRealTimeMode(...)\n",
      "        endRealTimeMode()\n",
      "        Returns the application to a priority slightly above normal and ends the realtime mode. This function should\n",
      "        execute rapidly, but there is the possibility that Windows will allow other tasks to run after this call, causing\n",
      "        delays of 1-20 milliseconds.\n",
      "        Parameters\n",
      "        None\n",
      "        Return Value\n",
      "        None\n",
      "        This function is equivalent to the C API void end_realtime_mode(void);\n",
      "\n",
      "    flushGetkeyQueue(...)\n",
      "        flushGetkeyQueue()\n",
      "        Initializes the key queue used by getkey(). It can be called at any time to get rid of any old keys from the\n",
      "        queue.\n",
      "        Parameters\n",
      "        None\n",
      "        Return Value\n",
      "        None\n",
      "        This is equivalent to the C API void flush_getkey_queue(void);\n",
      "\n",
      "    getLastError(...)\n",
      "        get error number returned by last call to corresponding C-API function\n",
      "\n",
      "    inRealTimeMode(...)\n",
      "        DOC UNDONE\n",
      "\n",
      "    msecDelay(...)\n",
      "        msecDelay(delay)\n",
      "        Adds an unblocked delay using currentTime().\n",
      "        Parameters\n",
      "        <delay>: an integer for the number of milliseconds to delay.\n",
      "        Return Value\n",
      "        None\n",
      "        This is equivalent to the C API void msec_delay(UINT32 n);\n",
      "\n",
      "    openCustomGraphicsInternal(...)\n",
      "        DOC UNDONE\n",
      "\n",
      "    openMessageFile(...)\n",
      "        DOC UNDONE\n",
      "\n",
      "    pumpDelay(...)\n",
      "        pumpDelay(delay)\n",
      "        During calls to msecDelay(), Windows is not able to handle messages. One result of this is that windows\n",
      "        may not appear. This is the preferred delay function when accurate timing is not needed. It calls\n",
      "        pumpMessages() until the last 20 milliseconds of the delay, allowing Windows to function properly. In rare\n",
      "        cases, the delay may be longer than expected. It does not process modeless dialog box messages.\n",
      "        Parameters\n",
      "        <delay>: an integer, which sets the number of milliseconds to delay.\n",
      "        Return Value\n",
      "        None\n",
      "        Use the This is equivalent to the C API void pump_delay(UINT32 delay);\n",
      "\n",
      "    sendMessageToFile(...)\n",
      "        DOC UNDONE\n",
      "\n",
      "DATA\n",
      "    ABORT_EXPT = 3\n",
      "    BLINK_EVENTS = 8192\n",
      "    BREAKPARSE = 10\n",
      "    BUTTONEVENT = 25\n",
      "    BUTTON_EVENTS = 64\n",
      "    BX_AVERAGE = 0\n",
      "    BX_DARKEN = 1\n",
      "    BX_GRAYSCALE = 16\n",
      "    BX_LIGHTEN = 2\n",
      "    BX_MAXCONTRAST = 4\n",
      "    BX_NODITHER = 8\n",
      "    CALIBRATION_AREA_WARNING = 2\n",
      "    CAL_ERR_BEEP = -1\n",
      "    CAL_GOOD_BEEP = 0\n",
      "    CAL_TARG_BEEP = 1\n",
      "    COMMAND_FULL_WARN = 1\n",
      "    CR_HAIR_COLOR = 1\n",
      "    CR_LEFT_WARNING = 1280\n",
      "    CR_LOST_LEFT_WARNING = 256\n",
      "    CR_LOST_RIGHT_WARNING = 512\n",
      "    CR_LOST_WARNING = 768\n",
      "    CR_RECOV_LEFT_WARNING = 1024\n",
      "    CR_RECOV_RIGHT_WARNING = 2048\n",
      "    CR_RECOV_WARNING = 3072\n",
      "    CR_RIGHT_WARNING = 2560\n",
      "    CR_WARNING = 3840\n",
      "    CURS_DOWN = 20480\n",
      "    CURS_LEFT = 19200\n",
      "    CURS_RIGHT = 19712\n",
      "    CURS_UP = 18432\n",
      "    DC_ERR_BEEP = -2\n",
      "    DC_GOOD_BEEP = 2\n",
      "    DC_TARG_BEEP = 3\n",
      "    DFILE_EVENTS_ON = 64\n",
      "    DFILE_IS_OPEN = 128\n",
      "    DFILE_SAMPLES_ON = 32\n",
      "    DLINK_EVENTS_ON = 8\n",
      "    DLINK_SAMPLES_ON = 4\n",
      "    DONE_TRIAL = 0\n",
      "    DRECORD_ACTIVE = 1\n",
      "    DROPPED_CONTROL = 8192\n",
      "    DROPPED_EVENT = 16384\n",
      "    DROPPED_SAMPLE = 32768\n",
      "    EL1000_TRACKER_MODEL = 4\n",
      "    EL_CALIBRATE_MODE = 11\n",
      "    EL_DEMO_MENU_MODE = 10\n",
      "    EL_DRIFT_CORR_MODE = 13\n",
      "    EL_IDLE_MODE = 1\n",
      "    EL_IMAGE_MODE = 2\n",
      "    EL_OPTIONS_MENU_MODE = 8\n",
      "    EL_OUTPUT_MENU_MODE = 9\n",
      "    EL_RECORD_MODE = 14\n",
      "    EL_SETUP_MENU_MODE = 3\n",
      "    EL_USER_MENU_1 = 5\n",
      "    EL_USER_MENU_2 = 6\n",
      "    EL_USER_MENU_3 = 7\n",
      "    EL_VALIDATE_MODE = 12\n",
      "    ENDBLINK = 4\n",
      "    ENDEVENTS = 18\n",
      "    ENDFIX = 8\n",
      "    ENDPARSE = 2\n",
      "    ENDSACC = 6\n",
      "    ENDSAMPLES = 16\n",
      "    ENTER_KEY = 13\n",
      "    ESC_KEY = 27\n",
      "    EVENT_GAZERES = 8192\n",
      "    EVENT_GAZEXY = 1024\n",
      "    EVENT_HREFXY = 512\n",
      "    EVENT_PUPILSIZE = 16384\n",
      "    EVENT_PUPILXY = 256\n",
      "    EVENT_STATUS = 4096\n",
      "    EVENT_VELOCITY = 32768\n",
      "    EXTERNAL_DEV_CEDRUS = 1\n",
      "    EXTERNAL_DEV_NONE = 0\n",
      "    EXTERNAL_DEV_SYS_KEYBOARD = 2\n",
      "    EYELINK = None\n",
      "    F10_KEY = 17408\n",
      "    F1_KEY = 15104\n",
      "    F2_KEY = 15360\n",
      "    F3_KEY = 15616\n",
      "    F4_KEY = 15872\n",
      "    F5_KEY = 16128\n",
      "    F6_KEY = 16384\n",
      "    F7_KEY = 16640\n",
      "    F8_KEY = 16896\n",
      "    F9_KEY = 17152\n",
      "    FIVE_SAMPLE_MODEL = 1\n",
      "    FIXATION_EVENTS = 4096\n",
      "    FIXUPDATE = 9\n",
      "    FIXUPDATE_EVENTS = 2048\n",
      "    FIX_AVG_ONLY = 8\n",
      "    FULL_WARN = 15\n",
      "    HAVE_EVENTS_FLAG = 4\n",
      "    HAVE_LEFT_FLAG = 32768\n",
      "    HAVE_RIGHT_FLAG = 16384\n",
      "    HAVE_SAMPLES_FLAG = 2\n",
      "    HEAD_POSITION_WARNING = 240\n",
      "    HEAD_VELOCITY_WARNING = 1\n",
      "    HPOS_ANGLE_WARNING = 8\n",
      "    HPOS_BOT_WARNING = 64\n",
      "    HPOS_DISTANCE_WARNING = 1\n",
      "    HPOS_LEFT_WARNING = 32\n",
      "    HPOS_MISSING_WARNING = 4\n",
      "    HPOS_RIGHT_WARNING = 16\n",
      "    HPOS_TOP_WARNING = 128\n",
      "    INPUTEVENT = 28\n",
      "    INPUT_EVENTS = 32\n",
      "    INTERP_PUPIL_WARNING = 32768\n",
      "    INTERP_SAMPLE_WARNING = 4096\n",
      "    IN_DISCONNECT_MODE = 16384\n",
      "    IN_DRIFTCORR_MODE = 16\n",
      "    IN_IDLE_MODE = 1\n",
      "    IN_IMAGE_MODE = 32\n",
      "    IN_PLAYBACK_MODE = 256\n",
      "    IN_RECORD_MODE = 4\n",
      "    IN_SETUP_MODE = 2\n",
      "    IN_TARGET_MODE = 8\n",
      "    IN_UNKNOWN_MODE = 0\n",
      "    IN_USER_MENU = 64\n",
      "    JUNK_KEY = 1\n",
      "    KB_BUTTON = 65280\n",
      "    KB_PRESS = 10\n",
      "    KB_RELEASE = -1\n",
      "    KB_REPEAT = 1\n",
      "    LED_BOT_WARNING = 64\n",
      "    LED_EXTRA_WARNING = 8\n",
      "    LED_LEFT_WARNING = 32\n",
      "    LED_MISSING_WARNING = 4\n",
      "    LED_RIGHT_WARNING = 16\n",
      "    LED_TOP_WARNING = 128\n",
      "    LEFTEYE_EVENTS = 32768\n",
      "    LINK_BROADCAST = 32\n",
      "    LINK_CONNECTED = 16\n",
      "    LINK_FULL_WARN = 4\n",
      "    LINK_IS_TCPIP = 64\n",
      "    MATH_ERROR_WARNING = 8192\n",
      "    MESSAGEEVENT = 24\n",
      "    MESSAGE_EVENTS = 512\n",
      "    MESSAGE_FULL_WARN = 2\n",
      "    MISSING_DATA = -32768\n",
      "    MOUSE_CURSOR_COLOR = 5\n",
      "    NINE_SAMPLE_MODEL = 2\n",
      "    PAGE_DOWN = 20736\n",
      "    PAGE_UP = 18688\n",
      "    PARSEDBY_GAZE = 192\n",
      "    PARSEDBY_HREF = 128\n",
      "    PARSEDBY_PUPIL = 64\n",
      "    PUPIL_BOX_COLOR = 3\n",
      "    PUPIL_DIA_FLAG = 1\n",
      "    PUPIL_HAIR_COLOR = 2\n",
      "    RECORD_FILE_EVENTS = 2\n",
      "    RECORD_FILE_SAMPLES = 1\n",
      "    RECORD_LINK_EVENTS = 8\n",
      "    RECORD_LINK_SAMPLES = 4\n",
      "    REPEAT_TRIAL = 1\n",
      "    RIGHTEYE_EVENTS = 16384\n",
      "    SACCADE_EVENTS = 1024\n",
      "    SAMPLE_BUTTONS = 32\n",
      "    SAMPLE_GAZERES = 512\n",
      "    SAMPLE_GAZEXY = 1024\n",
      "    SAMPLE_HEADPOS = 16\n",
      "    SAMPLE_HREFXY = 2048\n",
      "    SAMPLE_INPUTS = 64\n",
      "    SAMPLE_LEFT = 32768\n",
      "    SAMPLE_PUPILSIZE = 256\n",
      "    SAMPLE_PUPILXY = 4096\n",
      "    SAMPLE_RIGHT = 16384\n",
      "    SAMPLE_STATUS = 128\n",
      "    SAMPLE_TAGGED = 8\n",
      "    SAMPLE_TIMESTAMP = 8192\n",
      "    SAMPLE_TYPE = 200\n",
      "    SAMPLE_UTAGGED = 4\n",
      "    SEARCH_LIMIT_BOX_COLOR = 4\n",
      "    SEVENTEEN_SAMPLE_MODEL = 3\n",
      "    SKIP_TRIAL = 2\n",
      "    STARTBLINK = 3\n",
      "    STARTEVENTS = 17\n",
      "    STARTFIX = 7\n",
      "    STARTPARSE = 1\n",
      "    STARTSACC = 5\n",
      "    STARTSAMPLES = 15\n",
      "    START_TIME_ONLY = 4\n",
      "    SV_MAKEPATH = 2\n",
      "    SV_NOREPLACE = 1\n",
      "    TERMINATE_KEY = 32767\n",
      "    TFLAG_ANGLE = 8192\n",
      "    TFLAG_CLOSE = 2048\n",
      "    TFLAG_E_BSIDE = 4\n",
      "    TFLAG_E_LSIDE = 2\n",
      "    TFLAG_E_RSIDE = 1\n",
      "    TFLAG_E_TSIDE = 8\n",
      "    TFLAG_FAR = 1024\n",
      "    TFLAG_MISSING = 16384\n",
      "    TFLAG_NEAREYE = 4096\n",
      "    TFLAG_T_BSIDE = 64\n",
      "    TFLAG_T_LSIDE = 32\n",
      "    TFLAG_T_RSIDE = 16\n",
      "    TFLAG_T_TSIDE = 128\n",
      "    TRIAL_ERROR = -1\n",
      "    TRIAL_OK = 0\n",
      "\n",
      "VERSION\n",
      "    <module 'pylink.__version__' from '/Users/gru/anaconda3/envs/gru/lib/python3.12/site-packages/pylink/__version__.py'>\n",
      "\n",
      "FILE\n",
      "    /Users/gru/anaconda3/envs/gru/lib/python3.12/site-packages/pylink/__init__.py\n",
      "\n",
      "\n",
      "displayAPI: Connecting\n"
     ]
    },
    {
     "name": "stderr",
     "output_type": "stream",
     "text": [
      "1495 thread_policy_set failed: 4.\n",
      "1466 thread_policy_set failed: 4.\n",
      "1495 thread_policy_set failed: 4.\n"
     ]
    }
   ],
   "source": [
    "import pylink\n",
    "help(pylink)\n",
    "eyelink = pylink.EyeLink(\"100.1.1.1\")"
   ]
  },
  {
   "cell_type": "code",
   "execution_count": null,
   "id": "60d8e307",
   "metadata": {},
   "outputs": [],
   "source": [
    "#pgl.dots([1,3,4],[2,5,8],color=[[1,0,0],[0,1,0],[0,0,1]])\n",
    "#color=[[1,0,0],[0,1,0],[0,0,1],[1,0,0]]\n",
    "#rdk = pglRandomDotStimulus(pgl,width=10, height=10)\n",
    "pgl.commandRecord()\n",
    "rdk = pgl.randomDots(width=10, height=10, noiseType='movshon')\n",
    "print(rdk)\n",
    "for i in range(60*10):\n",
    "    rdk.display(direction=181, coherence=0.4, speed=7.0)\n",
    "    pgl.flush()\n",
    "#pgl.flush()\n",
    "pgl.commandRecordStop()\n",
    "pgl.commandList()\n"
   ]
  },
  {
   "cell_type": "code",
   "execution_count": 5,
   "id": "f13e414c",
   "metadata": {},
   "outputs": [
    {
     "name": "stdout",
     "output_type": "stream",
     "text": [
      "(pglImage:setRenderTarget) Setting render target to image 1 (880x600)\n",
      "(pglImage:setRenderTarget) Resetting render target to screen.\n"
     ]
    }
   ],
   "source": [
    "frames = pgl.commandReplay(frameGrab=True)"
   ]
  },
  {
   "cell_type": "code",
<<<<<<< HEAD
   "execution_count": 6,
   "id": "9e2b79a0",
   "metadata": {},
   "outputs": [
    {
     "name": "stdout",
     "output_type": "stream",
     "text": [
      "(600, 600, 880, 4)\n"
     ]
    },
    {
     "data": {
      "text/plain": [
       "<matplotlib.image.AxesImage at 0x14694be30>"
      ]
     },
     "execution_count": 6,
     "metadata": {},
     "output_type": "execute_result"
    },
    {
     "data": {
      "image/png": "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",
      "text/plain": [
       "<Figure size 640x480 with 1 Axes>"
      ]
     },
     "metadata": {},
     "output_type": "display_data"
    }
   ],
   "source": [
    "print(frames.shape)\n",
    "plt.imshow(frames[300])"
   ]
  },
  {
   "cell_type": "code",
   "execution_count": 7,
   "id": "928216b0",
   "metadata": {},
   "outputs": [
    {
     "name": "stdout",
     "output_type": "stream",
     "text": [
      "(pglImage:setRenderTarget) Setting render target to image 2 (880x600)\n",
      "(pglImage:setRenderTarget) Resetting render target to screen.\n"
     ]
    },
    {
     "data": {
      "image/png": "iVBORw0KGgoAAAANSUhEUgAAAigAAAGDCAYAAAABPus1AAAAOnRFWHRTb2Z0d2FyZQBNYXRwbG90bGliIHZlcnNpb24zLjEwLjAsIGh0dHBzOi8vbWF0cGxvdGxpYi5vcmcvlHJYcgAAAAlwSFlzAAAPYQAAD2EBqD+naQAAJ1lJREFUeJzt3Xt01PWd//HX5DaEmIzkQsaRgEGDCOFig6VQW2i5HRZkFXexogILerBclhRYLrJ7pC4mlG7Bdm3pEVmjsmx6XIFqpZbQapTNz4rRVIgUsKYhQEK8xEnAOAPh8/ujh+/pgEgGmM5nhufjnDnHfL/vD77fJwZf+X6/8xmXMcYIAADAIgnRbgAAAOBsBBQAAGAdAgoAALAOAQUAAFiHgAIAAKxDQAEAANYhoAAAAOsQUAAAgHUIKAAAwDoEFAAAYJ2oBpSf/exnys/PV5cuXVRUVKTXX389mu0AAABLRC2g/OIXv1BxcbFWrFihd955R9/4xjc0fvx4HTp0KFotAQAAS7ii9WGBQ4cO1Ve+8hWtX7/eOXbTTTfp9ttvV2lpaTRaAgAAlkiKxr80GAyqurpay5YtCzk+duxYVVVVnVMfCAQUCAScr0+fPq1PPvlEWVlZcrlcEe8XAABcOmOM2tra5PP5lJDw5TdxohJQPvroI3V0dCg3NzfkeG5urpqams6pLy0t1fe///2/VXsAACCCGhoa1KNHjy+tiUpAOePsqx/GmC+8IrJ8+XItXLjQ+drv96tnz56aOuB7Skl0R7xPAJffhyeO6qWDz4S1ZmLBdGWnXROhjgBEWrAjoM171ik9Pf2CtVEJKNnZ2UpMTDznaklzc/M5V1Ukye12y+0+N4ikJLoJKECMSk5Muag1/MwDsa8zj2dE5V08KSkpKioqUkVFRcjxiooKDR8+PBotAQAAi0TtFs/ChQt13333aciQIRo2bJieeOIJHTp0SA8++GC0WgIAAJaIWkC566679PHHH+uRRx5RY2OjCgsLtX37dvXq1StaLQEAAEtE9SHZOXPmaM6cOdFsAQAAWCiqAQXAlSshIUFdu3YNY4XrgvsmAIgfBBQAUTFo0CCtf+XfO11vjNHPi/9XRw9+GMGuANiCgAIgKpKTk5WTk9Pp3aCNMUpOSo5wVwBswfVSAABgHQIKAACwDgEFAABYh4ACAACsQ0ABAADWIaAAAADrEFAAAIB1CCgAAMA6BBQAAGAddpIFEBXvv/++pkyZEtaajCO9laTUCHUEwCYEFABR8cknn2hb1f+GteaOvg8oJ42AAlwJuMUDAACsQ0ABAADWIaAAAADrEFAAAIB1CCgAAMA6BBQAAGAdAgoAALAOAQUAAFiHgAIAAKzDTrIAoiIrK0t33313WGu61mdKgQg1BMAqBBQAUXH99ddrWVmpXC5Xp+qNMSqdtkH1+45GuDMANuAWDwAAsA4BBQAAWIeAAgAArENAAQAA1iGgAAAA6xBQAACAdQgoAADAOgQUAABgHQIKAACwDgEFAABYh63uAUTFkSNH9Mgjj3R+gZE+PGoi1xAAqxBQAETFkSNH9NOVT4a15o6+DygnzRehjgDYhFs8AADAOgQUAABgHQIKAACwDgEFAABYh4ACAACsQ0ABAADWIaAAAADrEFAAAIB1wg4or732mm677Tb5fD65XC5t27Yt5LwxRitXrpTP51NqaqpGjhyp2trakJpAIKD58+crOztbaWlpmjRpkg4fPnxJgwAAgPgR9k6yJ06c0KBBg/RP//RPuvPOO885v2bNGq1du1ZlZWXq06ePVq1apTFjxmj//v1KT0+XJBUXF+vFF19UeXm5srKytGjRIk2cOFHV1dVKTEy89KkAWC8tLU1DhgwJa01XkxahbgDYJuyAMn78eI0fP/4Lzxlj9Nhjj2nFihWaPHmyJOnpp59Wbm6uNm/erNmzZ8vv92vjxo169tlnNXr0aEnSpk2blJeXp507d2rcuHGXMA6AWNG/f389W7YurDWl0zaoft/RCHUEwCaX9RmUuro6NTU1aezYsc4xt9utESNGqKqqSpJUXV2tkydPhtT4fD4VFhY6NQCuHC6Xq1MvAFeWy/phgU1NTZKk3NzckOO5ubmqr693alJSUtStW7dzas6sP1sgEFAgEHC+bm1tvZxtAwAAy0TkXTxn/7ZjjLngb0BfVlNaWiqPx+O88vLyLluvAADAPpc1oHi9Xkk650pIc3Ozc1XF6/UqGAyqpaXlvDVnW758ufx+v/NqaGi4nG0DAADLXNaAkp+fL6/Xq4qKCudYMBhUZWWlhg8fLkkqKipScnJySE1jY6P27t3r1JzN7XYrIyMj5AUAAOJX2M+gHD9+XO+//77zdV1dnWpqapSZmamePXuquLhYJSUlKigoUEFBgUpKStS1a1dNnTpVkuTxeDRr1iwtWrRIWVlZyszM1OLFizVgwADnXT0AAODKFnZAeeutt/Stb33L+XrhwoWSpOnTp6usrExLlixRe3u75syZo5aWFg0dOlQ7duxw9kCRpHXr1ikpKUlTpkxRe3u7Ro0apbKyMvZAAQAAkiSXMcZEu4lwtba2yuPxaMbgZUpJdEe7HQAX4br+12pZ2f2dfguxMYZ9UIAYF+wIqKxmtfx+/wUf1+CzeAAAgHUu6z4oANBZxhidOnUq7DUArgwEFABR8e677+rGG28Ma83QjAnKSMqKUEcAbEJAARAVgUBAdXV1Ya0Z3DfA31rAFYJnUAAAgHUIKAAAwDoEFAAAYB0CCgAAsA4BBQAAWIeAAgAArENAAQAA1iGgAAAA6xBQAACAddiTEUBU5F+XrycWPtH5BUZ6b0uzPvvoZOSaAmANAgqAqMjpnqP7779fLperU/XGGJW+vkH1Hx2NcGcAbMAtHgAAYB0CCgAAsA4BBQAAWIeAAgAArENAAQAA1iGgAAAA6xBQAACAdQgoAADAOgQUAABgHXaSBRAVn376qbZv3x7WGr/fH6FuANiGgAIgKg4cOKA1E5eEteaOvg8oJ80XoY4A2IRbPAAAwDoEFAAAYB0CCgAAsA4BBQAAWIeAAgAArENAAQAA1iGgAAAA6xBQAACAdQgoAADAOuwkCyAqEhMT5fF4wl4D4MpAQAEQFYMHDdaG10vDWvOfc8t15MCxCHUEwCYEFABRkZiUqKuvvloul6tT9cYYJXEFBbhi8AwKAACwDgEFAABYh4ACAACsQ0ABAADWIaAAAADrEFAAAIB1CCgAAMA6BBQAAGCdsAJKaWmpbrnlFqWnp6t79+66/fbbtX///pAaY4xWrlwpn8+n1NRUjRw5UrW1tSE1gUBA8+fPV3Z2ttLS0jRp0iQdPnz40qcBAABxIaydZCsrKzV37lzdcsstOnXqlFasWKGxY8fqvffeU1pamiRpzZo1Wrt2rcrKytSnTx+tWrVKY8aM0f79+5Weni5JKi4u1osvvqjy8nJlZWVp0aJFmjhxoqqrq/msDeAKceDAAd12221hrcn5uJ9S1DVCHQGwicsYYy528Ycffqju3bursrJS3/zmN2WMkc/nU3FxsZYuXSrpL1dLcnNz9YMf/ECzZ8+W3+9XTk6Onn32Wd11112SpKNHjyovL0/bt2/XuHHjLvjvbW1tlcfj0YzBy5SS6L7Y9gFEUfOJI9r2xyfDWnNH3weUk+aLUEcAIi3YEVBZzWr5/X5lZGR8ae0lPYPi9/slSZmZmZKkuro6NTU1aezYsU6N2+3WiBEjVFVVJUmqrq7WyZMnQ2p8Pp8KCwudmrMFAgG1traGvAAAQPy66IBijNHChQt16623qrCwUJLU1NQkScrNzQ2pzc3Ndc41NTUpJSVF3bp1O2/N2UpLS+XxeJxXXl7exbYNAABiwEUHlHnz5undd9/V//zP/5xz7uxPJzXGXPATS7+sZvny5fL7/c6roaHhYtsGAAAx4KICyvz58/XCCy/olVdeUY8ePZzjXq9Xks65EtLc3OxcVfF6vQoGg2ppaTlvzdncbrcyMjJCXgAAIH6FFVCMMZo3b562bNmi3/3ud8rPzw85n5+fL6/Xq4qKCudYMBhUZWWlhg8fLkkqKipScnJySE1jY6P27t3r1AAAgCtbWG8znjt3rjZv3qxf/vKXSk9Pd66UeDwepaamyuVyqbi4WCUlJSooKFBBQYFKSkrUtWtXTZ061amdNWuWFi1apKysLGVmZmrx4sUaMGCARo8effknBAAAMSesgLJ+/XpJ0siRI0OOP/XUU5oxY4YkacmSJWpvb9ecOXPU0tKioUOHaseOHc4eKJK0bt06JSUlacqUKWpvb9eoUaNUVlbGHigAAEDSJe6DEi3sgwLEPvZBAa48f7N9UAAAACIhrFs8AHC55OTkaObwmWGtSTyQLbVHqCEAViGgAIiK/Px8LXvy0QvukXSGMUal0zaoft/RCHcGwAbc4gEAANYhoAAAAOsQUAAAgHUIKAAAwDoEFAAAYB0CCgAAsA4BBQAAWIeAAgAArENAAQAA1iGgAAAA67DVPYCoaGho0LJly8Ja03bYLX6vAq4MBBQAUdHY2Kj1a54Ma80dfR9QTpovQh0BsAm/igAAAOsQUAAAgHUIKAAAwDoEFAAAYB0CCgAAsA4BBQAAWIeAAgAArENAAQAA1iGgAAAA67CTLICoSL8qXV//+tfDWnNV4CrJRKghAFYhoACIipv63aSny34kl8vVqXpjjEqnbVD9vqMR7gyADbjFAwAArENAAQAA1iGgAAAA6xBQAACAdQgoAADAOgQUAABgHQIKAACwDgEFAABYh4ACAACsw06yAKLi9OnTCgQCnV9g/rIGwJWBgAIgKt79w7u64YYbwlrz9azbdXVydoQ6AmATAgqAqAieDOrIkSNhrTmZHpSSI9QQAKvwDAoAALAOAQUAAFiHgAIAAKxDQAEAANYhoAAAAOsQUAAAgHUIKAAAwDphBZT169dr4MCBysjIUEZGhoYNG6Zf//rXznljjFauXCmfz6fU1FSNHDlStbW1IX9GIBDQ/PnzlZ2drbS0NE2aNEmHDx++PNMAAIC4EFZA6dGjh1avXq233npLb731lr797W/r7//+750QsmbNGq1du1aPP/64du/eLa/XqzFjxqitrc35M4qLi7V161aVl5dr165dOn78uCZOnKiOjo7LOxkAAIhZLmOMuZQ/IDMzUz/84Q81c+ZM+Xw+FRcXa+nSpZL+crUkNzdXP/jBDzR79mz5/X7l5OTo2Wef1V133SVJOnr0qPLy8rR9+3aNGzeuU//O1tZWeTwezRi8TCmJ7ktpH0CUpOd20eC7e4S15p3NDTreHMbn9wCwSrAjoLKa1fL7/crIyPjS2ove6r6jo0PPPfecTpw4oWHDhqmurk5NTU0aO3asU+N2uzVixAhVVVVp9uzZqq6u1smTJ0NqfD6fCgsLVVVVdd6AEggEQj5UrLW19WLbBmCJrOws3XPPPXK5XJ2qN8bo0G826Hjz0Qh3BsAGYT8ku2fPHl111VVyu9168MEHtXXrVvXr109NTU2SpNzc3JD63Nxc51xTU5NSUlLUrVu389Z8kdLSUnk8HueVl5cXbtsAACCGhB1QbrzxRtXU1OiNN97Qd7/7XU2fPl3vvfeec/7s34aMMRf8DelCNcuXL5ff73deDQ0N4bYNAABiSNgBJSUlRTfccIOGDBmi0tJSDRo0SD/+8Y/l9Xol6ZwrIc3Nzc5VFa/Xq2AwqJaWlvPWfBG32+28c+jMCwAAxK9L3gfFGKNAIKD8/Hx5vV5VVFQ454LBoCorKzV8+HBJUlFRkZKTk0NqGhsbtXfvXqcGAAAgrIdkH3roIY0fP155eXlqa2tTeXm5Xn31Vb388styuVwqLi5WSUmJCgoKVFBQoJKSEnXt2lVTp06VJHk8Hs2aNUuLFi1SVlaWMjMztXjxYg0YMECjR4+OyIAAACD2hBVQjh07pvvuu0+NjY3yeDwaOHCgXn75ZY0ZM0aStGTJErW3t2vOnDlqaWnR0KFDtWPHDqWnpzt/xrp165SUlKQpU6aovb1do0aNUllZmRITEy/vZAAAIGZd8j4o0cA+KEDsu67/tVpWdn9YbzMunbZB9ft4mzEQq8LZB4XP4gEAANYhoAAAAOtc9E6yAHApWj5p0ZYtW8Jbc9YWBQDiFwEFQFQcfP+gfvgPS8Nac0ffB5ST5otQRwBswi0eAABgHQIKAACwDgEFAABYh4ACAACsQ0ABAADWIaAAAADrEFAAAIB1CCgAAMA6BBQAAGAddpIFEBVJSUnKzs4Oew2AKwM/7QCiYvCgwXrq//2w8wuMtO7BTTq8vylyTQGwBgEFQFQkJCYoLS1NLperU/XGGCUmcFcauFLw0w4AAKxDQAEAANYhoAAAAOsQUAAAgHUIKAAAwDoEFAAAYB0CCgAAsA4BBQAAWIeAAgAArMNOsgCi4o9//KPGjBkT1poebYPl1lUR6giATQgoAKKitbVVv33zt2GtuaNvb+WkEVCAKwG3eAAAgHUIKAAAwDoEFAAAYB0CCgAAsA4BBQAAWIeAAgAArENAAQAA1iGgAAAA6xBQAACAddhJFkDUJCSE+TuSyxWZRgBYh4ACICoGDhyo0q21Ya3Z/G87dKzukwh1BMAmBBQAUdGlSxfdeOONcnXyqogxRl26vBbhrgDYgmdQAACAdQgoAADAOgQUAABgHQIKAACwDgEFAABYh4ACAACsc0kBpbS0VC6XS8XFxc4xY4xWrlwpn8+n1NRUjRw5UrW1oXsdBAIBzZ8/X9nZ2UpLS9OkSZN0+PDhS2kFAADEkYsOKLt379YTTzyhgQMHhhxfs2aN1q5dq8cff1y7d++W1+vVmDFj1NbW5tQUFxdr69atKi8v165du3T8+HFNnDhRHR0dFz8JAACIGxcVUI4fP6577rlHGzZsULdu3Zzjxhg99thjWrFihSZPnqzCwkI9/fTT+uyzz7R582ZJkt/v18aNG/WjH/1Io0eP1s0336xNmzZpz5492rlz5+WZCgAAxLSL2kl27ty5mjBhgkaPHq1Vq1Y5x+vq6tTU1KSxY8c6x9xut0aMGKGqqirNnj1b1dXVOnnyZEiNz+dTYWGhqqqqNG7cuEsYB0CsqK+v14IFC8JaEzyUITbABq4MYf+kl5eX6+2339bu3bvPOdfU1CRJys3NDTmem5ur+vp6pyYlJSXkysuZmjPrzxYIBBQIBJyvW1tbw20bgGWOHTumbf/5ZFhr7uj7gHLSfBHqCIBNwrrF09DQoAULFmjTpk3q0qXLeevO/mwNY8wFP2/jy2pKS0vl8XicV15eXjhtAwCAGBNWQKmurlZzc7OKioqUlJSkpKQkVVZW6ic/+YmSkpKcKydnXwlpbm52znm9XgWDQbW0tJy35mzLly+X3+93Xg0NDeG0DQAAYkxYAWXUqFHas2ePampqnNeQIUN0zz33qKamRr1795bX61VFRYWzJhgMqrKyUsOHD5ckFRUVKTk5OaSmsbFRe/fudWrO5na7lZGREfICAADxK6xnUNLT01VYWBhyLC0tTVlZWc7x4uJilZSUqKCgQAUFBSopKVHXrl01depUSZLH49GsWbO0aNEiZWVlKTMzU4sXL9aAAQM0evToyzQWAACIZZf9cfglS5aovb1dc+bMUUtLi4YOHaodO3YoPT3dqVm3bp2SkpI0ZcoUtbe3a9SoUSorK1NiYuLlbgcAAMQglzHGRLuJcLW2tsrj8WjG4GVKSXRHux0AF6H5xBFt+yPv4gGuJMGOgMpqVsvv91/wcQ0+iwcAAFiHgAIAAKxDQAEAANZhz2gAUZGRkaFRo0aFt6YtQ+IzRYErAgEFQFT07dtXZWX/ccFdps8wxqh02gbV7zsa4c4A2IBbPAAAwDoEFAAAYB0CCgAAsA4BBQAAWIeAAgAArENAAQAA1iGgAAAA6xBQAACAdQgoAADAOuwkCyAqTnec1okTJzq/wEgdp09HriEAViGgAIiKmj/UqHfvfwtrzcjcf1A3d/cIdQTAJgQUAFFx6tQpffjhh+GtyToluSPUEACr8AwKAACwDgEFAABYh4ACAACsQ0ABAADWIaAAAADrEFAAAIB1CCgAAMA6BBQAAGAdAgoAALAOO8kCiIobbrhBz/37c2Gt+X3Zn9Ta1B6hjgDYhIACICoyMzN15513yuVydareGKMDv9xAQAGuENziAQAA1iGgAAAA6xBQAACAdQgoAADAOgQUAABgHQIKAACwDgEFAABYh4ACAACsQ0ABAADWYSdZAFHx8ccfa/PmzWGvAXBlIKAAiIo//elP+tG9y8Nac0ffB5ST5otQRwBswi0eAABgHQIKAACwDgEFAABYh4ACAACsQ0ABAADWIaAAAADrEFAAAIB1wgooK1eulMvlCnl5vV7nvDFGK1eulM/nU2pqqkaOHKna2tqQPyMQCGj+/PnKzs5WWlqaJk2apMOHD1+eaQAAQFwI+wpK//791djY6Lz27NnjnFuzZo3Wrl2rxx9/XLt375bX69WYMWPU1tbm1BQXF2vr1q0qLy/Xrl27dPz4cU2cOFEdHR2XZyIAABDzwt5JNikpKeSqyRnGGD322GNasWKFJk+eLEl6+umnlZubq82bN2v27Nny+/3auHGjnn32WY0ePVqStGnTJuXl5Wnnzp0aN27cJY4DIFYkJyfL5wtvV9jklOQIdQPANmEHlIMHD8rn88ntdmvo0KEqKSlR7969VVdXp6amJo0dO9apdbvdGjFihKqqqjR79mxVV1fr5MmTITU+n0+FhYWqqqo6b0AJBAIKBALO162treG2DcAygwYN0jMb1nZ+gZH+4/4yNexvilxTAKwRVkAZOnSonnnmGfXp00fHjh3TqlWrNHz4cNXW1qqp6S9/aeTm5oasyc3NVX19vSSpqalJKSkp6tat2zk1Z9Z/kdLSUn3/+98Pp1UAlktISJDb7ZbL5epUvTFGCQk81w9cKcL6aR8/frzuvPNODRgwQKNHj9ZLL70k6S+3cs44+y8bY8wF/wK6UM3y5cvl9/udV0NDQzhtAwCAGHNJv46kpaVpwIABOnjwoPNcytlXQpqbm52rKl6vV8FgUC0tLeet+SJut1sZGRkhLwAAEL8uKaAEAgHt27dP11xzjfLz8+X1elVRUeGcDwaDqqys1PDhwyVJRUVFSk5ODqlpbGzU3r17nRoAAICwnkFZvHixbrvtNvXs2VPNzc1atWqVWltbNX36dLlcLhUXF6ukpEQFBQUqKChQSUmJunbtqqlTp0qSPB6PZs2apUWLFikrK0uZmZlavHixc8sIAABACjOgHD58WHfffbc++ugj5eTk6Gtf+5reeOMN9erVS5K0ZMkStbe3a86cOWppadHQoUO1Y8cOpaenO3/GunXrlJSUpClTpqi9vV2jRo1SWVmZEhMTL+9kAAAgZrmMMSbaTYSrtbVVHo9HMwYvU0qiO9rtALgI1/W/VsvK7g/rXTyl0zaoft/RCHcGIFKCHQGV1ayW3++/4POkvGcPAABYh4ACAACsQ0ABAADWCXurewC4HPa9t0/f+MY3wlrTO/BVpYp9kIArAQEFQFS0HW/T/731f2Gt6d63n1LTCCjAlYBbPAAAwDoEFAAAYB0CCgAAsA4BBQAAWIeAAgAArENAAQAA1iGgAAAA6xBQAACAdQgoAADAOuwkCyAqXC6XkpI6/1eQSy65XK4IdgTAJgQUAFExcOBA/eilA50OHcYYlS39lZo++DjCnQGwAQEFQFS43W5dd911YQUUt9sd4a4A2IJnUAAAgHUIKAAAwDoEFAAAYB0CCgAAsA4BBQAAWIeAAgAArENAAQAA1iGgAAAA6xBQAACAddhJFkBU1NXV6YEHHghrTcKfu8ullAh1BMAmBBQAUfHhhx9q2+sbw1pzR98HlJPmi1BHAGzCLR4AAGAdAgoAALAOAQUAAFiHgAIAAKxDQAEAANYhoAAAAOsQUAAAgHUIKAAAwDoEFAAAYB12kgUQFVdffbUmTJjQ+QVG8nzskU5FricA9iCgAIiKPn366L/K1sjlcnWq3hij0mkbVL/vaIQ7A2ADbvEAAADrEFAAAIB1CCgAAMA6BBQAAGAdAgoAALAOAQUAAFiHgAIAAKxDQAEAANYhoAAAAOvE5E6yxhhJUrAjEOVOAFysz4Ptam1tDWsn2c+D7fzcAzHszM/vmf+PfxmX6UyVZQ4fPqy8vLxotwEAAC5CQ0ODevTo8aU1MRlQTp8+rf3796tfv35qaGhQRkZGtFu67FpbW5WXl8d8MSzeZ2S+2BfvM8b7fFLszWiMUVtbm3w+nxISvvwpk5i8xZOQkKBrr71WkpSRkRET35SLxXyxL95nZL7YF+8zxvt8UmzN6PF4OlXHQ7IAAMA6BBQAAGCdmA0obrdbDz/8sNxud7RbiQjmi33xPiPzxb54nzHe55Pie8aYfEgWAADEt5i9ggIAAOIXAQUAAFiHgAIAAKxDQAEAANaJyYDys5/9TPn5+erSpYuKior0+uuvR7ulTnnttdd02223yefzyeVyadu2bSHnjTFauXKlfD6fUlNTNXLkSNXW1obUBAIBzZ8/X9nZ2UpLS9OkSZN0+PDhv+EU51daWqpbbrlF6enp6t69u26//Xbt378/pCaWZ1y/fr0GDhzobIg0bNgw/frXv3bOx/JsX6S0tFQul0vFxcXOsVifceXKlXK5XCEvr9frnI/1+STpyJEjuvfee5WVlaWuXbtq8ODBqq6uds7H+ozXXXfdOd9Dl8uluXPnSor9+U6dOqV//dd/VX5+vlJTU9W7d2898sgjOn36tFMT6zN2mokx5eXlJjk52WzYsMG89957ZsGCBSYtLc3U19dHu7UL2r59u1mxYoV5/vnnjSSzdevWkPOrV6826enp5vnnnzd79uwxd911l7nmmmtMa2urU/Pggw+aa6+91lRUVJi3337bfOtb3zKDBg0yp06d+htPc65x48aZp556yuzdu9fU1NSYCRMmmJ49e5rjx487NbE84wsvvGBeeukls3//frN//37z0EMPmeTkZLN3715jTGzPdrY333zTXHfddWbgwIFmwYIFzvFYn/Hhhx82/fv3N42Njc6rubnZOR/r833yySemV69eZsaMGeb3v/+9qaurMzt37jTvv/++UxPrMzY3N4d8/yoqKowk88orrxhjYn++VatWmaysLPOrX/3K1NXVmeeee85cddVV5rHHHnNqYn3Gzoq5gPLVr37VPPjggyHH+vbta5YtWxalji7O2QHl9OnTxuv1mtWrVzvHPv/8c+PxeMzPf/5zY4wxn376qUlOTjbl5eVOzZEjR0xCQoJ5+eWX/2a9d1Zzc7ORZCorK40x8Tljt27dzJNPPhlXs7W1tZmCggJTUVFhRowY4QSUeJjx4YcfNoMGDfrCc/Ew39KlS82tt9563vPxMOPZFixYYK6//npz+vTpuJhvwoQJZubMmSHHJk+ebO69915jTHx+D88npm7xBINBVVdXa+zYsSHHx44dq6qqqih1dXnU1dWpqakpZDa3260RI0Y4s1VXV+vkyZMhNT6fT4WFhVbO7/f7JUmZmZmS4mvGjo4OlZeX68SJExo2bFhczTZ37lxNmDBBo0ePDjkeLzMePHhQPp9P+fn5+s53vqMPPvhAUnzM98ILL2jIkCH6x3/8R3Xv3l0333yzNmzY4JyPhxn/WjAY1KZNmzRz5ky5XK64mO/WW2/Vb3/7Wx04cECS9Ic//EG7du3S3/3d30mKv+/hl4mpDwv86KOP1NHRodzc3JDjubm5ampqilJXl8eZ/r9otvr6eqcmJSVF3bp1O6fGtvmNMVq4cKFuvfVWFRYWSoqPGffs2aNhw4bp888/11VXXaWtW7eqX79+zg99LM8mSeXl5Xr77be1e/fuc87Fw/dv6NCheuaZZ9SnTx8dO3ZMq1at0vDhw1VbWxsX833wwQdav369Fi5cqIceekhvvvmm/vmf/1lut1vTpk2Lixn/2rZt2/Tpp59qxowZkuLjv9GlS5fK7/erb9++SkxMVEdHhx599FHdfffdkuJjxs6KqYByhsvlCvnaGHPOsVh1MbPZOP+8efP07rvvateuXeeci+UZb7zxRtXU1OjTTz/V888/r+nTp6uystI5H8uzNTQ0aMGCBdqxY4e6dOly3rpYnnH8+PHOPw8YMEDDhg3T9ddfr6efflpf+9rXJMX2fKdPn9aQIUNUUlIiSbr55ptVW1ur9evXa9q0aU5dLM/41zZu3Kjx48fL5/OFHI/l+X7xi19o06ZN2rx5s/r376+amhoVFxfL5/Np+vTpTl0sz9hZMXWLJzs7W4mJieckwObm5nPSZKw5806CL5vN6/UqGAyqpaXlvDU2mD9/vl544QW98sor6tGjh3M8HmZMSUnRDTfcoCFDhqi0tFSDBg3Sj3/847iYrbq6Ws3NzSoqKlJSUpKSkpJUWVmpn/zkJ0pKSnJ6jOUZz5aWlqYBAwbo4MGDcfE9vOaaa9SvX7+QYzfddJMOHTokKT5+Bs+or6/Xzp07df/99zvH4mG+f/mXf9GyZcv0ne98RwMGDNB9992n733veyotLZUUHzN2VkwFlJSUFBUVFamioiLkeEVFhYYPHx6lri6P/Px8eb3ekNmCwaAqKyud2YqKipScnBxS09jYqL1791oxvzFG8+bN05YtW/S73/1O+fn5IefjYcazGWMUCATiYrZRo0Zpz549qqmpcV5DhgzRPffco5qaGvXu3TvmZzxbIBDQvn37dM0118TF9/DrX//6OW/tP3DggHr16iUpvn4Gn3rqKXXv3l0TJkxwjsXDfJ999pkSEkL/15yYmOi8zTgeZuy0v+0zuZfuzNuMN27caN577z1TXFxs0tLSzJ///Odot3ZBbW1t5p133jHvvPOOkWTWrl1r3nnnHect0qtXrzYej8ds2bLF7Nmzx9x9991f+NaxHj16mJ07d5q3337bfPvb37bmrWPf/e53jcfjMa+++mrI2wA/++wzpyaWZ1y+fLl57bXXTF1dnXn33XfNQw89ZBISEsyOHTuMMbE92/n89bt4jIn9GRctWmReffVV88EHH5g33njDTJw40aSnpzt/f8T6fG+++aZJSkoyjz76qDl48KD57//+b9O1a1ezadMmpybWZzTGmI6ODtOzZ0+zdOnSc87F+nzTp0831157rfM24y1btpjs7GyzZMkSpybWZ+ysmAsoxhjz05/+1PTq1cukpKSYr3zlK87bWG33yiuvGEnnvKZPn26M+cvbxx5++GHj9XqN2+023/zmN82ePXtC/oz29nYzb948k5mZaVJTU83EiRPNoUOHojDNub5oNknmqaeecmpiecaZM2c6/93l5OSYUaNGOeHEmNie7XzODiixPuOZ/SKSk5ONz+czkydPNrW1tc75WJ/PGGNefPFFU1hYaNxut+nbt6954oknQs7Hw4y/+c1vjCSzf//+c87F+nytra1mwYIFpmfPnqZLly6md+/eZsWKFSYQCDg1sT5jZ7mMMSYql24AAADOI6aeQQEAAFcGAgoAALAOAQUAAFiHgAIAAKxDQAEAANYhoAAAAOsQUAAAgHUIKAAAwDoEFAAAYB0CCgAAsA4BBQAAWIeAAgAArPP/AWokyA1tjenbAAAAAElFTkSuQmCC",
      "text/plain": [
       "<Figure size 640x480 with 1 Axes>"
      ]
     },
     "metadata": {},
     "output_type": "display_data"
    }
   ],
=======
   "execution_count": null,
   "id": "928216b0",
   "metadata": {},
   "outputs": [],
>>>>>>> 83f61d8 (Yet another version of binaries. Also some code that now connects properly to eye tracker)
   "source": [
    "#pgl.verbose=1\n",
    "pgl.frameGrabInit()\n",
    "checkerboard = pgl.checkerboard(width=1)\n",
    "checkerboard.display()\n",
    "pgl.flush()\n",
    "\n",
    "x = pgl.frameGrab()\n",
    "plt.imshow(x)\n",
    "pgl.frameGrabEnd()\n",
    "#print(x[:,:,3])"
   ]
  },
  {
   "cell_type": "code",
   "execution_count": null,
   "id": "cae2f22e",
   "metadata": {},
   "outputs": [],
   "source": [
    "#checkerboard.display(stimulusPhase = 0)\n",
    "#pgl.flush()\n",
    "#checkerboard.temporalSquareWave = True\n",
    "pgl.commandRecord()\n",
    "checkerboard = pgl.checkerboard(x=-5,checkWidth=1, checkHeight=1,width=1,temporalFrequency=1)\n",
    "for i in range(10*60): \n",
    "    checkerboard.display(stimulusPhase=0.5)\n",
    "    pgl.flush()\n",
    "pgl.commandRecordStop()\n",
    "pgl.commandList()"
   ]
  },
  {
   "cell_type": "code",
   "execution_count": null,
   "id": "33248576",
   "metadata": {},
   "outputs": [],
   "source": [
    "device = pglTrackPixx3(pgl)\n",
    "#datapixx.getError()\n",
    "device.dp.TPxSetLEDIntensity(8)\n",
    "#print(device.dp.TPxGetLEDIntensity())\n",
    "device.calibrateEyeImage()\n",
    "#device.getCameraImage()\n",
    "#Image.fromarray(device.getCameraImage()).show()"
   ]
  },
  {
   "cell_type": "code",
   "execution_count": null,
   "id": "b0e541e0",
   "metadata": {},
   "outputs": [],
   "source": [
    "\n",
    "#from pypixxlib.propixx import PROPixx\n",
    "#pgl.verbose=1\n",
    "#projector = pglProPixx()\n",
    "#datapixx = pglDataPixx()\n",
    "\n",
    "for i in range(1000):\n",
    "    events = pgl.devicesPoll()\n",
    "    #events = datapixx.poll()\n",
    "    if events is not None:\n",
    "        for event in events:\n",
    "            print(event)\n",
    "    pgl.waitSecs(0.1)\n",
    "#datapixx.setupDigitalOutput()\n",
    "#datapixx.test()\n",
    "#for i in range(5):\n",
    "#    print(f\"Polling DataPixx: {i}\")\n",
    "    #datapixx.poll()\n",
    "    #pgl.waitSecs(1)\n",
    "\n",
    "\n",
    "#device.setRearProjection(True)\n",
    "#from pypixxlib.propixx import PROPixx\n",
    "#propixx = PROPixx()\n",
    "#propixx.getDlpSequencerProgram()\n",
    "#projector.status()\n",
    "#print(device)\n",
    "#from pgl.pglDevice import pglDevice, pglProPixx\n",
    "#huh = pglDevice(pgl,'huh')\n",
    "#duh = pglProPixx(pgl)"
   ]
  },
  {
   "cell_type": "code",
   "execution_count": null,
   "id": "cefe8cca",
   "metadata": {},
   "outputs": [],
   "source": [
    "from PIL import Image, ImageDraw, ImageFont\n",
    "import numpy as np\n",
    "\n",
    "# Load Helvetica (on macOS)\n",
    "font_path = \"/System/Library/Fonts/Helvetica.ttc\"\n",
    "font_size = 40\n",
    "font = ImageFont.truetype(font_path, font_size)\n",
    "\n",
    "# The text to render\n",
    "text = \"Hello World\"\n",
    "padding = 10  # Add some padding around text\n",
    "\n",
    "# Create a dummy image to measure text size\n",
    "dummy_img = Image.new(\"RGBA\", (1, 1))\n",
    "draw = ImageDraw.Draw(dummy_img)\n",
    "\n",
    "# Get bounding box of the text\n",
    "bbox = draw.textbbox((0, 0), text, font=font)\n",
    "text_width = bbox[2] - bbox[0]\n",
    "text_height = bbox[3] - bbox[1]\n",
    "\n",
    "# Create an image with transparent background\n",
    "img = Image.new(\"RGBA\", (text_width + 2 * padding, text_height + 2 * padding), (0, 0, 0, 0))\n",
    "draw = ImageDraw.Draw(img)\n",
    "\n",
    "# Draw anti-aliased white text\n",
    "draw.text((padding, padding), text, font=font, fill=(255, 255, 255, 255))\n",
    "\n",
    "# Convert to NumPy array\n",
    "bitmap = np.array(img)\n",
    "\n",
    "# Debug: print shape and preview alpha channel\n",
    "print(\"Bitmap shape:\", bitmap.shape)\n",
    "print(\"Alpha channel:\")\n",
    "print(bitmap[:, :, 3])\n",
    "\n"
   ]
  },
  {
   "cell_type": "code",
   "execution_count": null,
   "id": "f7f567ce",
   "metadata": {},
   "outputs": [],
   "source": [
    "\n",
    "#pgl.text(\"hello world\",line=1,fontName = \"Futura\",fontSize=30,color=(0,0,0,1))\n",
    "#pgl.text(\"This is the next line\",x=0,line=-2)\n",
    "pgl.text(\"And the next line of text, that I want to draw\",x=0,line=-2)\n",
    "pgl.text(\"next line\")\n",
    "pgl.text(\"wow\")\n",
    "\n",
    "pgl.flush()"
   ]
  },
  {
   "cell_type": "code",
   "execution_count": null,
   "id": "91d4e804",
   "metadata": {},
   "outputs": [],
   "source": [
    "#pgl.line(0,0,1920,1080,(1,0,0),units=\"pix\")\n",
    "pgl.arc(0,0,innerRadius=0,outerRadius=10,color=(0,1,0,1))\n",
    "\n",
    "#pgl.line(1920,0,0,1080,(0,0,1),units=\"pix\")\n",
    "pgl.flush()\n",
    "#pgl.printCommandResults()"
   ]
  },
  {
   "cell_type": "code",
   "execution_count": null,
   "id": "a081bbff",
   "metadata": {},
   "outputs": [],
   "source": [
    "pgl = pglLibrary()\n",
    "pgl.open(0,880, 600)\n",
    "#pgl.open()\n",
    "pgl.visualAngle(57,40,30)\n"
   ]
  },
  {
   "cell_type": "code",
   "execution_count": null,
   "id": "eed225df",
   "metadata": {},
   "outputs": [],
   "source": [
    "#pgl.clearScreen((0.5, 0.5, 0.5))  # Clear the screen with a gray color\n",
    "#pgl.verbose=1\n",
    "pgl.clearScreen((0.5, 0.5, 0.5))  # Clear the screen with a gray color\n",
    "grating = pgl.grating(spatialFrequency=0.1,phase=0, contrast=1,temporalFrequency=4.0,direction=-1)\n",
    "#gabor = pgl.gabor(spatialFrequency=1,orientation=45,width=40,height=30,phase=0,contrast=0.8)\n",
    "#gabor.print()\n"
   ]
  },
  {
   "cell_type": "code",
   "execution_count": null,
   "id": "8cabc2f0",
   "metadata": {},
   "outputs": [],
   "source": [
    "\n",
    "pgl.profileModeClearAll()\n",
    "pgl.profileMode = 2\n",
    "#pgl.batchStart()\n",
    "for i in range(360):\n",
    "    grating.display()\n",
    "    pgl.flush()\n",
    "pgl.profileMode = 0\n",
    "#pgl.flush()\n",
    "#pgl.waitSecs(1)\n",
    "#pgl.batchRun()\n",
    "#pgl.waitSecs(2)\n",
    "#pgl.batchEnd()\n",
    "#pgl.waitSecs(2)\n",
    "\n",
    "pgl.profileModeDisplay()"
   ]
  },
  {
   "cell_type": "code",
   "execution_count": null,
   "id": "d91e45ce",
   "metadata": {},
   "outputs": [],
   "source": [
    "#gabor.print()\n",
    "gabor.display()\n",
    "pgl.flush()\n",
    "\n"
   ]
  },
  {
   "cell_type": "code",
   "execution_count": null,
   "id": "fdfc1aa6",
   "metadata": {},
   "outputs": [],
   "source": [
    "pgl.profileModeClearAll()\n",
    "#pgl.fullScreen(True)\n",
    "_,_,frameRate,_ =pgl.getResolution()\n",
    "print(frameRate)\n",
    "pgl.profileMode = 2\n",
    "#print(pgl.profileMode)\n",
    "#print(pgl.profileModeBufferSize )\n",
    "pgl.clearScreen([0,0,0])\n",
    "pgl.flush()\n",
    "for i in range(frameRate*1):\n",
    "    pgl.dots(np.random.uniform(-20,20),np.random.uniform(-15,15))\n",
    "    #pgl.printCommandResults()\n",
    "    pgl.flush()\n",
    "pgl.profileMode = 0\n",
    "#pgl.fullScreen(False)\n",
    "pgl.profileModeDisplay()\n"
   ]
  },
  {
   "cell_type": "code",
   "execution_count": null,
   "id": "46afedf7",
   "metadata": {},
   "outputs": [],
   "source": [
    "_,_,frameRate,_ =pgl.getResolution()\n",
    "pgl.profileModeClearAll()\n",
    "pgl.batchStart()\n",
    "for i in range(frameRate*5):\n",
    "    #im.display()\n",
    "    pgl.dots(np.random.uniform(-20,20),np.random.uniform(-15,15))\n",
    "    #pgl.printCommandResults()\n",
    "    #pgl.printCommandResults()\n",
    "\n",
    "\n",
    "    pgl.flush()\n",
    "    #pgl.printCommandResults()\n",
    "#pgl.batchRun()\n",
    "#pgl.batchEnd()"
   ]
  },
  {
   "cell_type": "code",
   "execution_count": null,
   "id": "a3a4ed41",
   "metadata": {},
   "outputs": [],
   "source": [
    "pgl.batchRun()\n",
    "pgl.batchEnd()\n",
    "pgl.profileModeDisplay()"
   ]
  },
  {
   "cell_type": "code",
   "execution_count": null,
   "id": "09bc7c23",
   "metadata": {},
   "outputs": [],
   "source": [
    "imData = Image.open('/Users/justin/proj/pgl/testimage.jpg')\n",
    "pgl.visualAngle(57,40,30)"
   ]
  },
  {
   "cell_type": "code",
   "execution_count": null,
   "id": "1e514375",
   "metadata": {},
   "outputs": [],
   "source": [
    "im = pgl.imageCreate(np.array(imData))\n",
    "print(im).print()\n",
    "#print(pgl.xPix2Deg)\n",
    "#print(pgl.xDeg2Pix)\n",
    "#print(np.array(imData))"
   ]
  },
  {
   "cell_type": "code",
   "execution_count": null,
   "id": "ef0f61a8",
   "metadata": {},
   "outputs": [],
   "source": [
    "im = 0"
   ]
  },
  {
   "cell_type": "code",
   "execution_count": null,
   "id": "d37fe867",
   "metadata": {},
   "outputs": [],
   "source": [
    "pgl.clearScreen(np.random.rand(3))\n",
    "im.print()\n",
    "im.display()\n",
    "pgl.flush()"
   ]
  },
  {
   "cell_type": "code",
   "execution_count": null,
   "id": "7f27c160",
   "metadata": {},
   "outputs": [],
   "source": [
    "pgl.clearScreen(np.random.rand(3))\n",
    "pgl.flush()\n",
    "pgl.close()"
   ]
  },
  {
   "cell_type": "code",
   "execution_count": null,
   "id": "0d606f7a",
   "metadata": {},
   "outputs": [],
   "source": [
    "#commandResults = pgl.profileModeCommandResults\n",
    "#print(commandResults[0])\n",
    "#commandResults = pgl.profileList[0].get('commandResults', 'None')\n",
    "#print(commandResults['processedTime'])\n",
    "#print(list(pgl.profileList[0].keys()))\n",
    "pgl.flush()\n",
    "pgl.printCommandResults()"
   ]
  },
  {
   "cell_type": "code",
   "execution_count": null,
   "id": "6d6f74d1",
   "metadata": {},
   "outputs": [],
   "source": [
    "pgl.visualAngle(57,40,30)\n",
    "print(pgl.screenWidth)\n",
    "print(pgl.screenHeight)\n",
    "#pgl.printCommandResults()\n",
    "#print(pgl.xform)\n",
    "pgl.clearScreen([0,0,0])\n",
    "pgl.dots(np.random.uniform(-20,20),np.random.uniform(-15,15))\n",
    "pgl.printCommandResults()\n",
    "pgl.flush()"
   ]
  },
  {
   "cell_type": "code",
   "execution_count": null,
   "id": "f86af558",
   "metadata": {},
   "outputs": [],
   "source": [
    "from pprint import pprint\n",
    "\n",
    "\n",
    "pprint(pgl.gpuInfo)\n"
   ]
  },
  {
   "cell_type": "code",
   "execution_count": null,
   "id": "e226ae90",
   "metadata": {},
   "outputs": [],
   "source": [
    "(screenWidth, screenHeight, refreshRate, bitDepth) = pglDisplayInfo.getResolution(1)\n",
    "print(f\"screenResolution: {screenWidth}x{screenHeight} refreshRate: {refreshRate} bitDepth: {bitDepth}\")\n",
    "\n",
    "pglDisplayInfo.setResolution(1, screenWidth, screenHeight, refreshRate, bitDepth)"
   ]
  },
  {
   "cell_type": "markdown",
   "id": "a33aae0c",
   "metadata": {},
   "source": [
    "Install pgl library"
   ]
  },
  {
   "cell_type": "code",
   "execution_count": null,
   "id": "1f9d6cab",
   "metadata": {},
   "outputs": [],
   "source": [
    "pgl = pglLibrary()\n",
    "pgl.getResolution(0)\n"
   ]
  },
  {
   "cell_type": "markdown",
   "id": "358276c8",
   "metadata": {},
   "source": [
    "Instal screen and task"
   ]
  },
  {
   "cell_type": "code",
   "execution_count": null,
   "id": "c061716d",
   "metadata": {},
   "outputs": [],
   "source": [
    "#init screen\n",
    "s = pglScreen();\n",
    "s.helloworld();\n",
    "\n",
    "# init task\n",
    "t = pglTask();\n",
    "t.helloworld();\n"
   ]
  },
  {
   "cell_type": "code",
   "execution_count": null,
   "id": "b58c1d68",
   "metadata": {},
   "outputs": [],
   "source": [
    "# start MATLAB\n",
    "import matlab.engine\n",
    "eng = matlab.engine.start_matlab()\n",
    "\n",
    "# add mgl to path\n",
    "eng.addpath(eng.genpath(\"/Users/justin/proj/mgl\"),nargout=0)\n"
   ]
  },
  {
   "cell_type": "code",
   "execution_count": null,
   "id": "c0a268b3",
   "metadata": {},
   "outputs": [],
   "source": [
    "# mgl from python using mgl engine test\n",
    "eng.eval(\"mglOpen;\",nargout=0)\n",
    "eng.eval(\"mglVisualAngleCoordinates(57,[16,24]);\",nargout=0)\n",
    "eng.eval(\"mglClearScreen([0.3 0.7 0.2]);\",nargout=0)\n",
    "eng.eval(\"mglTextDraw('Hello World!',[0 0]);\",nargout=0)\n",
    "eng.eval(\"mglFlush;\",nargout=0)\n",
    "eng.eval(\"mglWaitSecs(3);\",nargout=0)\n",
    "eng.eval(\"mglClose;\",nargout=0)\n",
    "\n"
   ]
  },
  {
   "cell_type": "code",
   "execution_count": null,
   "id": "bb7a8881",
   "metadata": {},
   "outputs": [],
   "source": [
    "pgl.clearScreen(np.random.rand(3))\n",
    "pgl.flush()\n",
    "pgl.clearScreen(np.random.rand(3))\n",
    "pgl.flush()"
   ]
  },
  {
   "cell_type": "code",
   "execution_count": null,
   "id": "4ab183bf",
   "metadata": {},
   "outputs": [],
   "source": [
    "pgl.close()"
   ]
  },
  {
   "cell_type": "code",
   "execution_count": null,
   "id": "dbaf72ae",
   "metadata": {},
   "outputs": [],
   "source": [
    "pgl.test()"
   ]
  },
  {
   "cell_type": "code",
   "execution_count": 3,
   "id": "fbb40da6",
   "metadata": {},
<<<<<<< HEAD
   "outputs": [
    {
     "name": "stdout",
     "output_type": "stream",
     "text": [
      "(pgl:checkOS) Running on MacBook Pro (MacBookPro18,3) with macOS version: 15.6\n",
      "(pgl:checkOS) Apple M1 Pro Cores: 8 (6 performance and 2 efficiency) Memory: 32 GB\n",
      "(pgl:checkOS) GPU: Apple M1 Pro (Built-In) 14 cores, Metal 3 support\n",
      "(pgl:checkOS)   Color LCD [Main Display]: 3024 x 1964 Retina (Built-in Liquid Retina XDR Display)\n",
      "(pgl:checkOS)   LED Cinema Display: 1920 x 1200 (WUXGA - Widescreen Ultra eXtended Graphics Array) (Unknown type)\n",
      "(pglBase) Verbosity level set to 1\n",
      "(pglBase) Main library instance created\n",
      "(pglBase) Main library closed\n",
      "(pglBase:open) Starting mglMetal application: /Users/justin/Library/Developer/Xcode/DerivedData/Build/Products/Debug/mglMetal.app\n",
      "(pglBase:open) Using socket with address: /Users/justin/Library/Containers/gru.mglMetal/Data/pglMetal.socket.Ow7FeEm3xQ\n",
      "(pgl:_pglComm) .Connected to: /Users/justin/Library/Containers/gru.mglMetal/Data/pglMetal.socket.Ow7FeEm3xQ\n",
      "(pgl:_resolution:getResolution) Display 0/2: 1512x982 120Hz 32bits\n",
      "(pglDataPixx) pypixxlib is not installed. Please install it to use DataPixx.\n",
      "(pglDevices) Added device: DataPixx\n"
     ]
    }
   ],
=======
   "outputs": [],
>>>>>>> 83f61d8 (Yet another version of binaries. Also some code that now connects properly to eye tracker)
   "source": [
    "pgl = pglLibrary()\n",
    "#pgl.open(0,8,2)\n",
    "pgl.open(0,880,600)\n",
    "#pgl.open()\n",
    "pgl.visualAngle(57,40,30)\n",
    "datapixx = pglDataPixx()\n",
    "pgl.devicesAdd(datapixx)"
   ]
  }
 ],
 "metadata": {
  "kernelspec": {
   "display_name": "gru",
   "language": "python",
   "name": "python3"
  },
  "language_info": {
   "codemirror_mode": {
    "name": "ipython",
    "version": 3
   },
   "file_extension": ".py",
   "mimetype": "text/x-python",
   "name": "python",
   "nbconvert_exporter": "python",
   "pygments_lexer": "ipython3",
   "version": "3.12.11"
  }
 },
 "nbformat": 4,
 "nbformat_minor": 5
}
