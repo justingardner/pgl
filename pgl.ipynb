{
 "cells": [
  {
   "cell_type": "code",
   "execution_count": null,
   "id": "8df71dd8",
   "metadata": {},
   "outputs": [],
   "source": [
    "#!pip install numpy\n",
    "%load_ext autoreload\n",
    "%autoreload 2\n",
    "#import pgl\n",
    "from pgl import pgl as pglLibrary\n",
    "from pgl import screen as pglScreen\n",
    "from pgl import task as pglTask\n",
    "import numpy as np\n",
    "import sys\n",
    "from PIL import Image\n",
    "print(sys.version)"
   ]
  },
  {
   "cell_type": "code",
   "execution_count": null,
   "id": "a081bbff",
   "metadata": {},
   "outputs": [],
   "source": [
    "pgl = pglLibrary()\n",
    "#pgl.verbose=2\n",
    "#pgl.open(0,880, 600)\n",
    "pgl.open(0,880, 600)\n",
    "#pgl.open()\n",
    "pgl.visualAngle(57,40,30)\n",
    "#pgl.getWindowFrameInDisplay()\n",
    "#print(pgl.screenX.pix)\n",
    "#print(pgl.screenY.pix)\n",
    "#print(pgl.screenWidth)\n",
    "#print(pgl.screenHeight)\n",
    "#pgl.setWindowFrameInDisplay(1, 100, 100, 800, 600)\n",
    "#pgl.verbose = 1\n",
    "pgl.getResolution()\n",
    "#pgl.getWindowFrameInDisplay()\n",
    "#pgl.setResolution(0, 1920, 1200, 120, 32)\n",
    "#pgl.setResolution(0, 3840, 1080, 60, 32)\n",
    "#pgl.setResolution(0, 1512, 982, 60, 32)\n",
    "#pgl.checkOS()\n",
    "#help(pgl.checkOS)\n",
    "#pgl.getNumDisplaysAndDefault()\n"
   ]
  },
  {
   "cell_type": "code",
   "execution_count": null,
   "id": "fdfc1aa6",
   "metadata": {},
   "outputs": [],
   "source": [
    "pgl.profileModeClearAll()\n",
    "#pgl.fullScreen(True)\n",
    "_,_,frameRate,_ =pgl.getResolution()\n",
    "print(frameRate)\n",
    "pgl.profileMode = 2\n",
    "#print(pgl.profileMode)\n",
    "#print(pgl.profileModeBufferSize )\n",
    "pgl.clearScreen([0,0,0])\n",
    "pgl.flush()\n",
    "for i in range(frameRate*1):\n",
    "    pgl.dots(np.random.uniform(-20,20),np.random.uniform(-15,15))\n",
    "    #pgl.printCommandResults()\n",
    "    pgl.flush()\n",
    "pgl.profileMode = 0\n",
    "#pgl.fullScreen(False)\n",
    "pgl.profileModeDisplay()\n"
   ]
  },
  {
   "cell_type": "code",
   "execution_count": null,
   "id": "46afedf7",
   "metadata": {},
   "outputs": [],
   "source": [
    "_,_,frameRate,_ =pgl.getResolution()\n",
    "pgl.profileModeClearAll()\n",
    "pgl.batchStart()\n",
    "for i in range(frameRate*5):\n",
    "    pgl.dots(np.random.uniform(-20,20),np.random.uniform(-15,15))\n",
    "    #pgl.printCommandResults()\n",
    "    #pgl.printCommandResults()\n",
    "    pgl.flush()\n",
    "    #pgl.printCommandResults()\n",
    "#pgl.batchRun()\n",
    "#pgl.batchEnd()"
   ]
  },
  {
   "cell_type": "code",
   "execution_count": null,
   "id": "a3a4ed41",
   "metadata": {},
   "outputs": [],
   "source": [
    "pgl.batchRun()\n",
    "pgl.batchEnd()\n",
    "pgl.profileModeDisplay()"
   ]
  },
  {
   "cell_type": "code",
   "execution_count": null,
   "id": "09bc7c23",
   "metadata": {},
   "outputs": [],
   "source": [
    "im = Image.open('/Users/justin/proj/pgl/testimage.jpg')\n",
    "im = im.convert('RGBA')\n",
    "im = im.resize((300, 200), Image.ANTIALIAS)\n",
    "imData = np.array(im)"
   ]
  },
  {
   "cell_type": "code",
   "execution_count": null,
   "id": "1e514375",
   "metadata": {},
   "outputs": [],
   "source": [
    "pgl.imageCreate(imData)"
   ]
  },
  {
   "cell_type": "code",
   "execution_count": null,
   "id": "7f27c160",
   "metadata": {},
   "outputs": [],
   "source": [
    "pgl.clearScreen(np.random.rand(3))\n",
    "pgl.flush()\n",
    "pgl.close()"
   ]
  },
  {
   "cell_type": "code",
   "execution_count": null,
   "id": "0d606f7a",
   "metadata": {},
   "outputs": [],
   "source": [
    "#commandResults = pgl.profileModeCommandResults\n",
    "#print(commandResults[0])\n",
    "#commandResults = pgl.profileList[0].get('commandResults', 'None')\n",
    "#print(commandResults['processedTime'])\n",
    "#print(list(pgl.profileList[0].keys()))\n",
    "pgl.flush()\n",
    "pgl.printCommandResults()"
   ]
  },
  {
   "cell_type": "code",
   "execution_count": null,
   "id": "6d6f74d1",
   "metadata": {},
   "outputs": [],
   "source": [
    "pgl.visualAngle(57,40,30)\n",
    "print(pgl.screenWidth)\n",
    "print(pgl.screenHeight)\n",
    "#pgl.printCommandResults()\n",
    "#print(pgl.xform)\n",
    "pgl.clearScreen([0,0,0])\n",
    "pgl.dots(np.random.uniform(-20,20),np.random.uniform(-15,15))\n",
    "pgl.printCommandResults()\n",
    "pgl.flush()"
   ]
  },
  {
   "cell_type": "code",
   "execution_count": null,
   "id": "f86af558",
   "metadata": {},
   "outputs": [],
   "source": [
    "from pprint import pprint\n",
    "\n",
    "\n",
    "pprint(pgl.gpuInfo)\n"
   ]
  },
  {
   "cell_type": "code",
   "execution_count": null,
   "id": "e226ae90",
   "metadata": {},
   "outputs": [],
   "source": [
    "(screenWidth, screenHeight, refreshRate, bitDepth) = pglDisplayInfo.getResolution(1)\n",
    "print(f\"screenResolution: {screenWidth}x{screenHeight} refreshRate: {refreshRate} bitDepth: {bitDepth}\")\n",
    "\n",
    "pglDisplayInfo.setResolution(1, screenWidth, screenHeight, refreshRate, bitDepth)"
   ]
  },
  {
   "cell_type": "markdown",
   "id": "a33aae0c",
   "metadata": {},
   "source": [
    "Install pgl library"
   ]
  },
  {
   "cell_type": "code",
   "execution_count": null,
   "id": "1f9d6cab",
   "metadata": {},
   "outputs": [],
   "source": [
    "pgl = pglLibrary()\n",
    "pgl.getResolution(0)\n"
   ]
  },
  {
   "cell_type": "markdown",
   "id": "358276c8",
   "metadata": {},
   "source": [
    "Instal screen and task"
   ]
  },
  {
   "cell_type": "code",
   "execution_count": null,
   "id": "c061716d",
   "metadata": {},
   "outputs": [],
   "source": [
    "#init screen\n",
    "s = pglScreen();\n",
    "s.helloworld();\n",
    "\n",
    "# init task\n",
    "t = pglTask();\n",
    "t.helloworld();\n"
   ]
  },
  {
   "cell_type": "code",
   "execution_count": null,
   "id": "b58c1d68",
   "metadata": {},
   "outputs": [],
   "source": [
    "# start MATLAB\n",
    "import matlab.engine\n",
    "eng = matlab.engine.start_matlab()\n",
    "\n",
    "# add mgl to path\n",
    "eng.addpath(eng.genpath(\"/Users/justin/proj/mgl\"),nargout=0)\n"
   ]
  },
  {
   "cell_type": "code",
   "execution_count": null,
   "id": "c0a268b3",
   "metadata": {},
   "outputs": [],
   "source": [
    "# mgl from python using mgl engine test\n",
    "eng.eval(\"mglOpen;\",nargout=0)\n",
    "eng.eval(\"mglVisualAngleCoordinates(57,[16,24]);\",nargout=0)\n",
    "eng.eval(\"mglClearScreen([0.3 0.7 0.2]);\",nargout=0)\n",
    "eng.eval(\"mglTextDraw('Hello World!',[0 0]);\",nargout=0)\n",
    "eng.eval(\"mglFlush;\",nargout=0)\n",
    "eng.eval(\"mglWaitSecs(3);\",nargout=0)\n",
    "eng.eval(\"mglClose;\",nargout=0)\n",
    "\n"
   ]
  }
 ],
 "metadata": {
  "kernelspec": {
   "display_name": "Python 3",
   "language": "python",
   "name": "python3"
  },
  "language_info": {
   "codemirror_mode": {
    "name": "ipython",
    "version": 3
   },
   "file_extension": ".py",
   "mimetype": "text/x-python",
   "name": "python",
   "nbconvert_exporter": "python",
   "pygments_lexer": "ipython3",
   "version": "3.13.5"
  }
 },
 "nbformat": 4,
 "nbformat_minor": 5
}
