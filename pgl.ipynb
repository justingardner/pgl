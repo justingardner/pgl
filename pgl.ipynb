{
 "cells": [
  {
   "cell_type": "code",
   "execution_count": null,
   "id": "8df71dd8",
   "metadata": {},
   "outputs": [],
   "source": [
    "try:\n",
    "    if pgl is not None:\n",
    "        pgl.cleanUp()\n",
    "        #pgl = None\n",
    "        print(\"PGL Close\")\n",
    "except NameError:\n",
    "    print(\"No PGL is open\")"
   ]
  },
  {
   "cell_type": "code",
   "execution_count": null,
   "id": "e5d6086a",
   "metadata": {},
   "outputs": [
    {
     "ename": "ImportError",
     "evalue": "cannot import name 'pglTrackPixx344444444' from 'pgl' (/Users/justin/proj/pgl/pgl/__init__.py)",
     "output_type": "error",
     "traceback": [
      "\u001b[31m---------------------------------------------------------------------------\u001b[39m",
      "\u001b[31mImportError\u001b[39m                               Traceback (most recent call last)",
      "\u001b[36mCell\u001b[39m\u001b[36m \u001b[39m\u001b[32mIn[1]\u001b[39m\u001b[32m, line 8\u001b[39m\n\u001b[32m      6\u001b[39m \u001b[38;5;28;01mfrom\u001b[39;00m\u001b[38;5;250m \u001b[39m\u001b[34;01mpgl\u001b[39;00m\u001b[38;5;250m \u001b[39m\u001b[38;5;28;01mimport\u001b[39;00m pglProPixx\n\u001b[32m      7\u001b[39m \u001b[38;5;28;01mfrom\u001b[39;00m\u001b[38;5;250m \u001b[39m\u001b[34;01mpgl\u001b[39;00m\u001b[38;5;250m \u001b[39m\u001b[38;5;28;01mimport\u001b[39;00m pglDataPixx\n\u001b[32m----> \u001b[39m\u001b[32m8\u001b[39m \u001b[38;5;28;01mfrom\u001b[39;00m\u001b[38;5;250m \u001b[39m\u001b[34;01mpgl\u001b[39;00m\u001b[38;5;250m \u001b[39m\u001b[38;5;28;01mimport\u001b[39;00m pglTrackPixx344444444\n\u001b[32m      9\u001b[39m \u001b[38;5;28;01mfrom\u001b[39;00m\u001b[38;5;250m \u001b[39m\u001b[34;01mpgl\u001b[39;00m\u001b[38;5;250m \u001b[39m\u001b[38;5;28;01mimport\u001b[39;00m pglEyelink\n\u001b[32m     10\u001b[39m \u001b[38;5;28;01mfrom\u001b[39;00m\u001b[38;5;250m \u001b[39m\u001b[34;01mpgl\u001b[39;00m\u001b[38;5;250m \u001b[39m\u001b[38;5;28;01mimport\u001b[39;00m pglExperiment, pglTask, pglParameter\n",
      "\u001b[31mImportError\u001b[39m: cannot import name 'pglTrackPixx344444444' from 'pgl' (/Users/justin/proj/pgl/pgl/__init__.py)"
     ]
    }
   ],
   "source": [
    "%load_ext autoreload\n",
    "%autoreload 2\n",
    "\n",
    "#import pgl\n",
    "from pgl import pgl as pglLibrary\n",
    "from pgl import pglProPixx\n",
    "from pgl import pglDataPixx\n",
    "from pgl import pglTrackPixx\n",
    "from pgl import pglEyelink\n",
    "from pgl import pglExperiment, pglTask, pglParameter\n",
    "import numpy as np\n",
    "pgl = pglLibrary()"
   ]
  },
  {
   "cell_type": "code",
   "execution_count": null,
   "id": "e36c39e2",
   "metadata": {},
   "outputs": [],
   "source": [
    "# Set up task class\n",
    "class pglRandomDotTask(pglTask):\n",
    "    ########################\n",
    "    def __init__(self, pgl):\n",
    "        super().__init__()\n",
    "        self.name = \"Random Dot Motion Task\"\n",
    "        self.rdk = pgl.randomDots(width=15, height=10)\n",
    "    ########################\n",
    "    def updateScreen(self):\n",
    "        if self.currentSegment==0:\n",
    "            self.rdk.display(direction=self.currentParams['dir'], coherence=self.currentParams['coherence'], speed=5.0)\n",
    "\n",
    "# initialize task\n",
    "t = pglRandomDotTask(pgl)\n",
    "\n",
    "# set trial segments\n",
    "t.seglen = [1, 0.5]\n",
    "\n",
    "# add parameters for coherence and direction\n",
    "t.addParameter(pglParameter('coherence',(0.5,1)))\n",
    "t.addParameter(pglParameter('dir',np.arange(0,60,30)))\n"
   ]
  },
  {
   "cell_type": "code",
   "execution_count": null,
   "id": "b9a98fa5",
   "metadata": {},
   "outputs": [],
   "source": [
    "# Set up experiment\n",
    "e = pglExperiment(pgl)\n",
    "\n",
    "# add the random dot motion task\n",
    "e.addTask(t)\n",
    "\n",
    "# and run the experiment\n",
    "e.run()"
   ]
  },
  {
   "cell_type": "code",
   "execution_count": null,
   "id": "a51dff0c",
   "metadata": {},
   "outputs": [],
   "source": [
    "from pgl import pglKeyboard\n",
    "#print(pgl.devices)\n",
    "#print([d for d in pgl.devices if isinstance(d, pglKeyboard)])\n",
    "print(pgl.devicesGet(pglKeyboard))"
   ]
  },
  {
   "cell_type": "code",
   "execution_count": null,
   "id": "f48487d9",
   "metadata": {},
   "outputs": [],
   "source": [
    "-1%1"
   ]
  },
  {
   "cell_type": "code",
   "execution_count": null,
   "id": "df2a858b",
   "metadata": {},
   "outputs": [],
   "source": [
    "p = pglParameter('coherence',(0,0.5,1),helpStr='Coherence')\n",
    "#p = pglParameter('dir',('left','right'),helpStr='Direction of motion')\n",
    "\n",
    "print(p)"
   ]
  },
  {
   "cell_type": "code",
   "execution_count": null,
   "id": "1a526fb7",
   "metadata": {},
   "outputs": [],
   "source": [
    "print(e)"
   ]
  },
  {
   "cell_type": "code",
   "execution_count": null,
   "id": "778543f2",
   "metadata": {},
   "outputs": [],
   "source": [
    "#e.initScreen()\n",
    "e.run()\n",
    "e.endScreen()"
   ]
  },
  {
   "cell_type": "code",
   "execution_count": null,
   "id": "d0241b16",
   "metadata": {},
   "outputs": [],
   "source": [
    "if pgl is None: pgl = pglLibrary()\n",
    "pgl.open(0,880,600,stable=True)\n",
    "#pgl.open()\n",
    "pgl.visualAngle(57,40,30)\n",
    "#datapixx = pglDataPixx()\n",
    "#pgl.devicesAdd(datapixx)\n",
    "keyboardDevice = pglKeyboard()\n",
    "pgl.devicesAdd(keyboardDevice)"
   ]
  },
  {
   "cell_type": "code",
   "execution_count": null,
   "id": "64f2f519",
   "metadata": {},
   "outputs": [],
   "source": [
    "import gradio as gr\n",
    "import matplotlib.pyplot as plt\n",
    "import numpy as np\n",
    "from io import BytesIO\n",
    "from PIL import Image\n",
    "\n",
    "paramDict = {\n",
    "    \"name\": {\n",
    "        \"value\": \"User\",\n",
    "        \"type\": \"text\",\n",
    "        \"info\": \"Enter your name\"\n",
    "    },\n",
    "    \"frequency\": {\n",
    "        \"value\": 1.0,\n",
    "        \"type\": \"number\",\n",
    "        \"info\": \"Frequency in Hz\"\n",
    "    }\n",
    "}\n",
    "\n",
    "\n",
    "    \n",
    "def generate_plot(name, frequency):\n",
    "    frequency = float(frequency)\n",
    "    \n",
    "    # Generate sine wave\n",
    "    x = np.linspace(0, 10, 500)\n",
    "    y = np.sin(frequency * x)\n",
    "    \n",
    "    # Create matplotlib figure\n",
    "    fig, ax = plt.subplots()\n",
    "    ax.plot(x, y)\n",
    "    ax.set_title(f\"{name}'s sine wave at {frequency} Hz\")\n",
    "    \n",
    "    # Save figure to BytesIO object\n",
    "    buf = BytesIO()\n",
    "    fig.savefig(buf, format=\"png\")\n",
    "    buf.seek(0)\n",
    "    plt.close(fig)\n",
    "    \n",
    "    # Convert BytesIO to PIL image\n",
    "    img = Image.open(buf)\n",
    "    \n",
    "    return f\"Hello {name}! Here is your sine wave:\", img\n",
    "\n",
    "with gr.Blocks() as demo:\n",
    "    for key, value in paramDict.items():\n",
    "        with gr.Row():\n",
    "            if value[\"type\"] == \"text\":\n",
    "                name_input = gr.Textbox(label=key.capitalize(), info=value[\"info\"])\n",
    "            elif value[\"type\"] == \"number\":\n",
    "                freq_input = gr.Number(label=key.capitalize(), value=value[\"value\"], info=value[\"info\"])\n",
    "            plot_button = gr.Button(\"Generate Plot\")\n",
    "    output_text = gr.Textbox(label=\"Output\")\n",
    "    output_plot = gr.Image(type=\"pil\", label=\"Plot\")\n",
    "    \n",
    "    plot_button.click(generate_plot, inputs=[name_input, freq_input], outputs=[output_text, output_plot])\n",
    "\n",
    "demo.launch(share=True)"
   ]
  },
  {
   "cell_type": "code",
   "execution_count": null,
   "id": "c38ff8b8",
   "metadata": {},
   "outputs": [],
   "source": [
    "import ipywidgets as widgets\n",
    "from IPython.display import display, clear_output\n",
    "import matplotlib.pyplot as plt\n",
    "import numpy as np\n",
    "\n",
    "# Create widgets\n",
    "name_input = widgets.Text(description=\"Name:\")\n",
    "freq_input = widgets.FloatText(description=\"Frequency:\", value=1.0)\n",
    "plot_button = widgets.Button(description=\"Plot\")\n",
    "output = widgets.Output()\n",
    "\n",
    "def on_plot_click(b):\n",
    "    with output:\n",
    "        clear_output()  # clear previous plot/text\n",
    "        name = name_input.value\n",
    "        freq = freq_input.value\n",
    "        # Display info\n",
    "        print(f\"Hello {name}, freq = {freq} Hz\")\n",
    "        # Plot sine wave\n",
    "        x = np.linspace(0, 10, 500)\n",
    "        y = np.sin(freq * x)\n",
    "        plt.plot(x, y)\n",
    "        plt.title(f\"{name}'s sine wave at {freq} Hz\")\n",
    "        plt.show()\n",
    "\n",
    "plot_button.on_click(on_plot_click)\n",
    "\n",
    "# Display inline\n",
    "display(name_input, freq_input, plot_button, output)"
   ]
  },
  {
   "cell_type": "code",
   "execution_count": null,
   "id": "a10a31f9",
   "metadata": {},
   "outputs": [],
   "source": [
    "radialCheckerboard = pgl.radialCheckerboard(pgl,type='sliding',theta=0,innerRadius=0,outerRadius=6,radialWidth=360,checkRadialWidth=7.5,temporalSquareWave=False)\n",
    "for i in range(10*120):\n",
    "    radialCheckerboard.display()\n",
    "    pgl.flush()\n",
    "print(radialCheckerboard)\n"
   ]
  },
  {
   "cell_type": "code",
   "execution_count": null,
   "id": "1282e956",
   "metadata": {},
   "outputs": [],
   "source": [
    "from PIL import Image\n",
    "im = Image.open(\"testimage.jpg\")\n",
    "pgl.clearScreen(0)\n",
    "pgl.imageDisplay(im)\n",
    "pgl.flush()\n"
   ]
  },
  {
   "cell_type": "code",
   "execution_count": null,
   "id": "29495f77",
   "metadata": {},
   "outputs": [],
   "source": [
    "#from pgl import pglEyelink\n",
    "from pgl import pglEyelinkCustomDisplay\n",
    "#eyelink = pglEyelink(pgl)\n",
    "#customDisplay = pglEyelinkCustomDisplay(pgl,eyelink)\n",
    "\n",
    "customDisplay = pglEyelinkCustomDisplay(pgl)\n",
    "\n",
    "customDisplay.clear_cal_display()\n",
    "customDisplay.draw_line(00,0,500,500,0)\n",
    "customDisplay.draw_lozenge(100,200,100,300,0)\n",
    "customDisplay.draw_cal_target(300,300)\n",
    "#customDisplay.get_input_key()\n",
    "#pgl.flush()"
   ]
  },
  {
   "cell_type": "code",
   "execution_count": null,
   "id": "8b4d60bd",
   "metadata": {},
   "outputs": [],
   "source": [
    "eyelink = pglEyelink(pgl)"
   ]
  },
  {
   "cell_type": "code",
   "execution_count": null,
   "id": "5af1601f",
   "metadata": {},
   "outputs": [],
   "source": [
    "pgl.devicesPoll()\n",
    "eyelink.calibrate()\n",
    "#eyelink.close()"
   ]
  },
  {
   "cell_type": "code",
   "execution_count": null,
   "id": "5eca2e8a",
   "metadata": {},
   "outputs": [],
   "source": [
    "eyelink.close()"
   ]
  },
  {
   "cell_type": "code",
   "execution_count": null,
   "id": "435c4704",
   "metadata": {},
   "outputs": [],
   "source": [
    "from pgl import pglKeyboard\n",
    "keyboardDevice = pglKeyboard()\n",
    "#keyboardDevice.stopListener()"
   ]
  },
  {
   "cell_type": "code",
   "execution_count": null,
   "id": "60d8e307",
   "metadata": {},
   "outputs": [],
   "source": [
    "#pgl.dots([1,3,4],[2,5,8],color=[[1,0,0],[0,1,0],[0,0,1]])\n",
    "#color=[[1,0,0],[0,1,0],[0,0,1],[1,0,0]]\n",
    "#rdk = pglRandomDotStimulus(pgl,width=10, height=10)\n",
    "pgl.commandRecord()\n",
    "rdk = pgl.randomDots(width=10, height=10, noiseType='movshon')\n",
    "print(rdk)\n",
    "for i in range(60*10):\n",
    "    rdk.display(direction=181, coherence=0.4, speed=7.0)\n",
    "    pgl.flush()\n",
    "#pgl.flush()\n",
    "pgl.commandRecordStop()\n",
    "pgl.commandList()\n"
   ]
  },
  {
   "cell_type": "code",
   "execution_count": null,
   "id": "f13e414c",
   "metadata": {},
   "outputs": [],
   "source": [
    "pgl.commandReplay()"
   ]
  },
  {
   "cell_type": "code",
   "execution_count": null,
   "id": "928216b0",
   "metadata": {},
   "outputs": [],
   "source": [
    "#pgl.verbose=1\n",
    "pgl.frameGrabInit()\n",
    "checkerboard = pgl.checkerboard(width=1)\n",
    "checkerboard.display()\n",
    "pgl.flush()\n",
    "\n",
    "x = pgl.frameGrab()\n",
    "print(x.shape)\n",
    "plt.imshow(x[:,:,:])\n",
    "pgl.frameGrabEnd()\n",
    "#print(x[:,:,3])"
   ]
  },
  {
   "cell_type": "code",
   "execution_count": null,
   "id": "cae2f22e",
   "metadata": {},
   "outputs": [],
   "source": [
    "#checkerboard.display(stimulusPhase = 0)\n",
    "#pgl.flush()\n",
    "#checkerboard.temporalSquareWave = True\n",
    "#pgl.commandRecord()\n",
    "checkerboard = pgl.checkerboard(type='sliding',x=-5,checkWidth=1, checkHeight=1,width=10,temporalFrequency=1)\n",
    "for i in range(5*60): \n",
    "    checkerboard.display()\n",
    "    pgl.flush()\n",
    "#pgl.commandRecordStop()\n",
    "#pgl.commandList()"
   ]
  },
  {
   "cell_type": "code",
   "execution_count": null,
   "id": "183ff7bd",
   "metadata": {},
   "outputs": [],
   "source": [
    "pgl.commandReplay()"
   ]
  },
  {
   "cell_type": "code",
   "execution_count": null,
   "id": "bfe673cd",
   "metadata": {},
   "outputs": [],
   "source": [
    "pgl.setTransformRotation(135)"
   ]
  },
  {
   "cell_type": "code",
   "execution_count": null,
   "id": "5af040a8",
   "metadata": {},
   "outputs": [],
   "source": [
    "pgl.commandRecord()\n",
    "bar = pgl.bar(width=3.8, speed=2.7, dir=104)\n",
    "for i in range(10*60):\n",
    "    bar.display()\n",
    "    pgl.flush()\n",
    "pgl.flush()\n",
    "pgl.commandRecordStop()"
   ]
  },
  {
   "cell_type": "code",
   "execution_count": null,
   "id": "33248576",
   "metadata": {},
   "outputs": [],
   "source": [
    "device = pglTrackPixx3(pgl)\n",
    "#datapixx.getError()\n",
    "device.dp.TPxSetLEDIntensity(8)\n",
    "#print(device.dp.TPxGetLEDIntensity())\n",
    "device.calibrateEyeImage()\n",
    "#device.getCameraImage()\n",
    "#Image.fromarray(device.getCameraImage()).show()"
   ]
  },
  {
   "cell_type": "code",
   "execution_count": null,
   "id": "b0e541e0",
   "metadata": {},
   "outputs": [],
   "source": [
    "\n",
    "#from pypixxlib.propixx import PROPixx\n",
    "#pgl.verbose=1\n",
    "#projector = pglProPixx()\n",
    "#datapixx = pglDataPixx()\n",
    "\n",
    "for i in range(1000):\n",
    "    events = pgl.devicesPoll()\n",
    "    #events = datapixx.poll()\n",
    "    if events is not None:\n",
    "        for event in events:\n",
    "            print(event)\n",
    "    pgl.waitSecs(0.1)\n",
    "#datapixx.setupDigitalOutput()\n",
    "#datapixx.test()\n",
    "#for i in range(5):\n",
    "#    print(f\"Polling DataPixx: {i}\")\n",
    "    #datapixx.poll()\n",
    "    #pgl.waitSecs(1)\n",
    "\n",
    "\n",
    "#device.setRearProjection(True)\n",
    "#from pypixxlib.propixx import PROPixx\n",
    "#propixx = PROPixx()\n",
    "#propixx.getDlpSequencerProgram()\n",
    "#projector.status()\n",
    "#print(device)\n",
    "#from pgl.pglDevice import pglDevice, pglProPixx\n",
    "#huh = pglDevice(pgl,'huh')\n",
    "#duh = pglProPixx(pgl)"
   ]
  },
  {
   "cell_type": "code",
   "execution_count": null,
   "id": "cefe8cca",
   "metadata": {},
   "outputs": [],
   "source": [
    "from PIL import Image, ImageDraw, ImageFont\n",
    "import numpy as np\n",
    "\n",
    "# Load Helvetica (on macOS)\n",
    "font_path = \"/System/Library/Fonts/Helvetica.ttc\"\n",
    "font_size = 40\n",
    "font = ImageFont.truetype(font_path, font_size)\n",
    "\n",
    "# The text to render\n",
    "text = \"Hello World\"\n",
    "padding = 10  # Add some padding around text\n",
    "\n",
    "# Create a dummy image to measure text size\n",
    "dummy_img = Image.new(\"RGBA\", (1, 1))\n",
    "draw = ImageDraw.Draw(dummy_img)\n",
    "\n",
    "# Get bounding box of the text\n",
    "bbox = draw.textbbox((0, 0), text, font=font)\n",
    "text_width = bbox[2] - bbox[0]\n",
    "text_height = bbox[3] - bbox[1]\n",
    "\n",
    "# Create an image with transparent background\n",
    "img = Image.new(\"RGBA\", (text_width + 2 * padding, text_height + 2 * padding), (0, 0, 0, 0))\n",
    "draw = ImageDraw.Draw(img)\n",
    "\n",
    "# Draw anti-aliased white text\n",
    "draw.text((padding, padding), text, font=font, fill=(255, 255, 255, 255))\n",
    "\n",
    "# Convert to NumPy array\n",
    "bitmap = np.array(img)\n",
    "\n",
    "# Debug: print shape and preview alpha channel\n",
    "print(\"Bitmap shape:\", bitmap.shape)\n",
    "print(\"Alpha channel:\")\n",
    "print(bitmap[:, :, 3])\n",
    "\n"
   ]
  },
  {
   "cell_type": "code",
   "execution_count": null,
   "id": "f7f567ce",
   "metadata": {},
   "outputs": [],
   "source": [
    "\n",
    "#pgl.text(\"hello world\",line=1,fontName = \"Futura\",fontSize=30,color=(0,0,0,1))\n",
    "#pgl.text(\"This is the next line\",x=0,line=-2)\n",
    "pgl.verbose=1\n",
    "textImage = pgl.textCreate(\"And the next line of text, that I want to draw\")\n",
    "pgl.text(textImage,x=0,line=-2)\n",
    "pgl.text(\"next line\")\n",
    "pgl.text(\"wow\")\n",
    "\n",
    "pgl.flush()"
   ]
  },
  {
   "cell_type": "code",
   "execution_count": null,
   "id": "91d4e804",
   "metadata": {},
   "outputs": [],
   "source": [
    "#pgl.line(0,0,1920,1080,(1,0,0),units=\"pix\")\n",
    "pgl.arc(0,0,innerRadius=0,outerRadius=10,color=(0,1,0,1))\n",
    "\n",
    "#pgl.line(1920,0,0,1080,(0,0,1),units=\"pix\")\n",
    "pgl.flush()\n",
    "#pgl.printCommandResults()"
   ]
  },
  {
   "cell_type": "code",
   "execution_count": null,
   "id": "a081bbff",
   "metadata": {},
   "outputs": [],
   "source": [
    "pgl = pglLibrary()\n",
    "pgl.open(0,880, 600)\n",
    "#pgl.open()\n",
    "pgl.visualAngle(57,40,30)\n"
   ]
  },
  {
   "cell_type": "code",
   "execution_count": null,
   "id": "eed225df",
   "metadata": {},
   "outputs": [],
   "source": [
    "#pgl.clearScreen((0.5, 0.5, 0.5))  # Clear the screen with a gray color\n",
    "#pgl.verbose=1\n",
    "pgl.clearScreen((0.5, 0.5, 0.5))  # Clear the screen with a gray color\n",
    "grating = pgl.grating(spatialFrequency=0.1,phase=0, contrast=1,temporalFrequency=4.0,direction=-1)\n",
    "#gabor = pgl.gabor(spatialFrequency=1,orientation=45,width=40,height=30,phase=0,contrast=0.8)\n",
    "#gabor.print()\n"
   ]
  },
  {
   "cell_type": "code",
   "execution_count": null,
   "id": "8cabc2f0",
   "metadata": {},
   "outputs": [],
   "source": [
    "\n",
    "pgl.profileModeClearAll()\n",
    "pgl.profileMode = 2\n",
    "#pgl.batchStart()\n",
    "for i in range(360):\n",
    "    grating.display()\n",
    "    pgl.flush()\n",
    "pgl.profileMode = 0\n",
    "#pgl.flush()\n",
    "#pgl.waitSecs(1)\n",
    "#pgl.batchRun()\n",
    "#pgl.waitSecs(2)\n",
    "#pgl.batchEnd()\n",
    "#pgl.waitSecs(2)\n",
    "\n",
    "pgl.profileModeDisplay()"
   ]
  },
  {
   "cell_type": "code",
   "execution_count": null,
   "id": "d91e45ce",
   "metadata": {},
   "outputs": [],
   "source": [
    "#gabor.print()\n",
    "gabor.display()\n",
    "pgl.flush()\n",
    "\n"
   ]
  },
  {
   "cell_type": "code",
   "execution_count": null,
   "id": "fdfc1aa6",
   "metadata": {},
   "outputs": [],
   "source": [
    "pgl.profileModeClearAll()\n",
    "#pgl.fullScreen(True)\n",
    "_,_,frameRate,_ =pgl.getResolution()\n",
    "print(frameRate)\n",
    "pgl.profileMode = 2\n",
    "#print(pgl.profileMode)\n",
    "#print(pgl.profileModeBufferSize )\n",
    "pgl.clearScreen([0,0,0])\n",
    "pgl.flush()\n",
    "for i in range(frameRate*1):\n",
    "    pgl.dots(np.random.uniform(-20,20),np.random.uniform(-15,15))\n",
    "    #pgl.printCommandResults()\n",
    "    pgl.flush()\n",
    "pgl.profileMode = 0\n",
    "#pgl.fullScreen(False)\n",
    "pgl.profileModeDisplay()\n"
   ]
  },
  {
   "cell_type": "code",
   "execution_count": null,
   "id": "46afedf7",
   "metadata": {},
   "outputs": [],
   "source": [
    "_,_,frameRate,_ =pgl.getResolution()\n",
    "pgl.profileModeClearAll()\n",
    "pgl.batchStart()\n",
    "for i in range(frameRate*5):\n",
    "    #im.display()\n",
    "    pgl.dots(np.random.uniform(-20,20),np.random.uniform(-15,15))\n",
    "    #pgl.printCommandResults()\n",
    "    #pgl.printCommandResults()\n",
    "\n",
    "\n",
    "    pgl.flush()\n",
    "    #pgl.printCommandResults()\n",
    "#pgl.batchRun()\n",
    "#pgl.batchEnd()"
   ]
  },
  {
   "cell_type": "code",
   "execution_count": null,
   "id": "a3a4ed41",
   "metadata": {},
   "outputs": [],
   "source": [
    "pgl.batchRun()\n",
    "pgl.batchEnd()\n",
    "pgl.profileModeDisplay()"
   ]
  },
  {
   "cell_type": "code",
   "execution_count": null,
   "id": "09bc7c23",
   "metadata": {},
   "outputs": [],
   "source": [
    "imData = Image.open('/Users/justin/proj/pgl/testimage.jpg')\n",
    "#pgl.visualAngle(57,40,30)\n",
    "pgl.imageDisplay(imData)\n",
    "pgl.flush()"
   ]
  },
  {
   "cell_type": "markdown",
   "id": "a33aae0c",
   "metadata": {},
   "source": [
    "Install pgl library"
   ]
  },
  {
   "cell_type": "markdown",
   "id": "358276c8",
   "metadata": {},
   "source": [
    "Instal screen and task"
   ]
  },
  {
   "cell_type": "code",
   "execution_count": null,
   "id": "c061716d",
   "metadata": {},
   "outputs": [],
   "source": [
    "#init screen\n",
    "s = pglScreen();\n",
    "s.helloworld();\n",
    "\n",
    "# init task\n",
    "t = pglTask();\n",
    "t.helloworld();\n"
   ]
  },
  {
   "cell_type": "code",
   "execution_count": null,
   "id": "b58c1d68",
   "metadata": {},
   "outputs": [],
   "source": [
    "# start MATLAB\n",
    "import matlab.engine\n",
    "eng = matlab.engine.start_matlab()\n",
    "\n",
    "# add mgl to path\n",
    "eng.addpath(eng.genpath(\"/Users/justin/proj/mgl\"),nargout=0)\n"
   ]
  },
  {
   "cell_type": "code",
   "execution_count": null,
   "id": "c0a268b3",
   "metadata": {},
   "outputs": [],
   "source": [
    "# mgl from python using mgl engine test\n",
    "eng.eval(\"mglOpen;\",nargout=0)\n",
    "eng.eval(\"mglVisualAngleCoordinates(57,[16,24]);\",nargout=0)\n",
    "eng.eval(\"mglClearScreen([0.3 0.7 0.2]);\",nargout=0)\n",
    "eng.eval(\"mglTextDraw('Hello World!',[0 0]);\",nargout=0)\n",
    "eng.eval(\"mglFlush;\",nargout=0)\n",
    "eng.eval(\"mglWaitSecs(3);\",nargout=0)\n",
    "eng.eval(\"mglClose;\",nargout=0)\n",
    "\n"
   ]
  }
 ],
 "metadata": {
  "kernelspec": {
   "display_name": "gru",
   "language": "python",
   "name": "python3"
  },
  "language_info": {
   "codemirror_mode": {
    "name": "ipython",
    "version": 3
   },
   "file_extension": ".py",
   "mimetype": "text/x-python",
   "name": "python",
   "nbconvert_exporter": "python",
   "pygments_lexer": "ipython3",
   "version": "3.12.3"
  }
 },
 "nbformat": 4,
 "nbformat_minor": 5
}
