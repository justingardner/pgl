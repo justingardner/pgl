{
 "cells": [
  {
   "cell_type": "code",
   "execution_count": 3,
   "id": "ead9916e",
   "metadata": {},
   "outputs": [],
   "source": [
    "from pypixxlib.datapixx import DATAPixx3\n",
    "from pypixxlib.propixx import PROPixx\n",
    "from pypixxlib._libdpx import DPxOpen"
   ]
  },
  {
   "cell_type": "code",
   "execution_count": 7,
   "id": "0e5393d7",
   "metadata": {},
   "outputs": [
    {
     "name": "stdout",
     "output_type": "stream",
     "text": [
      "['__abstractmethods__', '__class__', '__delattr__', '__dict__', '__dir__', '__doc__', '__eq__', '__firstlineno__', '__format__', '__ge__', '__getattribute__', '__getstate__', '__gt__', '__hash__', '__init__', '__init_subclass__', '__le__', '__lt__', '__module__', '__ne__', '__new__', '__reduce__', '__reduce_ex__', '__repr__', '__setattr__', '__sizeof__', '__static_attributes__', '__str__', '__subclasshook__', '__weakref__', '_abc_impl', '_updateInformation', 'active', 'applyCalibration', 'assembly_revision', 'close', 'custom_dev_name', 'date_shipped', 'device_type', 'devsel', 'expiration_date', 'firmware_revision', 'get12vCurrent', 'get12vPower', 'get12vVoltage', 'get3dCrosstalk', 'get3dCrosstalkLR', 'get3dCrosstalkRL', 'get5vCurrent', 'get5vPower', 'get5vVoltage', 'getAppliedLEDCurrents', 'getAssemblyRevision', 'getAvailableSubSystem', 'getCalibrationCurrents', 'getCoreTemperature', 'getDisplayResolution', 'getDlpSequencerProgram', 'getFanPwm', 'getFanSpeed', 'getFirmwareRevision', 'getFrameTemperature', 'getFrameTemperature2', 'getInfo', 'getLedCurrent', 'getLedIntensity', 'getMarker', 'getMonitorCableLink', 'getName', 'getRamSize', 'getRasterLinePixelSync', 'getSerialNumber', 'getTemperature', 'getTime', 'getVideoDotFrequency', 'getVideoHorizontalLineFrequency', 'getVideoHorizontalTotal', 'getVideoLine', 'getVideoMode', 'getVideoSource', 'getVideoVerticalFrameFrequency', 'getVideoVerticalFramePeriod', 'getVideoVerticalTotal', 'getVisibleLinePerVerticalFrame', 'getVisiblePixelsPerHorizontalLine', 'getVoltageMonitor', 'id_number', 'identification', 'isActive', 'isCeilingMount', 'isHotSpotCorrection', 'isLampLEDMode', 'isPixelSyncLineBlackEnabled', 'isPixelSyncOnSingleLineEnabled', 'isQuietMode', 'isReady', 'isRearProjection', 'isSequencerEnabled', 'isSleepMode', 'isVesaFreeRun', 'isVideoOnDualLinkDvi', 'isVideoOnDvi', 'isVideoTimingDisplayable', 'isVideoTimingTooHigh', 'isVideoVesaBluelineEnabled', 'led_intensity', 'name', 'open', 'ram_size', 'readRam', 'restoreLinearCLUT', 'serial_number', 'set3dCrosstalk', 'set3dCrosstalkLR', 'set3dCrosstalkRL', 'setActive', 'setCLUT', 'setCeilingMountMode', 'setCustomStartupConfig', 'setDlpSequencerProgram', 'setHotSpotCorrection', 'setLampLED', 'setLedIntensity', 'setMarker', 'setPixelSyncLineBlack', 'setPixelSyncOnSingleLine', 'setQuad4x3d', 'setQuietMode', 'setRasterLinePixelSync', 'setRearProjectionMode', 'setSleepMode', 'setVesaBlueline', 'setVesaFreeRun', 'setVideoMode', 'setVideoSource', 'setVideoVesaBlueline', 'subsystems', 'updateRegCacheAfterPixelSync', 'updateRegCacheAfterVideoSync', 'updateRegisterCache', 'writeRam', 'writeRegCacheAfterPixelSync', 'writeRegCacheAfterVideoSync', 'writeRegisterCache']\n"
     ]
    },
    {
     "data": {
      "text/plain": [
       "'RGB 120Hz'"
      ]
     },
     "execution_count": 7,
     "metadata": {},
     "output_type": "execute_result"
    }
   ],
   "source": [
    "device = PROPixx()\n",
    "print(dir(device))\n",
    "device.getDlpSequencerProgram()"
   ]
  },
  {
   "cell_type": "code",
   "execution_count": null,
   "id": "22a327e3",
   "metadata": {},
   "outputs": [],
   "source": [
    "from psychopy import visual, event, core, logging\n",
    "from psychopy.hardware import pixx\n",
    "\n",
    "win = visual.Window(size=(1024, 768), fullscr=True, monitor='testMonitor', units='pix', \n",
    "                    screen=0, allowGUI=False, stereo=True)\n",
    "\n"
   ]
  },
  {
   "cell_type": "code",
   "execution_count": null,
   "id": "cfadfa28",
   "metadata": {},
   "outputs": [
    {
     "name": "stdout",
     "output_type": "stream",
     "text": [
      "<pypixxlib.datapixx.DATAPixx3 object at 0x112198da0>\n"
     ]
    }
   ],
   "source": [
    "\n",
    "device = DATAPixx3()\n",
    "sound = DATAPixx3()\n",
    "#proPixx = PROPixx()\n",
    "#DPxOpen()\n",
    "print(sound)"
   ]
  },
  {
   "cell_type": "code",
   "execution_count": null,
   "id": "2828cad9",
   "metadata": {},
   "outputs": [],
   "source": []
  },
  {
   "cell_type": "code",
   "execution_count": 23,
   "id": "022fa8cd",
   "metadata": {},
   "outputs": [
    {
     "name": "stdout",
     "output_type": "stream",
     "text": [
      "Button pressed! Button code: 65521, Button ID: white, Time:5.14\n",
      "Button pressed! Button code: 65520, Button ID: button release, Time:5.4\n",
      "Button pressed! Button code: 65522, Button ID: yellow, Time:12.37\n",
      "Button pressed! Button code: 65520, Button ID: button release, Time:12.56\n",
      "Button pressed! Button code: 65524, Button ID: green, Time:13.57\n",
      "Button pressed! Button code: 65520, Button ID: button release, Time:13.79\n",
      "Button pressed! Button code: 65521, Button ID: white, Time:16.34\n",
      "Button pressed! Button code: 65520, Button ID: button release, Time:16.55\n",
      "Button pressed! Button code: 65522, Button ID: yellow, Time:16.93\n",
      "Button pressed! Button code: 65520, Button ID: button release, Time:17.14\n",
      "Button pressed! Button code: 65524, Button ID: green, Time:17.48\n",
      "Button pressed! Button code: 65520, Button ID: button release, Time:17.68\n",
      "Button pressed! Button code: 65521, Button ID: white, Time:18.01\n",
      "Button pressed! Button code: 65520, Button ID: button release, Time:18.22\n",
      "Button pressed! Button code: 65522, Button ID: yellow, Time:18.51\n",
      "Button pressed! Button code: 65520, Button ID: button release, Time:18.67\n",
      "Button pressed! Button code: 65524, Button ID: green, Time:19.0\n",
      "Button pressed! Button code: 65520, Button ID: button release, Time:19.17\n",
      "Button pressed! Button code: 65528, Button ID: blue, Time:19.92\n"
     ]
    }
   ],
   "source": [
    "device = DATAPixx3()\n",
    "buttonCodes = {65528:'blue', 65522:'yellow', 65521:'red', 65524:'green', 65521:'white', 65520:'button release'}\n",
    "exitButton = 'blue'\n",
    "myLog = device.din.setDinLog(12e6, 1000)\n",
    "device.din.startDinLog()\n",
    "device.updateRegisterCache()\n",
    "startTime = device.getTime()\n",
    "finished = False\n",
    "\n",
    "\n",
    "#let's create a loop which checks the schedule at 0.25 s intervals for button presses.\n",
    "#Any time a button press is found, we print the timestamp and button pressed.\n",
    "#If a designated exit button is pressed, we disconnect.\n",
    "while finished == False:\n",
    "    #read device status\n",
    "    device.updateRegisterCache()\n",
    "    device.din.getDinLogStatus(myLog)\n",
    "    newEvents = myLog[\"newLogFrames\"]\n",
    "\n",
    "    if newEvents > 0:\n",
    "        eventList = device.din.readDinLog(myLog, newEvents)\n",
    "\n",
    "        for x in eventList:\n",
    "           if x[1] in buttonCodes:\n",
    "                #look up the name of the button\n",
    "                buttonID = buttonCodes[x[1]]\n",
    "\n",
    "                #get the time of the press, since we started logging\n",
    "                time = round(x[0] - startTime, 2)\n",
    "                printStr = 'Button pressed! Button code: ' + str(x[1]) + ', Button ID: ' + buttonID + ', Time:' + str(time)\n",
    "                print(printStr)\n",
    "                if buttonID == exitButton:\n",
    "                    finished = True\n",
    "    #core.wait(0.25)\n",
    "\n",
    "#Stop logging\n",
    "device.din.stopDinLog()\n",
    "device.updateRegisterCache()"
   ]
  },
  {
   "cell_type": "code",
   "execution_count": null,
   "id": "b89eadf7",
   "metadata": {},
   "outputs": [],
   "source": [
    "help(d.din)"
   ]
  }
 ],
 "metadata": {
  "kernelspec": {
   "display_name": "gru",
   "language": "python",
   "name": "python3"
  },
  "language_info": {
   "codemirror_mode": {
    "name": "ipython",
    "version": 3
   },
   "file_extension": ".py",
   "mimetype": "text/x-python",
   "name": "python",
   "nbconvert_exporter": "python",
   "pygments_lexer": "ipython3",
   "version": "3.13.5"
  }
 },
 "nbformat": 4,
 "nbformat_minor": 5
}
